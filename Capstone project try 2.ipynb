{
 "cells": [
  {
   "cell_type": "code",
   "execution_count": 13,
   "id": "d3556393",
   "metadata": {},
   "outputs": [],
   "source": [
    "# Asthetics\n",
    "import warnings\n",
    "import sklearn.exceptions\n",
    "warnings.filterwarnings('ignore', category=DeprecationWarning)\n",
    "warnings.filterwarnings('ignore', category=FutureWarning)\n",
    "warnings.filterwarnings('ignore', category=UserWarning)\n",
    "warnings.filterwarnings(\"ignore\", category=sklearn.exceptions.UndefinedMetricWarning)\n",
    "\n",
    "# General\n",
    "from tqdm import tqdm\n",
    "import pandas as pd\n",
    "import numpy as np\n",
    "import os\n",
    "import random\n",
    "pd.set_option('display.max_columns', None)\n",
    "\n",
    "# Visualisation\n",
    "import matplotlib.pyplot as plt\n",
    "import seaborn as sns\n",
    "%matplotlib inline\n",
    "sns.set(style=\"darkgrid\")\n",
    "\n",
    "# Machine Learning\n",
    "# Utils\n",
    "from sklearn.model_selection import cross_val_score, RepeatedStratifiedKFold, StratifiedKFold\n",
    "from sklearn import preprocessing\n",
    "#Feature Selection\n",
    "from sklearn.feature_selection import chi2, f_classif, f_regression, mutual_info_classif\n",
    "from sklearn.feature_selection import mutual_info_regression, SelectKBest, SelectPercentile\n",
    "from sklearn.feature_selection import VarianceThreshold\n",
    "# Models\n",
    "from sklearn.naive_bayes import GaussianNB\n",
    "from sklearn.discriminant_analysis import QuadraticDiscriminantAnalysis\n",
    "from sklearn.linear_model import LogisticRegression\n",
    "from sklearn.ensemble import RandomForestClassifier\n",
    "from lightgbm import LGBMClassifier\n",
    "#!pip install imblearn\n",
    "from imblearn.ensemble import BalancedBaggingClassifier, BalancedRandomForestClassifier\n",
    "# Unsupervised Models\n",
    "from sklearn.cluster import KMeans\n",
    "#Metrics\n",
    "from sklearn.metrics import roc_auc_score"
   ]
  },
  {
   "cell_type": "code",
   "execution_count": 2,
   "id": "ce29a810",
   "metadata": {},
   "outputs": [],
   "source": [
    "train = pd.read_csv(\"C:/Users/ayush.chaturvedi/Downloads/train_r7VTVyN_Ko9cGPz.csv\")\n",
    "test = pd.read_csv(\"C:/Users/ayush.chaturvedi/Downloads/test_ZkjAHF8_2shxaJa_vZtSmPc.csv\")"
   ]
  },
  {
   "cell_type": "code",
   "execution_count": 3,
   "id": "be73be0c",
   "metadata": {},
   "outputs": [
    {
     "data": {
      "text/html": [
       "<div>\n",
       "<style scoped>\n",
       "    .dataframe tbody tr th:only-of-type {\n",
       "        vertical-align: middle;\n",
       "    }\n",
       "\n",
       "    .dataframe tbody tr th {\n",
       "        vertical-align: top;\n",
       "    }\n",
       "\n",
       "    .dataframe thead th {\n",
       "        text-align: right;\n",
       "    }\n",
       "</style>\n",
       "<table border=\"1\" class=\"dataframe\">\n",
       "  <thead>\n",
       "    <tr style=\"text-align: right;\">\n",
       "      <th></th>\n",
       "      <th>ID</th>\n",
       "      <th>Office_PIN</th>\n",
       "      <th>Application_Receipt_Date</th>\n",
       "      <th>Applicant_City_PIN</th>\n",
       "      <th>Applicant_Gender</th>\n",
       "      <th>Applicant_BirthDate</th>\n",
       "      <th>Applicant_Marital_Status</th>\n",
       "      <th>Applicant_Occupation</th>\n",
       "      <th>Applicant_Qualification</th>\n",
       "      <th>Manager_DOJ</th>\n",
       "      <th>...</th>\n",
       "      <th>Manager_Status</th>\n",
       "      <th>Manager_Gender</th>\n",
       "      <th>Manager_DoB</th>\n",
       "      <th>Manager_Num_Application</th>\n",
       "      <th>Manager_Num_Coded</th>\n",
       "      <th>Manager_Business</th>\n",
       "      <th>Manager_Num_Products</th>\n",
       "      <th>Manager_Business2</th>\n",
       "      <th>Manager_Num_Products2</th>\n",
       "      <th>Business_Sourced</th>\n",
       "    </tr>\n",
       "  </thead>\n",
       "  <tbody>\n",
       "    <tr>\n",
       "      <th>0</th>\n",
       "      <td>FIN1000001</td>\n",
       "      <td>842001</td>\n",
       "      <td>4/16/2007</td>\n",
       "      <td>844120.0</td>\n",
       "      <td>M</td>\n",
       "      <td>12/19/1971</td>\n",
       "      <td>M</td>\n",
       "      <td>Others</td>\n",
       "      <td>Graduate</td>\n",
       "      <td>11/10/2005</td>\n",
       "      <td>...</td>\n",
       "      <td>Confirmation</td>\n",
       "      <td>M</td>\n",
       "      <td>2/17/1978</td>\n",
       "      <td>2.0</td>\n",
       "      <td>1.0</td>\n",
       "      <td>335249.0</td>\n",
       "      <td>28.0</td>\n",
       "      <td>335249.0</td>\n",
       "      <td>28.0</td>\n",
       "      <td>0</td>\n",
       "    </tr>\n",
       "    <tr>\n",
       "      <th>1</th>\n",
       "      <td>FIN1000002</td>\n",
       "      <td>842001</td>\n",
       "      <td>4/16/2007</td>\n",
       "      <td>844111.0</td>\n",
       "      <td>M</td>\n",
       "      <td>2/17/1983</td>\n",
       "      <td>S</td>\n",
       "      <td>Others</td>\n",
       "      <td>Class XII</td>\n",
       "      <td>11/10/2005</td>\n",
       "      <td>...</td>\n",
       "      <td>Confirmation</td>\n",
       "      <td>M</td>\n",
       "      <td>2/17/1978</td>\n",
       "      <td>2.0</td>\n",
       "      <td>1.0</td>\n",
       "      <td>335249.0</td>\n",
       "      <td>28.0</td>\n",
       "      <td>335249.0</td>\n",
       "      <td>28.0</td>\n",
       "      <td>1</td>\n",
       "    </tr>\n",
       "    <tr>\n",
       "      <th>2</th>\n",
       "      <td>FIN1000003</td>\n",
       "      <td>800001</td>\n",
       "      <td>4/16/2007</td>\n",
       "      <td>844101.0</td>\n",
       "      <td>M</td>\n",
       "      <td>1/16/1966</td>\n",
       "      <td>M</td>\n",
       "      <td>Business</td>\n",
       "      <td>Class XII</td>\n",
       "      <td>5/27/2006</td>\n",
       "      <td>...</td>\n",
       "      <td>Confirmation</td>\n",
       "      <td>M</td>\n",
       "      <td>3/3/1969</td>\n",
       "      <td>0.0</td>\n",
       "      <td>0.0</td>\n",
       "      <td>357184.0</td>\n",
       "      <td>24.0</td>\n",
       "      <td>357184.0</td>\n",
       "      <td>24.0</td>\n",
       "      <td>0</td>\n",
       "    </tr>\n",
       "    <tr>\n",
       "      <th>3</th>\n",
       "      <td>FIN1000004</td>\n",
       "      <td>814112</td>\n",
       "      <td>4/16/2007</td>\n",
       "      <td>814112.0</td>\n",
       "      <td>M</td>\n",
       "      <td>2/3/1988</td>\n",
       "      <td>S</td>\n",
       "      <td>Salaried</td>\n",
       "      <td>Class XII</td>\n",
       "      <td>8/21/2003</td>\n",
       "      <td>...</td>\n",
       "      <td>Confirmation</td>\n",
       "      <td>F</td>\n",
       "      <td>8/14/1978</td>\n",
       "      <td>0.0</td>\n",
       "      <td>0.0</td>\n",
       "      <td>318356.0</td>\n",
       "      <td>22.0</td>\n",
       "      <td>318356.0</td>\n",
       "      <td>22.0</td>\n",
       "      <td>0</td>\n",
       "    </tr>\n",
       "    <tr>\n",
       "      <th>4</th>\n",
       "      <td>FIN1000005</td>\n",
       "      <td>814112</td>\n",
       "      <td>4/16/2007</td>\n",
       "      <td>815351.0</td>\n",
       "      <td>M</td>\n",
       "      <td>7/4/1985</td>\n",
       "      <td>M</td>\n",
       "      <td>Others</td>\n",
       "      <td>Class XII</td>\n",
       "      <td>5/8/2006</td>\n",
       "      <td>...</td>\n",
       "      <td>Confirmation</td>\n",
       "      <td>M</td>\n",
       "      <td>2/7/1971</td>\n",
       "      <td>2.0</td>\n",
       "      <td>1.0</td>\n",
       "      <td>230402.0</td>\n",
       "      <td>17.0</td>\n",
       "      <td>230402.0</td>\n",
       "      <td>17.0</td>\n",
       "      <td>0</td>\n",
       "    </tr>\n",
       "  </tbody>\n",
       "</table>\n",
       "<p>5 rows × 23 columns</p>\n",
       "</div>"
      ],
      "text/plain": [
       "           ID  Office_PIN Application_Receipt_Date  Applicant_City_PIN  \\\n",
       "0  FIN1000001      842001                4/16/2007            844120.0   \n",
       "1  FIN1000002      842001                4/16/2007            844111.0   \n",
       "2  FIN1000003      800001                4/16/2007            844101.0   \n",
       "3  FIN1000004      814112                4/16/2007            814112.0   \n",
       "4  FIN1000005      814112                4/16/2007            815351.0   \n",
       "\n",
       "  Applicant_Gender Applicant_BirthDate Applicant_Marital_Status  \\\n",
       "0                M          12/19/1971                        M   \n",
       "1                M           2/17/1983                        S   \n",
       "2                M           1/16/1966                        M   \n",
       "3                M            2/3/1988                        S   \n",
       "4                M            7/4/1985                        M   \n",
       "\n",
       "  Applicant_Occupation Applicant_Qualification Manager_DOJ  ...  \\\n",
       "0               Others                Graduate  11/10/2005  ...   \n",
       "1               Others               Class XII  11/10/2005  ...   \n",
       "2             Business               Class XII   5/27/2006  ...   \n",
       "3             Salaried               Class XII   8/21/2003  ...   \n",
       "4               Others               Class XII    5/8/2006  ...   \n",
       "\n",
       "  Manager_Status Manager_Gender  Manager_DoB Manager_Num_Application  \\\n",
       "0   Confirmation              M    2/17/1978                     2.0   \n",
       "1   Confirmation              M    2/17/1978                     2.0   \n",
       "2   Confirmation              M     3/3/1969                     0.0   \n",
       "3   Confirmation              F    8/14/1978                     0.0   \n",
       "4   Confirmation              M     2/7/1971                     2.0   \n",
       "\n",
       "  Manager_Num_Coded Manager_Business  Manager_Num_Products  Manager_Business2  \\\n",
       "0               1.0         335249.0                  28.0           335249.0   \n",
       "1               1.0         335249.0                  28.0           335249.0   \n",
       "2               0.0         357184.0                  24.0           357184.0   \n",
       "3               0.0         318356.0                  22.0           318356.0   \n",
       "4               1.0         230402.0                  17.0           230402.0   \n",
       "\n",
       "   Manager_Num_Products2  Business_Sourced  \n",
       "0                   28.0                 0  \n",
       "1                   28.0                 1  \n",
       "2                   24.0                 0  \n",
       "3                   22.0                 0  \n",
       "4                   17.0                 0  \n",
       "\n",
       "[5 rows x 23 columns]"
      ]
     },
     "execution_count": 3,
     "metadata": {},
     "output_type": "execute_result"
    }
   ],
   "source": [
    "train.head()"
   ]
  },
  {
   "cell_type": "code",
   "execution_count": 4,
   "id": "7d731730",
   "metadata": {},
   "outputs": [
    {
     "data": {
      "text/html": [
       "<div>\n",
       "<style scoped>\n",
       "    .dataframe tbody tr th:only-of-type {\n",
       "        vertical-align: middle;\n",
       "    }\n",
       "\n",
       "    .dataframe tbody tr th {\n",
       "        vertical-align: top;\n",
       "    }\n",
       "\n",
       "    .dataframe thead th {\n",
       "        text-align: right;\n",
       "    }\n",
       "</style>\n",
       "<table border=\"1\" class=\"dataframe\">\n",
       "  <thead>\n",
       "    <tr style=\"text-align: right;\">\n",
       "      <th></th>\n",
       "      <th>ID</th>\n",
       "      <th>Office_PIN</th>\n",
       "      <th>Application_Receipt_Date</th>\n",
       "      <th>Applicant_City_PIN</th>\n",
       "      <th>Applicant_Gender</th>\n",
       "      <th>Applicant_BirthDate</th>\n",
       "      <th>Applicant_Marital_Status</th>\n",
       "      <th>Applicant_Occupation</th>\n",
       "      <th>Applicant_Qualification</th>\n",
       "      <th>Manager_DOJ</th>\n",
       "      <th>...</th>\n",
       "      <th>Manager_Grade</th>\n",
       "      <th>Manager_Status</th>\n",
       "      <th>Manager_Gender</th>\n",
       "      <th>Manager_DoB</th>\n",
       "      <th>Manager_Num_Application</th>\n",
       "      <th>Manager_Num_Coded</th>\n",
       "      <th>Manager_Business</th>\n",
       "      <th>Manager_Num_Products</th>\n",
       "      <th>Manager_Business2</th>\n",
       "      <th>Manager_Num_Products2</th>\n",
       "    </tr>\n",
       "  </thead>\n",
       "  <tbody>\n",
       "    <tr>\n",
       "      <th>0</th>\n",
       "      <td>FIN1009528</td>\n",
       "      <td>284001</td>\n",
       "      <td>7/2/2008</td>\n",
       "      <td>284001.0</td>\n",
       "      <td>M</td>\n",
       "      <td>8/5/1982</td>\n",
       "      <td>S</td>\n",
       "      <td>Salaried</td>\n",
       "      <td>Graduate</td>\n",
       "      <td>5/26/2008</td>\n",
       "      <td>...</td>\n",
       "      <td>2.0</td>\n",
       "      <td>Probation</td>\n",
       "      <td>F</td>\n",
       "      <td>10/14/1978</td>\n",
       "      <td>1.0</td>\n",
       "      <td>0.0</td>\n",
       "      <td>0.0</td>\n",
       "      <td>0.0</td>\n",
       "      <td>0.0</td>\n",
       "      <td>0.0</td>\n",
       "    </tr>\n",
       "    <tr>\n",
       "      <th>1</th>\n",
       "      <td>FIN1009529</td>\n",
       "      <td>800001</td>\n",
       "      <td>7/2/2008</td>\n",
       "      <td>800026.0</td>\n",
       "      <td>M</td>\n",
       "      <td>3/11/1968</td>\n",
       "      <td>M</td>\n",
       "      <td>Salaried</td>\n",
       "      <td>Graduate</td>\n",
       "      <td>6/24/2008</td>\n",
       "      <td>...</td>\n",
       "      <td>2.0</td>\n",
       "      <td>Probation</td>\n",
       "      <td>M</td>\n",
       "      <td>3/3/1971</td>\n",
       "      <td>2.0</td>\n",
       "      <td>0.0</td>\n",
       "      <td>0.0</td>\n",
       "      <td>0.0</td>\n",
       "      <td>0.0</td>\n",
       "      <td>0.0</td>\n",
       "    </tr>\n",
       "    <tr>\n",
       "      <th>2</th>\n",
       "      <td>FIN1009530</td>\n",
       "      <td>800001</td>\n",
       "      <td>7/2/2008</td>\n",
       "      <td>NaN</td>\n",
       "      <td>M</td>\n",
       "      <td>12/16/1984</td>\n",
       "      <td>S</td>\n",
       "      <td>NaN</td>\n",
       "      <td>Graduate</td>\n",
       "      <td>NaN</td>\n",
       "      <td>...</td>\n",
       "      <td>NaN</td>\n",
       "      <td>NaN</td>\n",
       "      <td>NaN</td>\n",
       "      <td>NaN</td>\n",
       "      <td>NaN</td>\n",
       "      <td>NaN</td>\n",
       "      <td>NaN</td>\n",
       "      <td>NaN</td>\n",
       "      <td>NaN</td>\n",
       "      <td>NaN</td>\n",
       "    </tr>\n",
       "    <tr>\n",
       "      <th>3</th>\n",
       "      <td>FIN1009531</td>\n",
       "      <td>800001</td>\n",
       "      <td>7/2/2008</td>\n",
       "      <td>844112.0</td>\n",
       "      <td>M</td>\n",
       "      <td>6/7/1971</td>\n",
       "      <td>S</td>\n",
       "      <td>Salaried</td>\n",
       "      <td>Graduate</td>\n",
       "      <td>NaN</td>\n",
       "      <td>...</td>\n",
       "      <td>NaN</td>\n",
       "      <td>NaN</td>\n",
       "      <td>NaN</td>\n",
       "      <td>NaN</td>\n",
       "      <td>NaN</td>\n",
       "      <td>NaN</td>\n",
       "      <td>NaN</td>\n",
       "      <td>NaN</td>\n",
       "      <td>NaN</td>\n",
       "      <td>NaN</td>\n",
       "    </tr>\n",
       "    <tr>\n",
       "      <th>4</th>\n",
       "      <td>FIN1009532</td>\n",
       "      <td>533101</td>\n",
       "      <td>7/2/2008</td>\n",
       "      <td>533102.0</td>\n",
       "      <td>M</td>\n",
       "      <td>7/22/1978</td>\n",
       "      <td>S</td>\n",
       "      <td>NaN</td>\n",
       "      <td>Masters of Business Administration</td>\n",
       "      <td>12/4/2007</td>\n",
       "      <td>...</td>\n",
       "      <td>3.0</td>\n",
       "      <td>Confirmation</td>\n",
       "      <td>M</td>\n",
       "      <td>6/23/1977</td>\n",
       "      <td>4.0</td>\n",
       "      <td>1.0</td>\n",
       "      <td>97352.0</td>\n",
       "      <td>3.0</td>\n",
       "      <td>97352.0</td>\n",
       "      <td>3.0</td>\n",
       "    </tr>\n",
       "  </tbody>\n",
       "</table>\n",
       "<p>5 rows × 22 columns</p>\n",
       "</div>"
      ],
      "text/plain": [
       "           ID  Office_PIN Application_Receipt_Date  Applicant_City_PIN  \\\n",
       "0  FIN1009528      284001                 7/2/2008            284001.0   \n",
       "1  FIN1009529      800001                 7/2/2008            800026.0   \n",
       "2  FIN1009530      800001                 7/2/2008                 NaN   \n",
       "3  FIN1009531      800001                 7/2/2008            844112.0   \n",
       "4  FIN1009532      533101                 7/2/2008            533102.0   \n",
       "\n",
       "  Applicant_Gender Applicant_BirthDate Applicant_Marital_Status  \\\n",
       "0                M            8/5/1982                        S   \n",
       "1                M           3/11/1968                        M   \n",
       "2                M          12/16/1984                        S   \n",
       "3                M            6/7/1971                        S   \n",
       "4                M           7/22/1978                        S   \n",
       "\n",
       "  Applicant_Occupation             Applicant_Qualification Manager_DOJ  ...  \\\n",
       "0             Salaried                            Graduate   5/26/2008  ...   \n",
       "1             Salaried                            Graduate   6/24/2008  ...   \n",
       "2                  NaN                            Graduate         NaN  ...   \n",
       "3             Salaried                            Graduate         NaN  ...   \n",
       "4                  NaN  Masters of Business Administration   12/4/2007  ...   \n",
       "\n",
       "  Manager_Grade Manager_Status  Manager_Gender Manager_DoB  \\\n",
       "0           2.0      Probation               F  10/14/1978   \n",
       "1           2.0      Probation               M    3/3/1971   \n",
       "2           NaN            NaN             NaN         NaN   \n",
       "3           NaN            NaN             NaN         NaN   \n",
       "4           3.0   Confirmation               M   6/23/1977   \n",
       "\n",
       "  Manager_Num_Application Manager_Num_Coded  Manager_Business  \\\n",
       "0                     1.0               0.0               0.0   \n",
       "1                     2.0               0.0               0.0   \n",
       "2                     NaN               NaN               NaN   \n",
       "3                     NaN               NaN               NaN   \n",
       "4                     4.0               1.0           97352.0   \n",
       "\n",
       "   Manager_Num_Products  Manager_Business2  Manager_Num_Products2  \n",
       "0                   0.0                0.0                    0.0  \n",
       "1                   0.0                0.0                    0.0  \n",
       "2                   NaN                NaN                    NaN  \n",
       "3                   NaN                NaN                    NaN  \n",
       "4                   3.0            97352.0                    3.0  \n",
       "\n",
       "[5 rows x 22 columns]"
      ]
     },
     "execution_count": 4,
     "metadata": {},
     "output_type": "execute_result"
    }
   ],
   "source": [
    "test.head()"
   ]
  },
  {
   "cell_type": "code",
   "execution_count": 64,
   "id": "9c0c5f8a",
   "metadata": {},
   "outputs": [
    {
     "name": "stdout",
     "output_type": "stream",
     "text": [
      "<class 'pandas.core.frame.DataFrame'>\n",
      "RangeIndex: 9527 entries, 0 to 9526\n",
      "Data columns (total 23 columns):\n",
      " #   Column                       Non-Null Count  Dtype \n",
      "---  ------                       --------------  ----- \n",
      " 0   ID                           9527 non-null   object\n",
      " 1   Office_PIN                   9527 non-null   int64 \n",
      " 2   Application_Receipt_Date     9527 non-null   object\n",
      " 3   Applicant_City_PIN           9527 non-null   object\n",
      " 4   Applicant_Gender             9527 non-null   object\n",
      " 5   Applicant_BirthDate          9527 non-null   object\n",
      " 6   Applicant_Marital_Status     9527 non-null   object\n",
      " 7   Applicant_Occupation         9527 non-null   object\n",
      " 8   Applicant_Qualification      9527 non-null   object\n",
      " 9   Manager_DOJ                  9527 non-null   object\n",
      " 10  Manager_Joining_Designation  9527 non-null   object\n",
      " 11  Manager_Current_Designation  9527 non-null   object\n",
      " 12  Manager_Grade                9527 non-null   object\n",
      " 13  Manager_Status               9527 non-null   object\n",
      " 14  Manager_Gender               9527 non-null   object\n",
      " 15  Manager_DoB                  9527 non-null   object\n",
      " 16  Manager_Num_Application      9527 non-null   object\n",
      " 17  Manager_Num_Coded            9527 non-null   object\n",
      " 18  Manager_Business             9527 non-null   object\n",
      " 19  Manager_Num_Products         9527 non-null   object\n",
      " 20  Manager_Business2            9527 non-null   object\n",
      " 21  Manager_Num_Products2        9527 non-null   object\n",
      " 22  Business_Sourced             9527 non-null   int64 \n",
      "dtypes: int64(2), object(21)\n",
      "memory usage: 1.7+ MB\n"
     ]
    }
   ],
   "source": [
    "train.info()"
   ]
  },
  {
   "cell_type": "code",
   "execution_count": 5,
   "id": "12cd4941",
   "metadata": {},
   "outputs": [
    {
     "data": {
      "text/plain": [
       "ID                                0\n",
       "Office_PIN                        0\n",
       "Application_Receipt_Date          0\n",
       "Applicant_City_PIN               97\n",
       "Applicant_Gender                 67\n",
       "Applicant_BirthDate              73\n",
       "Applicant_Marital_Status         73\n",
       "Applicant_Occupation           1221\n",
       "Applicant_Qualification          86\n",
       "Manager_DOJ                     683\n",
       "Manager_Joining_Designation     683\n",
       "Manager_Current_Designation     683\n",
       "Manager_Grade                   683\n",
       "Manager_Status                  683\n",
       "Manager_Gender                  683\n",
       "Manager_DoB                     683\n",
       "Manager_Num_Application         683\n",
       "Manager_Num_Coded               683\n",
       "Manager_Business                683\n",
       "Manager_Num_Products            683\n",
       "Manager_Business2               683\n",
       "Manager_Num_Products2           683\n",
       "Business_Sourced                  0\n",
       "dtype: int64"
      ]
     },
     "execution_count": 5,
     "metadata": {},
     "output_type": "execute_result"
    }
   ],
   "source": [
    "train.isnull().sum()"
   ]
  },
  {
   "cell_type": "code",
   "execution_count": 6,
   "id": "d80edc07",
   "metadata": {},
   "outputs": [
    {
     "data": {
      "text/plain": [
       "ID                                0\n",
       "Office_PIN                        0\n",
       "Application_Receipt_Date          0\n",
       "Applicant_City_PIN               34\n",
       "Applicant_Gender                 22\n",
       "Applicant_BirthDate              23\n",
       "Applicant_Marital_Status         30\n",
       "Applicant_Occupation           1004\n",
       "Applicant_Qualification          44\n",
       "Manager_DOJ                     824\n",
       "Manager_Joining_Designation     824\n",
       "Manager_Current_Designation     824\n",
       "Manager_Grade                   824\n",
       "Manager_Status                  824\n",
       "Manager_Gender                  824\n",
       "Manager_DoB                     824\n",
       "Manager_Num_Application         824\n",
       "Manager_Num_Coded               824\n",
       "Manager_Business                824\n",
       "Manager_Num_Products            824\n",
       "Manager_Business2               824\n",
       "Manager_Num_Products2           824\n",
       "dtype: int64"
      ]
     },
     "execution_count": 6,
     "metadata": {},
     "output_type": "execute_result"
    }
   ],
   "source": [
    "test.isnull().sum()"
   ]
  },
  {
   "cell_type": "code",
   "execution_count": 7,
   "id": "3f27999f",
   "metadata": {},
   "outputs": [
    {
     "data": {
      "text/plain": [
       "(9527, 23)"
      ]
     },
     "execution_count": 7,
     "metadata": {},
     "output_type": "execute_result"
    }
   ],
   "source": [
    "train.shape"
   ]
  },
  {
   "cell_type": "code",
   "execution_count": 8,
   "id": "1bde8e31",
   "metadata": {},
   "outputs": [
    {
     "data": {
      "text/plain": [
       "(5045, 22)"
      ]
     },
     "execution_count": 8,
     "metadata": {},
     "output_type": "execute_result"
    }
   ],
   "source": [
    "test.shape"
   ]
  },
  {
   "cell_type": "code",
   "execution_count": 44,
   "id": "ff5f163e",
   "metadata": {},
   "outputs": [
    {
     "data": {
      "image/png": "[encoded data removed]",
      "text/plain": [
       "<Figure size 3240x2160 with 1 Axes>"
      ]
     },
     "metadata": {},
     "output_type": "display_data"
    }
   ],
   "source": [
    "Null_in_train = np.sum(train.isnull())\n",
    "null_col_train = Null_in_train.loc[(Null_in_train != 0)].sort_values(ascending=False)\n",
    "null_col_train = null_col_train.apply(lambda x: 100*x/train.shape[0])\n",
    "\n",
    "barplot_dim = (45,30)\n",
    "ax = plt.subplots(figsize=barplot_dim)\n",
    "sns.barplot(x=null_col_train.index, y=null_col_train)\n",
    "sns.set_context(\"paper\", font_scale=2) \n",
    "plt.ylabel(\"Null %\", size=20);\n",
    "plt.xlabel(\"Feature Name\", size=20);\n",
    "plt.show()"
   ]
  },
  {
   "cell_type": "code",
   "execution_count": 52,
   "id": "4615b52a",
   "metadata": {},
   "outputs": [],
   "source": [
    "train['Applicant_City_PIN'].fillna('Details_Missing', inplace=True)\n",
    "train['Applicant_Gender'].fillna('Details_Missing', inplace=True)\n",
    "train['Applicant_BirthDate'].fillna('Details_Missing', inplace=True)\n",
    "train['Applicant_Marital_Status'].fillna('Details_Missing', inplace=True)\n",
    "train['Applicant_Occupation'].fillna('Details_Missing', inplace=True)\n",
    "train['Applicant_Qualification'].fillna('Details_Missing', inplace=True)\n",
    "train['Manager_DOJ'].fillna('Details_Missing', inplace=True)\n",
    "train['Manager_Joining_Designation'].fillna('Details_Missing', inplace=True)\n",
    "train['Manager_Current_Designation'].fillna('Details_Missing', inplace=True)\n",
    "train['Manager_Grade'].fillna('Details_Missing', inplace=True)\n",
    "train['Manager_Status'  ].fillna('Details_Missing', inplace=True)\n",
    "train['Manager_Gender'].fillna('Details_Missing', inplace=True)\n",
    "train['Manager_DoB'].fillna('Details_Missing', inplace=True)\n",
    "train['Manager_Num_Application'].fillna('Details_Missing', inplace=True)\n",
    "train['Manager_Num_Coded'].fillna('Details_Missing', inplace=True)\n",
    "train['Manager_Business'].fillna('Details_Missing', inplace=True)\n",
    "train['Manager_Business2'].fillna('Details_Missing', inplace=True)\n",
    "train['Manager_Num_Products'].fillna('Details_Missing', inplace=True)\n",
    "train['Manager_Num_Products2'].fillna('Details_Missing', inplace=True)\n"
   ]
  },
  {
   "cell_type": "code",
   "execution_count": 51,
   "id": "1e02cf1c",
   "metadata": {},
   "outputs": [
    {
     "data": {
      "text/plain": [
       "ID                             0\n",
       "Office_PIN                     0\n",
       "Application_Receipt_Date       0\n",
       "Applicant_City_PIN             0\n",
       "Applicant_Gender               0\n",
       "Applicant_BirthDate            0\n",
       "Applicant_Marital_Status       0\n",
       "Applicant_Occupation           0\n",
       "Applicant_Qualification        0\n",
       "Manager_DOJ                    0\n",
       "Manager_Joining_Designation    0\n",
       "Manager_Current_Designation    0\n",
       "Manager_Grade                  0\n",
       "Manager_Status                 0\n",
       "Manager_Gender                 0\n",
       "Manager_DoB                    0\n",
       "Manager_Num_Application        0\n",
       "Manager_Num_Coded              0\n",
       "Manager_Business               0\n",
       "Manager_Num_Products           0\n",
       "Manager_Business2              0\n",
       "Manager_Num_Products2          0\n",
       "Business_Sourced               0\n",
       "dtype: int64"
      ]
     },
     "execution_count": 51,
     "metadata": {},
     "output_type": "execute_result"
    }
   ],
   "source": [
    "train.isnull().sum()"
   ]
  },
  {
   "cell_type": "code",
   "execution_count": 53,
   "id": "ec1aaa88",
   "metadata": {},
   "outputs": [],
   "source": [
    "test['Applicant_City_PIN'].fillna('Details_Missing', inplace=True)\n",
    "test['Applicant_Gender'].fillna('Details_Missing', inplace=True)\n",
    "test['Applicant_BirthDate'].fillna('Details_Missing', inplace=True)\n",
    "test['Applicant_Marital_Status'].fillna('Details_Missing', inplace=True)\n",
    "test['Applicant_Occupation'].fillna('Details_Missing', inplace=True)\n",
    "test['Applicant_Qualification'].fillna('Details_Missing', inplace=True)\n",
    "test['Manager_DOJ'].fillna('Details_Missing', inplace=True)\n",
    "test['Manager_Joining_Designation'].fillna('Details_Missing', inplace=True)\n",
    "test['Manager_Current_Designation'].fillna('Details_Missing', inplace=True)\n",
    "test['Manager_Grade'].fillna('Details_Missing', inplace=True)\n",
    "test['Manager_Status'  ].fillna('Details_Missing', inplace=True)\n",
    "test['Manager_Gender'].fillna('Details_Missing', inplace=True)\n",
    "test['Manager_DoB'].fillna('Details_Missing', inplace=True)\n",
    "test['Manager_Num_Application'].fillna('Details_Missing', inplace=True)\n",
    "test['Manager_Num_Coded'].fillna('Details_Missing', inplace=True)\n",
    "test['Manager_Business'].fillna('Details_Missing', inplace=True)\n",
    "test['Manager_Business2'].fillna('Details_Missing', inplace=True)\n",
    "test['Manager_Num_Products'].fillna('Details_Missing', inplace=True)\n",
    "test['Manager_Num_Products2'].fillna('Details_Missing', inplace=True)"
   ]
  },
  {
   "cell_type": "code",
   "execution_count": 54,
   "id": "bcbf2b4a",
   "metadata": {},
   "outputs": [
    {
     "data": {
      "text/plain": [
       "ID                             0\n",
       "Office_PIN                     0\n",
       "Application_Receipt_Date       0\n",
       "Applicant_City_PIN             0\n",
       "Applicant_Gender               0\n",
       "Applicant_BirthDate            0\n",
       "Applicant_Marital_Status       0\n",
       "Applicant_Occupation           0\n",
       "Applicant_Qualification        0\n",
       "Manager_DOJ                    0\n",
       "Manager_Joining_Designation    0\n",
       "Manager_Current_Designation    0\n",
       "Manager_Grade                  0\n",
       "Manager_Status                 0\n",
       "Manager_Gender                 0\n",
       "Manager_DoB                    0\n",
       "Manager_Num_Application        0\n",
       "Manager_Num_Coded              0\n",
       "Manager_Business               0\n",
       "Manager_Num_Products           0\n",
       "Manager_Business2              0\n",
       "Manager_Num_Products2          0\n",
       "dtype: int64"
      ]
     },
     "execution_count": 54,
     "metadata": {},
     "output_type": "execute_result"
    }
   ],
   "source": [
    "test.isnull().sum()"
   ]
  },
  {
   "cell_type": "code",
   "execution_count": 57,
   "id": "04f99c1a",
   "metadata": {},
   "outputs": [
    {
     "data": {
      "image/png": "[encoded data removed]",
      "text/plain": [
       "<Figure size 864x288 with 1 Axes>"
      ]
     },
     "metadata": {},
     "output_type": "display_data"
    }
   ],
   "source": [
    "# class imbalance\n",
    "ax = plt.subplots(figsize=(12, 4))\n",
    "sns.set_style(\"darkgrid\")\n",
    "sns.countplot(x='Business_Sourced', data=train);\n",
    "plt.ylabel(\"No. of Observations\", size=20);\n",
    "plt.xlabel(\"Business_Sourced\", size=20);"
   ]
  },
  {
   "cell_type": "code",
   "execution_count": 59,
   "id": "c01c34cb",
   "metadata": {},
   "outputs": [
    {
     "data": {
      "text/plain": [
       "6260"
      ]
     },
     "execution_count": 59,
     "metadata": {},
     "output_type": "execute_result"
    }
   ],
   "source": [
    "train[train['Business_Sourced'] == 0].shape[0]"
   ]
  },
  {
   "cell_type": "code",
   "execution_count": 60,
   "id": "cc2ff420",
   "metadata": {},
   "outputs": [
    {
     "data": {
      "text/plain": [
       "3267"
      ]
     },
     "execution_count": 60,
     "metadata": {},
     "output_type": "execute_result"
    }
   ],
   "source": [
    "train[train['Business_Sourced'] == 1].shape[0]"
   ]
  },
  {
   "cell_type": "code",
   "execution_count": 58,
   "id": "ac04c4bf",
   "metadata": {},
   "outputs": [
    {
     "name": "stdout",
     "output_type": "stream",
     "text": [
      "Imbalance ratio: 1.9161310070400979\n"
     ]
    }
   ],
   "source": [
    "imbalance_ratio = train[train['Business_Sourced'] == 0].shape[0]/train[train['Business_Sourced'] == 1].shape[0]\n",
    "print(f'Imbalance ratio: {imbalance_ratio}')"
   ]
  },
  {
   "cell_type": "code",
   "execution_count": 61,
   "id": "5eef2735",
   "metadata": {},
   "outputs": [
    {
     "data": {
      "text/plain": [
       "ID                             9527\n",
       "Office_PIN                       98\n",
       "Application_Receipt_Date        357\n",
       "Applicant_City_PIN             2980\n",
       "Applicant_Gender                  3\n",
       "Applicant_BirthDate            5837\n",
       "Applicant_Marital_Status          5\n",
       "Applicant_Occupation              6\n",
       "Applicant_Qualification          12\n",
       "Manager_DOJ                     647\n",
       "Manager_Joining_Designation       9\n",
       "Manager_Current_Designation       6\n",
       "Manager_Grade                    11\n",
       "Manager_Status                    3\n",
       "Manager_Gender                    3\n",
       "Manager_DoB                    1246\n",
       "Manager_Num_Application          18\n",
       "Manager_Num_Coded                11\n",
       "Manager_Business               3748\n",
       "Manager_Num_Products             58\n",
       "Manager_Business2              3744\n",
       "Manager_Num_Products2            58\n",
       "Business_Sourced                  2\n",
       "dtype: int64"
      ]
     },
     "execution_count": 61,
     "metadata": {},
     "output_type": "execute_result"
    }
   ],
   "source": [
    "# feature value counts\n",
    "train.nunique()"
   ]
  },
  {
   "cell_type": "code",
   "execution_count": 65,
   "id": "bba801e3",
   "metadata": {},
   "outputs": [
    {
     "data": {
      "text/plain": [
       "ID                             5045\n",
       "Office_PIN                       84\n",
       "Application_Receipt_Date        143\n",
       "Applicant_City_PIN             2065\n",
       "Applicant_Gender                  3\n",
       "Applicant_BirthDate            3793\n",
       "Applicant_Marital_Status          5\n",
       "Applicant_Occupation              6\n",
       "Applicant_Qualification           9\n",
       "Manager_DOJ                     466\n",
       "Manager_Joining_Designation       7\n",
       "Manager_Current_Designation       6\n",
       "Manager_Grade                     8\n",
       "Manager_Status                    3\n",
       "Manager_Gender                    3\n",
       "Manager_DoB                     896\n",
       "Manager_Num_Application          18\n",
       "Manager_Num_Coded                12\n",
       "Manager_Business               1603\n",
       "Manager_Num_Products             28\n",
       "Manager_Business2              1583\n",
       "Manager_Num_Products2            25\n",
       "dtype: int64"
      ]
     },
     "execution_count": 65,
     "metadata": {},
     "output_type": "execute_result"
    }
   ],
   "source": [
    "test.nunique()"
   ]
  },
  {
   "cell_type": "code",
   "execution_count": 63,
   "id": "d9a28aad",
   "metadata": {},
   "outputs": [
    {
     "name": "stdout",
     "output_type": "stream",
     "text": [
      "<class 'pandas.core.frame.DataFrame'>\n",
      "RangeIndex: 9527 entries, 0 to 9526\n",
      "Data columns (total 23 columns):\n",
      " #   Column                       Non-Null Count  Dtype \n",
      "---  ------                       --------------  ----- \n",
      " 0   ID                           9527 non-null   object\n",
      " 1   Office_PIN                   9527 non-null   int64 \n",
      " 2   Application_Receipt_Date     9527 non-null   object\n",
      " 3   Applicant_City_PIN           9527 non-null   object\n",
      " 4   Applicant_Gender             9527 non-null   object\n",
      " 5   Applicant_BirthDate          9527 non-null   object\n",
      " 6   Applicant_Marital_Status     9527 non-null   object\n",
      " 7   Applicant_Occupation         9527 non-null   object\n",
      " 8   Applicant_Qualification      9527 non-null   object\n",
      " 9   Manager_DOJ                  9527 non-null   object\n",
      " 10  Manager_Joining_Designation  9527 non-null   object\n",
      " 11  Manager_Current_Designation  9527 non-null   object\n",
      " 12  Manager_Grade                9527 non-null   object\n",
      " 13  Manager_Status               9527 non-null   object\n",
      " 14  Manager_Gender               9527 non-null   object\n",
      " 15  Manager_DoB                  9527 non-null   object\n",
      " 16  Manager_Num_Application      9527 non-null   object\n",
      " 17  Manager_Num_Coded            9527 non-null   object\n",
      " 18  Manager_Business             9527 non-null   object\n",
      " 19  Manager_Num_Products         9527 non-null   object\n",
      " 20  Manager_Business2            9527 non-null   object\n",
      " 21  Manager_Num_Products2        9527 non-null   object\n",
      " 22  Business_Sourced             9527 non-null   int64 \n",
      "dtypes: int64(2), object(21)\n",
      "memory usage: 1.7+ MB\n"
     ]
    }
   ],
   "source": [
    "train.info()"
   ]
  },
  {
   "cell_type": "code",
   "execution_count": 67,
   "id": "e0856a6c",
   "metadata": {},
   "outputs": [
    {
     "name": "stdout",
     "output_type": "stream",
     "text": [
      "<class 'pandas.core.frame.DataFrame'>\n",
      "RangeIndex: 5045 entries, 0 to 5044\n",
      "Data columns (total 22 columns):\n",
      " #   Column                       Non-Null Count  Dtype \n",
      "---  ------                       --------------  ----- \n",
      " 0   ID                           5045 non-null   object\n",
      " 1   Office_PIN                   5045 non-null   int64 \n",
      " 2   Application_Receipt_Date     5045 non-null   object\n",
      " 3   Applicant_City_PIN           5045 non-null   object\n",
      " 4   Applicant_Gender             5045 non-null   object\n",
      " 5   Applicant_BirthDate          5045 non-null   object\n",
      " 6   Applicant_Marital_Status     5045 non-null   object\n",
      " 7   Applicant_Occupation         5045 non-null   object\n",
      " 8   Applicant_Qualification      5045 non-null   object\n",
      " 9   Manager_DOJ                  5045 non-null   object\n",
      " 10  Manager_Joining_Designation  5045 non-null   object\n",
      " 11  Manager_Current_Designation  5045 non-null   object\n",
      " 12  Manager_Grade                5045 non-null   object\n",
      " 13  Manager_Status               5045 non-null   object\n",
      " 14  Manager_Gender               5045 non-null   object\n",
      " 15  Manager_DoB                  5045 non-null   object\n",
      " 16  Manager_Num_Application      5045 non-null   object\n",
      " 17  Manager_Num_Coded            5045 non-null   object\n",
      " 18  Manager_Business             5045 non-null   object\n",
      " 19  Manager_Num_Products         5045 non-null   object\n",
      " 20  Manager_Business2            5045 non-null   object\n",
      " 21  Manager_Num_Products2        5045 non-null   object\n",
      "dtypes: int64(1), object(21)\n",
      "memory usage: 867.2+ KB\n"
     ]
    }
   ],
   "source": [
    "test.info()"
   ]
  },
  {
   "cell_type": "code",
   "execution_count": null,
   "id": "7ff69795",
   "metadata": {},
   "outputs": [],
   "source": []
  },
  {
   "cell_type": "code",
   "execution_count": null,
   "id": "2fba4f28",
   "metadata": {},
   "outputs": [],
   "source": []
  },
  {
   "cell_type": "code",
   "execution_count": null,
   "id": "9cb6a8f7",
   "metadata": {},
   "outputs": [
    {
     "name": "stdout",
     "output_type": "stream",
     "text": [
      "interval columns not set, guessing: ['Office_PIN', 'Business_Sourced']\n"
     ]
    }
   ],
   "source": [
    "# Phik's correlation Graph\n",
    "import phik\n",
    "temp = [feature for feature in train.columns if feature not in ['ID']]\n",
    "plt.figure(figsize=(10,10))\n",
    "sns.heatmap(train[temp].phik_matrix(),annot=True)\n",
    "plt.show()"
   ]
  },
  {
   "cell_type": "code",
   "execution_count": null,
   "id": "bb49e663",
   "metadata": {},
   "outputs": [],
   "source": []
  }
 ],
 "metadata": {
  "kernelspec": {
   "display_name": "Python 3",
   "language": "python",
   "name": "python3"
  },
  "language_info": {
   "codemirror_mode": {
    "name": "ipython",
    "version": 3
   },
   "file_extension": ".py",
   "mimetype": "text/x-python",
   "name": "python",
   "nbconvert_exporter": "python",
   "pygments_lexer": "ipython3",
   "version": "3.8.8"
  }
 },
 "nbformat": 4,
 "nbformat_minor": 5
}

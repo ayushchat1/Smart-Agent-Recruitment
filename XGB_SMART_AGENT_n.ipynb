{
 "cells": [
  {
   "cell_type": "markdown",
   "id": "f27eee7c",
   "metadata": {
    "id": "f27eee7c"
   },
   "source": [
    "### Importing Libraries"
   ]
  },
  {
   "cell_type": "code",
   "execution_count": 36,
   "id": "f18e5a50",
   "metadata": {
    "id": "f18e5a50"
   },
   "outputs": [],
   "source": [
    "import pandas as pd\n",
    "import numpy as np\n",
    "import datetime\n",
    "import matplotlib as plt\n",
    "import csv\n",
    "import operator\n",
    "from sklearn.ensemble import RandomForestClassifier\n",
    "from sklearn.ensemble import GradientBoostingClassifier\n",
    "from sklearn.tree import DecisionTreeClassifier\n",
    "from sklearn.model_selection import GridSearchCV\n",
    "from sklearn.model_selection import train_test_split\n",
    "import seaborn as sns\n",
    "import math\n",
    "from sklearn.metrics import roc_auc_score\n",
    "from sklearn import preprocessing  \n",
    "\n",
    "\n",
    "\n",
    "\n",
    "\n"
   ]
  },
  {
   "cell_type": "markdown",
   "id": "1df66a66",
   "metadata": {
    "id": "1df66a66"
   },
   "source": [
    "### Importing the dataset"
   ]
  },
  {
   "cell_type": "code",
   "execution_count": 37,
   "id": "0926a6bb",
   "metadata": {
    "id": "0926a6bb"
   },
   "outputs": [],
   "source": [
    "df = pd.read_csv(\"C:/Users/ayush.chaturvedi/Downloads/train_r7VTVyN_Ko9cGPz.csv\")\n"
   ]
  },
  {
   "cell_type": "code",
   "execution_count": 38,
   "id": "c38a096a",
   "metadata": {
    "id": "c38a096a"
   },
   "outputs": [],
   "source": [
    "#Basic"
   ]
  },
  {
   "cell_type": "code",
   "execution_count": 39,
   "id": "c5b077cd",
   "metadata": {
    "colab": {
     "base_uri": "https://localhost:8080/",
     "height": 224
    },
    "id": "c5b077cd",
    "outputId": "3d2435a4-0c82-4b1a-cf54-52606bb63159",
    "scrolled": true
   },
   "outputs": [
    {
     "data": {
      "text/html": [
       "<div>\n",
       "<style scoped>\n",
       "    .dataframe tbody tr th:only-of-type {\n",
       "        vertical-align: middle;\n",
       "    }\n",
       "\n",
       "    .dataframe tbody tr th {\n",
       "        vertical-align: top;\n",
       "    }\n",
       "\n",
       "    .dataframe thead th {\n",
       "        text-align: right;\n",
       "    }\n",
       "</style>\n",
       "<table border=\"1\" class=\"dataframe\">\n",
       "  <thead>\n",
       "    <tr style=\"text-align: right;\">\n",
       "      <th></th>\n",
       "      <th>ID</th>\n",
       "      <th>Office_PIN</th>\n",
       "      <th>Application_Receipt_Date</th>\n",
       "      <th>Applicant_City_PIN</th>\n",
       "      <th>Applicant_Gender</th>\n",
       "      <th>Applicant_BirthDate</th>\n",
       "      <th>Applicant_Marital_Status</th>\n",
       "      <th>Applicant_Occupation</th>\n",
       "      <th>Applicant_Qualification</th>\n",
       "      <th>Manager_DOJ</th>\n",
       "      <th>...</th>\n",
       "      <th>Manager_Status</th>\n",
       "      <th>Manager_Gender</th>\n",
       "      <th>Manager_DoB</th>\n",
       "      <th>Manager_Num_Application</th>\n",
       "      <th>Manager_Num_Coded</th>\n",
       "      <th>Manager_Business</th>\n",
       "      <th>Manager_Num_Products</th>\n",
       "      <th>Manager_Business2</th>\n",
       "      <th>Manager_Num_Products2</th>\n",
       "      <th>Business_Sourced</th>\n",
       "    </tr>\n",
       "  </thead>\n",
       "  <tbody>\n",
       "    <tr>\n",
       "      <th>0</th>\n",
       "      <td>FIN1000001</td>\n",
       "      <td>842001</td>\n",
       "      <td>4/16/2007</td>\n",
       "      <td>844120.0</td>\n",
       "      <td>M</td>\n",
       "      <td>12/19/1971</td>\n",
       "      <td>M</td>\n",
       "      <td>Others</td>\n",
       "      <td>Graduate</td>\n",
       "      <td>11/10/2005</td>\n",
       "      <td>...</td>\n",
       "      <td>Confirmation</td>\n",
       "      <td>M</td>\n",
       "      <td>2/17/1978</td>\n",
       "      <td>2.0</td>\n",
       "      <td>1.0</td>\n",
       "      <td>335249.0</td>\n",
       "      <td>28.0</td>\n",
       "      <td>335249.0</td>\n",
       "      <td>28.0</td>\n",
       "      <td>0</td>\n",
       "    </tr>\n",
       "    <tr>\n",
       "      <th>1</th>\n",
       "      <td>FIN1000002</td>\n",
       "      <td>842001</td>\n",
       "      <td>4/16/2007</td>\n",
       "      <td>844111.0</td>\n",
       "      <td>M</td>\n",
       "      <td>2/17/1983</td>\n",
       "      <td>S</td>\n",
       "      <td>Others</td>\n",
       "      <td>Class XII</td>\n",
       "      <td>11/10/2005</td>\n",
       "      <td>...</td>\n",
       "      <td>Confirmation</td>\n",
       "      <td>M</td>\n",
       "      <td>2/17/1978</td>\n",
       "      <td>2.0</td>\n",
       "      <td>1.0</td>\n",
       "      <td>335249.0</td>\n",
       "      <td>28.0</td>\n",
       "      <td>335249.0</td>\n",
       "      <td>28.0</td>\n",
       "      <td>1</td>\n",
       "    </tr>\n",
       "    <tr>\n",
       "      <th>2</th>\n",
       "      <td>FIN1000003</td>\n",
       "      <td>800001</td>\n",
       "      <td>4/16/2007</td>\n",
       "      <td>844101.0</td>\n",
       "      <td>M</td>\n",
       "      <td>1/16/1966</td>\n",
       "      <td>M</td>\n",
       "      <td>Business</td>\n",
       "      <td>Class XII</td>\n",
       "      <td>5/27/2006</td>\n",
       "      <td>...</td>\n",
       "      <td>Confirmation</td>\n",
       "      <td>M</td>\n",
       "      <td>3/3/1969</td>\n",
       "      <td>0.0</td>\n",
       "      <td>0.0</td>\n",
       "      <td>357184.0</td>\n",
       "      <td>24.0</td>\n",
       "      <td>357184.0</td>\n",
       "      <td>24.0</td>\n",
       "      <td>0</td>\n",
       "    </tr>\n",
       "    <tr>\n",
       "      <th>3</th>\n",
       "      <td>FIN1000004</td>\n",
       "      <td>814112</td>\n",
       "      <td>4/16/2007</td>\n",
       "      <td>814112.0</td>\n",
       "      <td>M</td>\n",
       "      <td>2/3/1988</td>\n",
       "      <td>S</td>\n",
       "      <td>Salaried</td>\n",
       "      <td>Class XII</td>\n",
       "      <td>8/21/2003</td>\n",
       "      <td>...</td>\n",
       "      <td>Confirmation</td>\n",
       "      <td>F</td>\n",
       "      <td>8/14/1978</td>\n",
       "      <td>0.0</td>\n",
       "      <td>0.0</td>\n",
       "      <td>318356.0</td>\n",
       "      <td>22.0</td>\n",
       "      <td>318356.0</td>\n",
       "      <td>22.0</td>\n",
       "      <td>0</td>\n",
       "    </tr>\n",
       "    <tr>\n",
       "      <th>4</th>\n",
       "      <td>FIN1000005</td>\n",
       "      <td>814112</td>\n",
       "      <td>4/16/2007</td>\n",
       "      <td>815351.0</td>\n",
       "      <td>M</td>\n",
       "      <td>7/4/1985</td>\n",
       "      <td>M</td>\n",
       "      <td>Others</td>\n",
       "      <td>Class XII</td>\n",
       "      <td>5/8/2006</td>\n",
       "      <td>...</td>\n",
       "      <td>Confirmation</td>\n",
       "      <td>M</td>\n",
       "      <td>2/7/1971</td>\n",
       "      <td>2.0</td>\n",
       "      <td>1.0</td>\n",
       "      <td>230402.0</td>\n",
       "      <td>17.0</td>\n",
       "      <td>230402.0</td>\n",
       "      <td>17.0</td>\n",
       "      <td>0</td>\n",
       "    </tr>\n",
       "  </tbody>\n",
       "</table>\n",
       "<p>5 rows × 23 columns</p>\n",
       "</div>"
      ],
      "text/plain": [
       "           ID  Office_PIN Application_Receipt_Date  Applicant_City_PIN  \\\n",
       "0  FIN1000001      842001                4/16/2007            844120.0   \n",
       "1  FIN1000002      842001                4/16/2007            844111.0   \n",
       "2  FIN1000003      800001                4/16/2007            844101.0   \n",
       "3  FIN1000004      814112                4/16/2007            814112.0   \n",
       "4  FIN1000005      814112                4/16/2007            815351.0   \n",
       "\n",
       "  Applicant_Gender Applicant_BirthDate Applicant_Marital_Status  \\\n",
       "0                M          12/19/1971                        M   \n",
       "1                M           2/17/1983                        S   \n",
       "2                M           1/16/1966                        M   \n",
       "3                M            2/3/1988                        S   \n",
       "4                M            7/4/1985                        M   \n",
       "\n",
       "  Applicant_Occupation Applicant_Qualification Manager_DOJ  ...  \\\n",
       "0               Others                Graduate  11/10/2005  ...   \n",
       "1               Others               Class XII  11/10/2005  ...   \n",
       "2             Business               Class XII   5/27/2006  ...   \n",
       "3             Salaried               Class XII   8/21/2003  ...   \n",
       "4               Others               Class XII    5/8/2006  ...   \n",
       "\n",
       "  Manager_Status Manager_Gender  Manager_DoB Manager_Num_Application  \\\n",
       "0   Confirmation              M    2/17/1978                     2.0   \n",
       "1   Confirmation              M    2/17/1978                     2.0   \n",
       "2   Confirmation              M     3/3/1969                     0.0   \n",
       "3   Confirmation              F    8/14/1978                     0.0   \n",
       "4   Confirmation              M     2/7/1971                     2.0   \n",
       "\n",
       "  Manager_Num_Coded Manager_Business  Manager_Num_Products  Manager_Business2  \\\n",
       "0               1.0         335249.0                  28.0           335249.0   \n",
       "1               1.0         335249.0                  28.0           335249.0   \n",
       "2               0.0         357184.0                  24.0           357184.0   \n",
       "3               0.0         318356.0                  22.0           318356.0   \n",
       "4               1.0         230402.0                  17.0           230402.0   \n",
       "\n",
       "   Manager_Num_Products2  Business_Sourced  \n",
       "0                   28.0                 0  \n",
       "1                   28.0                 1  \n",
       "2                   24.0                 0  \n",
       "3                   22.0                 0  \n",
       "4                   17.0                 0  \n",
       "\n",
       "[5 rows x 23 columns]"
      ]
     },
     "execution_count": 39,
     "metadata": {},
     "output_type": "execute_result"
    }
   ],
   "source": [
    "df.head()"
   ]
  },
  {
   "cell_type": "code",
   "execution_count": 40,
   "id": "35d880ed",
   "metadata": {
    "colab": {
     "base_uri": "https://localhost:8080/",
     "height": 241
    },
    "id": "35d880ed",
    "outputId": "215d4666-d91a-497f-f43e-6327f6b35f04",
    "scrolled": true
   },
   "outputs": [
    {
     "data": {
      "text/html": [
       "<div>\n",
       "<style scoped>\n",
       "    .dataframe tbody tr th:only-of-type {\n",
       "        vertical-align: middle;\n",
       "    }\n",
       "\n",
       "    .dataframe tbody tr th {\n",
       "        vertical-align: top;\n",
       "    }\n",
       "\n",
       "    .dataframe thead th {\n",
       "        text-align: right;\n",
       "    }\n",
       "</style>\n",
       "<table border=\"1\" class=\"dataframe\">\n",
       "  <thead>\n",
       "    <tr style=\"text-align: right;\">\n",
       "      <th></th>\n",
       "      <th>ID</th>\n",
       "      <th>Office_PIN</th>\n",
       "      <th>Application_Receipt_Date</th>\n",
       "      <th>Applicant_City_PIN</th>\n",
       "      <th>Applicant_Gender</th>\n",
       "      <th>Applicant_BirthDate</th>\n",
       "      <th>Applicant_Marital_Status</th>\n",
       "      <th>Applicant_Occupation</th>\n",
       "      <th>Applicant_Qualification</th>\n",
       "      <th>Manager_DOJ</th>\n",
       "      <th>...</th>\n",
       "      <th>Manager_Status</th>\n",
       "      <th>Manager_Gender</th>\n",
       "      <th>Manager_DoB</th>\n",
       "      <th>Manager_Num_Application</th>\n",
       "      <th>Manager_Num_Coded</th>\n",
       "      <th>Manager_Business</th>\n",
       "      <th>Manager_Num_Products</th>\n",
       "      <th>Manager_Business2</th>\n",
       "      <th>Manager_Num_Products2</th>\n",
       "      <th>Business_Sourced</th>\n",
       "    </tr>\n",
       "  </thead>\n",
       "  <tbody>\n",
       "    <tr>\n",
       "      <th>0</th>\n",
       "      <td>FIN1000001</td>\n",
       "      <td>842001</td>\n",
       "      <td>4/16/2007</td>\n",
       "      <td>844120.0</td>\n",
       "      <td>M</td>\n",
       "      <td>12/19/1971</td>\n",
       "      <td>M</td>\n",
       "      <td>Others</td>\n",
       "      <td>Graduate</td>\n",
       "      <td>11/10/2005</td>\n",
       "      <td>...</td>\n",
       "      <td>Confirmation</td>\n",
       "      <td>M</td>\n",
       "      <td>2/17/1978</td>\n",
       "      <td>2.0</td>\n",
       "      <td>1.0</td>\n",
       "      <td>335249.0</td>\n",
       "      <td>28.0</td>\n",
       "      <td>335249.0</td>\n",
       "      <td>28.0</td>\n",
       "      <td>0</td>\n",
       "    </tr>\n",
       "    <tr>\n",
       "      <th>1</th>\n",
       "      <td>FIN1000002</td>\n",
       "      <td>842001</td>\n",
       "      <td>4/16/2007</td>\n",
       "      <td>844111.0</td>\n",
       "      <td>M</td>\n",
       "      <td>2/17/1983</td>\n",
       "      <td>S</td>\n",
       "      <td>Others</td>\n",
       "      <td>Class XII</td>\n",
       "      <td>11/10/2005</td>\n",
       "      <td>...</td>\n",
       "      <td>Confirmation</td>\n",
       "      <td>M</td>\n",
       "      <td>2/17/1978</td>\n",
       "      <td>2.0</td>\n",
       "      <td>1.0</td>\n",
       "      <td>335249.0</td>\n",
       "      <td>28.0</td>\n",
       "      <td>335249.0</td>\n",
       "      <td>28.0</td>\n",
       "      <td>1</td>\n",
       "    </tr>\n",
       "    <tr>\n",
       "      <th>2</th>\n",
       "      <td>FIN1000003</td>\n",
       "      <td>800001</td>\n",
       "      <td>4/16/2007</td>\n",
       "      <td>844101.0</td>\n",
       "      <td>M</td>\n",
       "      <td>1/16/1966</td>\n",
       "      <td>M</td>\n",
       "      <td>Business</td>\n",
       "      <td>Class XII</td>\n",
       "      <td>5/27/2006</td>\n",
       "      <td>...</td>\n",
       "      <td>Confirmation</td>\n",
       "      <td>M</td>\n",
       "      <td>3/3/1969</td>\n",
       "      <td>0.0</td>\n",
       "      <td>0.0</td>\n",
       "      <td>357184.0</td>\n",
       "      <td>24.0</td>\n",
       "      <td>357184.0</td>\n",
       "      <td>24.0</td>\n",
       "      <td>0</td>\n",
       "    </tr>\n",
       "    <tr>\n",
       "      <th>3</th>\n",
       "      <td>FIN1000004</td>\n",
       "      <td>814112</td>\n",
       "      <td>4/16/2007</td>\n",
       "      <td>814112.0</td>\n",
       "      <td>M</td>\n",
       "      <td>2/3/1988</td>\n",
       "      <td>S</td>\n",
       "      <td>Salaried</td>\n",
       "      <td>Class XII</td>\n",
       "      <td>8/21/2003</td>\n",
       "      <td>...</td>\n",
       "      <td>Confirmation</td>\n",
       "      <td>F</td>\n",
       "      <td>8/14/1978</td>\n",
       "      <td>0.0</td>\n",
       "      <td>0.0</td>\n",
       "      <td>318356.0</td>\n",
       "      <td>22.0</td>\n",
       "      <td>318356.0</td>\n",
       "      <td>22.0</td>\n",
       "      <td>0</td>\n",
       "    </tr>\n",
       "    <tr>\n",
       "      <th>4</th>\n",
       "      <td>FIN1000005</td>\n",
       "      <td>814112</td>\n",
       "      <td>4/16/2007</td>\n",
       "      <td>815351.0</td>\n",
       "      <td>M</td>\n",
       "      <td>7/4/1985</td>\n",
       "      <td>M</td>\n",
       "      <td>Others</td>\n",
       "      <td>Class XII</td>\n",
       "      <td>5/8/2006</td>\n",
       "      <td>...</td>\n",
       "      <td>Confirmation</td>\n",
       "      <td>M</td>\n",
       "      <td>2/7/1971</td>\n",
       "      <td>2.0</td>\n",
       "      <td>1.0</td>\n",
       "      <td>230402.0</td>\n",
       "      <td>17.0</td>\n",
       "      <td>230402.0</td>\n",
       "      <td>17.0</td>\n",
       "      <td>0</td>\n",
       "    </tr>\n",
       "  </tbody>\n",
       "</table>\n",
       "<p>5 rows × 23 columns</p>\n",
       "</div>"
      ],
      "text/plain": [
       "           ID  Office_PIN Application_Receipt_Date  Applicant_City_PIN  \\\n",
       "0  FIN1000001      842001                4/16/2007            844120.0   \n",
       "1  FIN1000002      842001                4/16/2007            844111.0   \n",
       "2  FIN1000003      800001                4/16/2007            844101.0   \n",
       "3  FIN1000004      814112                4/16/2007            814112.0   \n",
       "4  FIN1000005      814112                4/16/2007            815351.0   \n",
       "\n",
       "  Applicant_Gender Applicant_BirthDate Applicant_Marital_Status  \\\n",
       "0                M          12/19/1971                        M   \n",
       "1                M           2/17/1983                        S   \n",
       "2                M           1/16/1966                        M   \n",
       "3                M            2/3/1988                        S   \n",
       "4                M            7/4/1985                        M   \n",
       "\n",
       "  Applicant_Occupation Applicant_Qualification Manager_DOJ  ...  \\\n",
       "0               Others                Graduate  11/10/2005  ...   \n",
       "1               Others               Class XII  11/10/2005  ...   \n",
       "2             Business               Class XII   5/27/2006  ...   \n",
       "3             Salaried               Class XII   8/21/2003  ...   \n",
       "4               Others               Class XII    5/8/2006  ...   \n",
       "\n",
       "  Manager_Status Manager_Gender  Manager_DoB Manager_Num_Application  \\\n",
       "0   Confirmation              M    2/17/1978                     2.0   \n",
       "1   Confirmation              M    2/17/1978                     2.0   \n",
       "2   Confirmation              M     3/3/1969                     0.0   \n",
       "3   Confirmation              F    8/14/1978                     0.0   \n",
       "4   Confirmation              M     2/7/1971                     2.0   \n",
       "\n",
       "  Manager_Num_Coded Manager_Business  Manager_Num_Products  Manager_Business2  \\\n",
       "0               1.0         335249.0                  28.0           335249.0   \n",
       "1               1.0         335249.0                  28.0           335249.0   \n",
       "2               0.0         357184.0                  24.0           357184.0   \n",
       "3               0.0         318356.0                  22.0           318356.0   \n",
       "4               1.0         230402.0                  17.0           230402.0   \n",
       "\n",
       "   Manager_Num_Products2  Business_Sourced  \n",
       "0                   28.0                 0  \n",
       "1                   28.0                 1  \n",
       "2                   24.0                 0  \n",
       "3                   22.0                 0  \n",
       "4                   17.0                 0  \n",
       "\n",
       "[5 rows x 23 columns]"
      ]
     },
     "execution_count": 40,
     "metadata": {},
     "output_type": "execute_result"
    }
   ],
   "source": [
    "df.head()"
   ]
  },
  {
   "cell_type": "code",
   "execution_count": 41,
   "id": "b8e6d1cb",
   "metadata": {
    "colab": {
     "base_uri": "https://localhost:8080/"
    },
    "id": "b8e6d1cb",
    "outputId": "ef4aae6a-af8d-44e5-a99b-8871072feba5",
    "scrolled": true
   },
   "outputs": [
    {
     "data": {
      "text/plain": [
       "Index(['ID', 'Office_PIN', 'Application_Receipt_Date', 'Applicant_City_PIN',\n",
       "       'Applicant_Gender', 'Applicant_BirthDate', 'Applicant_Marital_Status',\n",
       "       'Applicant_Occupation', 'Applicant_Qualification', 'Manager_DOJ',\n",
       "       'Manager_Joining_Designation', 'Manager_Current_Designation',\n",
       "       'Manager_Grade', 'Manager_Status', 'Manager_Gender', 'Manager_DoB',\n",
       "       'Manager_Num_Application', 'Manager_Num_Coded', 'Manager_Business',\n",
       "       'Manager_Num_Products', 'Manager_Business2', 'Manager_Num_Products2',\n",
       "       'Business_Sourced'],\n",
       "      dtype='object')"
      ]
     },
     "execution_count": 41,
     "metadata": {},
     "output_type": "execute_result"
    }
   ],
   "source": [
    "#Columns of df\n",
    "df.columns"
   ]
  },
  {
   "cell_type": "code",
   "execution_count": 42,
   "id": "19b03084",
   "metadata": {
    "colab": {
     "base_uri": "https://localhost:8080/"
    },
    "id": "19b03084",
    "outputId": "a2410db9-4bfb-48b6-a8e0-d7a0ecc8bcb0"
   },
   "outputs": [
    {
     "data": {
      "text/plain": [
       "(9527, 23)"
      ]
     },
     "execution_count": 42,
     "metadata": {},
     "output_type": "execute_result"
    }
   ],
   "source": [
    "#Shape of object\n",
    "df.shape"
   ]
  },
  {
   "cell_type": "code",
   "execution_count": 43,
   "id": "f14e0e83",
   "metadata": {
    "colab": {
     "base_uri": "https://localhost:8080/"
    },
    "id": "f14e0e83",
    "outputId": "177bef66-c064-450a-db17-8b57bc1b201f",
    "scrolled": true
   },
   "outputs": [
    {
     "data": {
      "text/plain": [
       "ID                              0.000000\n",
       "Office_PIN                      0.000000\n",
       "Application_Receipt_Date        0.000000\n",
       "Applicant_City_PIN              1.018159\n",
       "Applicant_Gender                0.703264\n",
       "Applicant_BirthDate             0.766243\n",
       "Applicant_Marital_Status        0.766243\n",
       "Applicant_Occupation           12.816207\n",
       "Applicant_Qualification         0.902698\n",
       "Manager_DOJ                     7.169098\n",
       "Manager_Joining_Designation     7.169098\n",
       "Manager_Current_Designation     7.169098\n",
       "Manager_Grade                   7.169098\n",
       "Manager_Status                  7.169098\n",
       "Manager_Gender                  7.169098\n",
       "Manager_DoB                     7.169098\n",
       "Manager_Num_Application         7.169098\n",
       "Manager_Num_Coded               7.169098\n",
       "Manager_Business                7.169098\n",
       "Manager_Num_Products            7.169098\n",
       "Manager_Business2               7.169098\n",
       "Manager_Num_Products2           7.169098\n",
       "Business_Sourced                0.000000\n",
       "dtype: float64"
      ]
     },
     "execution_count": 43,
     "metadata": {},
     "output_type": "execute_result"
    }
   ],
   "source": [
    "#missing value percentage\n",
    "df.isnull().sum()/len(df)*100"
   ]
  },
  {
   "cell_type": "code",
   "execution_count": 44,
   "id": "1a941f09",
   "metadata": {
    "colab": {
     "base_uri": "https://localhost:8080/"
    },
    "id": "1a941f09",
    "outputId": "0cd0a495-8394-4847-f9c1-4e9fcbabb9c5",
    "scrolled": false
   },
   "outputs": [
    {
     "name": "stdout",
     "output_type": "stream",
     "text": [
      "<class 'pandas.core.frame.DataFrame'>\n",
      "RangeIndex: 9527 entries, 0 to 9526\n",
      "Data columns (total 23 columns):\n",
      " #   Column                       Non-Null Count  Dtype  \n",
      "---  ------                       --------------  -----  \n",
      " 0   ID                           9527 non-null   object \n",
      " 1   Office_PIN                   9527 non-null   int64  \n",
      " 2   Application_Receipt_Date     9527 non-null   object \n",
      " 3   Applicant_City_PIN           9430 non-null   float64\n",
      " 4   Applicant_Gender             9460 non-null   object \n",
      " 5   Applicant_BirthDate          9454 non-null   object \n",
      " 6   Applicant_Marital_Status     9454 non-null   object \n",
      " 7   Applicant_Occupation         8306 non-null   object \n",
      " 8   Applicant_Qualification      9441 non-null   object \n",
      " 9   Manager_DOJ                  8844 non-null   object \n",
      " 10  Manager_Joining_Designation  8844 non-null   object \n",
      " 11  Manager_Current_Designation  8844 non-null   object \n",
      " 12  Manager_Grade                8844 non-null   float64\n",
      " 13  Manager_Status               8844 non-null   object \n",
      " 14  Manager_Gender               8844 non-null   object \n",
      " 15  Manager_DoB                  8844 non-null   object \n",
      " 16  Manager_Num_Application      8844 non-null   float64\n",
      " 17  Manager_Num_Coded            8844 non-null   float64\n",
      " 18  Manager_Business             8844 non-null   float64\n",
      " 19  Manager_Num_Products         8844 non-null   float64\n",
      " 20  Manager_Business2            8844 non-null   float64\n",
      " 21  Manager_Num_Products2        8844 non-null   float64\n",
      " 22  Business_Sourced             9527 non-null   int64  \n",
      "dtypes: float64(8), int64(2), object(13)\n",
      "memory usage: 1.7+ MB\n"
     ]
    }
   ],
   "source": [
    "#Info of df()\n",
    "df.info()"
   ]
  },
  {
   "cell_type": "markdown",
   "id": "1268a1b9",
   "metadata": {
    "id": "1268a1b9"
   },
   "source": [
    "### CHANGE DATA TYPES"
   ]
  },
  {
   "cell_type": "code",
   "execution_count": 45,
   "id": "d5db9dcc",
   "metadata": {
    "id": "d5db9dcc"
   },
   "outputs": [],
   "source": [
    "#Converting dates into date time format"
   ]
  },
  {
   "cell_type": "code",
   "execution_count": 46,
   "id": "06378c64",
   "metadata": {
    "id": "06378c64"
   },
   "outputs": [],
   "source": [
    "df['Application_Receipt_Date'] = pd.to_datetime(df['Application_Receipt_Date'])\n",
    "df['Applicant_BirthDate'] = pd.to_datetime(df['Applicant_BirthDate'])\n",
    "df['Manager_DoB'] = pd.to_datetime(df['Manager_DoB'])\n",
    "df['Manager_DOJ'] = pd.to_datetime(df['Manager_DOJ'])"
   ]
  },
  {
   "cell_type": "code",
   "execution_count": 47,
   "id": "27cb584b",
   "metadata": {
    "colab": {
     "base_uri": "https://localhost:8080/"
    },
    "id": "27cb584b",
    "outputId": "2bf5a62a-d4a6-4452-80a2-9b98890d7b35"
   },
   "outputs": [
    {
     "name": "stdout",
     "output_type": "stream",
     "text": [
      "<class 'pandas.core.frame.DataFrame'>\n",
      "RangeIndex: 9527 entries, 0 to 9526\n",
      "Data columns (total 23 columns):\n",
      " #   Column                       Non-Null Count  Dtype         \n",
      "---  ------                       --------------  -----         \n",
      " 0   ID                           9527 non-null   object        \n",
      " 1   Office_PIN                   9527 non-null   int64         \n",
      " 2   Application_Receipt_Date     9527 non-null   datetime64[ns]\n",
      " 3   Applicant_City_PIN           9430 non-null   float64       \n",
      " 4   Applicant_Gender             9460 non-null   object        \n",
      " 5   Applicant_BirthDate          9454 non-null   datetime64[ns]\n",
      " 6   Applicant_Marital_Status     9454 non-null   object        \n",
      " 7   Applicant_Occupation         8306 non-null   object        \n",
      " 8   Applicant_Qualification      9441 non-null   object        \n",
      " 9   Manager_DOJ                  8844 non-null   datetime64[ns]\n",
      " 10  Manager_Joining_Designation  8844 non-null   object        \n",
      " 11  Manager_Current_Designation  8844 non-null   object        \n",
      " 12  Manager_Grade                8844 non-null   float64       \n",
      " 13  Manager_Status               8844 non-null   object        \n",
      " 14  Manager_Gender               8844 non-null   object        \n",
      " 15  Manager_DoB                  8844 non-null   datetime64[ns]\n",
      " 16  Manager_Num_Application      8844 non-null   float64       \n",
      " 17  Manager_Num_Coded            8844 non-null   float64       \n",
      " 18  Manager_Business             8844 non-null   float64       \n",
      " 19  Manager_Num_Products         8844 non-null   float64       \n",
      " 20  Manager_Business2            8844 non-null   float64       \n",
      " 21  Manager_Num_Products2        8844 non-null   float64       \n",
      " 22  Business_Sourced             9527 non-null   int64         \n",
      "dtypes: datetime64[ns](4), float64(8), int64(2), object(9)\n",
      "memory usage: 1.7+ MB\n"
     ]
    }
   ],
   "source": [
    "df.info()"
   ]
  },
  {
   "cell_type": "markdown",
   "id": "58583a3e",
   "metadata": {
    "id": "58583a3e"
   },
   "source": [
    "### EDA"
   ]
  },
  {
   "cell_type": "code",
   "execution_count": 48,
   "id": "bad232d4",
   "metadata": {
    "id": "bad232d4"
   },
   "outputs": [],
   "source": [
    "#Creating eda dataset\n",
    "edadf=df"
   ]
  },
  {
   "cell_type": "code",
   "execution_count": 49,
   "id": "01347988",
   "metadata": {
    "id": "01347988"
   },
   "outputs": [],
   "source": [
    "#convert to category\n",
    "edadf['Office_PIN']=edadf['Office_PIN'].astype(\"category\")\n",
    "edadf['Applicant_City_PIN']=edadf['Applicant_City_PIN'].astype(\"category\")\n",
    "edadf['Manager_Grade']=edadf['Manager_Grade'].astype(\"category\")\n",
    "edadf['Business_Sourced']=edadf['Business_Sourced'].astype(\"category\")\n",
    "edadf['Manager_Num_Coded']=edadf['Manager_Num_Coded'].astype(\"category\")\n",
    "edadf['Applicant_Gender']=edadf['Applicant_Gender'].astype(\"category\")\n",
    "edadf['Applicant_Marital_Status']=edadf['Applicant_Marital_Status'].astype(\"category\")\n",
    "edadf['Applicant_Occupation']=edadf['Applicant_Occupation'].astype(\"category\")\n",
    "edadf['Applicant_Qualification']=edadf['Applicant_Qualification'].astype(\"category\")\n",
    "edadf['Manager_Joining_Designation']=edadf['Manager_Joining_Designation'].astype(\"category\")\n",
    "edadf['Manager_Current_Designation']=edadf['Manager_Current_Designation'].astype(\"category\")\n",
    "edadf['Manager_Status']=edadf['Manager_Status'].astype(\"category\")\n",
    "edadf['Manager_Gender']=edadf['Manager_Gender'].astype(\"category\")\n",
    "\n",
    "\n"
   ]
  },
  {
   "cell_type": "code",
   "execution_count": 50,
   "id": "90cc3d33",
   "metadata": {
    "id": "90cc3d33"
   },
   "outputs": [],
   "source": [
    "# #DATE Columns\n",
    "# edadf['Applicant_BirthDate']=pd.to_numeric(edadf['Applicant_BirthDate'])\n",
    "# edadf['Application_Receipt_Date']=pd.to_numeric(edadf['Application_Receipt_Date'])\n",
    "# edadf['Manager_DOJ']=pd.to_numeric(edadf['Manager_DOJ'])\n",
    "# edadf['Manager_DoB']=pd.to_numeric(edadf['Manager_DoB'])"
   ]
  },
  {
   "cell_type": "markdown",
   "id": "d574a29f",
   "metadata": {
    "id": "d574a29f"
   },
   "source": [
    "### Univariate Analysis"
   ]
  },
  {
   "cell_type": "code",
   "execution_count": 51,
   "id": "e91521a4",
   "metadata": {
    "colab": {
     "base_uri": "https://localhost:8080/",
     "height": 297
    },
    "id": "e91521a4",
    "outputId": "189d6a50-9fb1-4038-e99f-79372a348a3c"
   },
   "outputs": [
    {
     "data": {
      "text/plain": [
       "<AxesSubplot:xlabel='Applicant_Gender', ylabel='count'>"
      ]
     },
     "execution_count": 51,
     "metadata": {},
     "output_type": "execute_result"
    },
    {
     "data": {
      "image/png": "[encoded data removed]",
      "text/plain": [
       "<Figure size 432x288 with 1 Axes>"
      ]
     },
     "metadata": {
      "needs_background": "light"
     },
     "output_type": "display_data"
    }
   ],
   "source": [
    "sns.countplot(x=edadf['Applicant_Gender'],palette=\"Set2\")"
   ]
  },
  {
   "cell_type": "code",
   "execution_count": 52,
   "id": "33a070d7",
   "metadata": {
    "colab": {
     "base_uri": "https://localhost:8080/",
     "height": 297
    },
    "id": "33a070d7",
    "outputId": "cf04042c-99bb-43fa-8dcb-8e0d46792b0f"
   },
   "outputs": [
    {
     "data": {
      "text/plain": [
       "<AxesSubplot:xlabel='Applicant_Marital_Status', ylabel='count'>"
      ]
     },
     "execution_count": 52,
     "metadata": {},
     "output_type": "execute_result"
    },
    {
     "data": {
      "image/png": "[encoded data removed]",
      "text/plain": [
       "<Figure size 432x288 with 1 Axes>"
      ]
     },
     "metadata": {
      "needs_background": "light"
     },
     "output_type": "display_data"
    }
   ],
   "source": [
    "sns.countplot(x=edadf['Applicant_Marital_Status'],palette=\"Set2\")"
   ]
  },
  {
   "cell_type": "code",
   "execution_count": 53,
   "id": "83e72ef6",
   "metadata": {
    "colab": {
     "base_uri": "https://localhost:8080/",
     "height": 297
    },
    "id": "83e72ef6",
    "outputId": "d7e9a1dc-1997-49e9-f51d-01d0a6dbadd2"
   },
   "outputs": [
    {
     "data": {
      "text/plain": [
       "<AxesSubplot:xlabel='Applicant_Occupation', ylabel='count'>"
      ]
     },
     "execution_count": 53,
     "metadata": {},
     "output_type": "execute_result"
    },
    {
     "data": {
      "image/png": "[encoded data removed]",
      "text/plain": [
       "<Figure size 432x288 with 1 Axes>"
      ]
     },
     "metadata": {
      "needs_background": "light"
     },
     "output_type": "display_data"
    }
   ],
   "source": [
    "sns.countplot(x=edadf['Applicant_Occupation'],palette=\"Set2\")"
   ]
  },
  {
   "cell_type": "code",
   "execution_count": 54,
   "id": "c1fd6b37",
   "metadata": {
    "colab": {
     "base_uri": "https://localhost:8080/",
     "height": 297
    },
    "id": "c1fd6b37",
    "outputId": "3306681d-a5a7-41c5-d3a7-b2a3ff5f9708"
   },
   "outputs": [
    {
     "data": {
      "text/plain": [
       "<AxesSubplot:xlabel='Manager_Current_Designation', ylabel='count'>"
      ]
     },
     "execution_count": 54,
     "metadata": {},
     "output_type": "execute_result"
    },
    {
     "data": {
      "image/png": "[encoded data removed]",
      "text/plain": [
       "<Figure size 432x288 with 1 Axes>"
      ]
     },
     "metadata": {
      "needs_background": "light"
     },
     "output_type": "display_data"
    }
   ],
   "source": [
    "sns.countplot(x=edadf['Manager_Current_Designation'],palette=\"Set2\")"
   ]
  },
  {
   "cell_type": "code",
   "execution_count": 55,
   "id": "79de660b",
   "metadata": {
    "colab": {
     "base_uri": "https://localhost:8080/",
     "height": 297
    },
    "id": "79de660b",
    "outputId": "82b6cac0-7b46-48e7-cea3-350fecf38571"
   },
   "outputs": [
    {
     "data": {
      "text/plain": [
       "<AxesSubplot:xlabel='Manager_Status', ylabel='count'>"
      ]
     },
     "execution_count": 55,
     "metadata": {},
     "output_type": "execute_result"
    },
    {
     "data": {
      "image/png": "[encoded data removed]",
      "text/plain": [
       "<Figure size 432x288 with 1 Axes>"
      ]
     },
     "metadata": {
      "needs_background": "light"
     },
     "output_type": "display_data"
    }
   ],
   "source": [
    "sns.countplot(x=edadf['Manager_Status'],palette=\"Set2\")"
   ]
  },
  {
   "cell_type": "code",
   "execution_count": 56,
   "id": "9223b15f",
   "metadata": {
    "colab": {
     "base_uri": "https://localhost:8080/",
     "height": 297
    },
    "id": "9223b15f",
    "outputId": "ea076138-6a23-4e5a-8a9f-d1d1bd657dfb"
   },
   "outputs": [
    {
     "data": {
      "text/plain": [
       "<AxesSubplot:xlabel='Manager_Joining_Designation', ylabel='count'>"
      ]
     },
     "execution_count": 56,
     "metadata": {},
     "output_type": "execute_result"
    },
    {
     "data": {
      "image/png": "[encoded data removed]",
      "text/plain": [
       "<Figure size 432x288 with 1 Axes>"
      ]
     },
     "metadata": {
      "needs_background": "light"
     },
     "output_type": "display_data"
    }
   ],
   "source": [
    "sns.countplot(x=edadf['Manager_Joining_Designation'],palette=\"Set2\")"
   ]
  },
  {
   "cell_type": "code",
   "execution_count": 57,
   "id": "eadca650",
   "metadata": {
    "colab": {
     "base_uri": "https://localhost:8080/",
     "height": 296
    },
    "id": "eadca650",
    "outputId": "f9a0629c-415b-4358-eb21-e01f709cfc9d"
   },
   "outputs": [
    {
     "data": {
      "text/plain": [
       "<AxesSubplot:xlabel='count', ylabel='Applicant_Qualification'>"
      ]
     },
     "execution_count": 57,
     "metadata": {},
     "output_type": "execute_result"
    },
    {
     "data": {
      "image/png": "[encoded data removed]",
      "text/plain": [
       "<Figure size 432x288 with 1 Axes>"
      ]
     },
     "metadata": {
      "needs_background": "light"
     },
     "output_type": "display_data"
    }
   ],
   "source": [
    "sns.countplot(y=edadf['Applicant_Qualification'],palette=\"Set2\")"
   ]
  },
  {
   "cell_type": "code",
   "execution_count": 58,
   "id": "a178f304",
   "metadata": {
    "colab": {
     "base_uri": "https://localhost:8080/",
     "height": 297
    },
    "id": "a178f304",
    "outputId": "7a4f9ad8-878e-427f-a89c-eea2f3940b01"
   },
   "outputs": [
    {
     "data": {
      "text/plain": [
       "<AxesSubplot:xlabel='Manager_Grade', ylabel='count'>"
      ]
     },
     "execution_count": 58,
     "metadata": {},
     "output_type": "execute_result"
    },
    {
     "data": {
      "image/png": "[encoded data removed]",
      "text/plain": [
       "<Figure size 432x288 with 1 Axes>"
      ]
     },
     "metadata": {
      "needs_background": "light"
     },
     "output_type": "display_data"
    }
   ],
   "source": [
    "sns.countplot(x=edadf['Manager_Grade'],palette=\"Set2\")"
   ]
  },
  {
   "cell_type": "code",
   "execution_count": 59,
   "id": "121da4b4",
   "metadata": {
    "colab": {
     "base_uri": "https://localhost:8080/",
     "height": 301
    },
    "id": "121da4b4",
    "outputId": "0c0c5a5f-79ff-4083-ecb8-4eefdcb8ea15"
   },
   "outputs": [
    {
     "data": {
      "text/plain": [
       "<AxesSubplot:xlabel='Manager_Gender', ylabel='count'>"
      ]
     },
     "execution_count": 59,
     "metadata": {},
     "output_type": "execute_result"
    },
    {
     "data": {
      "image/png": "[encoded data removed]",
      "text/plain": [
       "<Figure size 432x288 with 1 Axes>"
      ]
     },
     "metadata": {
      "needs_background": "light"
     },
     "output_type": "display_data"
    }
   ],
   "source": [
    "sns.countplot(x=edadf['Manager_Gender'],palette=\"Set2\")"
   ]
  },
  {
   "cell_type": "code",
   "execution_count": 60,
   "id": "2dc71e81",
   "metadata": {
    "colab": {
     "base_uri": "https://localhost:8080/",
     "height": 297
    },
    "id": "2dc71e81",
    "outputId": "0775c9cf-a044-4eab-c9f1-d804a5eaab14"
   },
   "outputs": [
    {
     "data": {
      "text/plain": [
       "<AxesSubplot:xlabel='Manager_Num_Application', ylabel='count'>"
      ]
     },
     "execution_count": 60,
     "metadata": {},
     "output_type": "execute_result"
    },
    {
     "data": {
      "image/png": "[encoded data removed]",
      "text/plain": [
       "<Figure size 432x288 with 1 Axes>"
      ]
     },
     "metadata": {
      "needs_background": "light"
     },
     "output_type": "display_data"
    }
   ],
   "source": [
    "sns.countplot(x=edadf['Manager_Num_Application'],palette=\"Set2\")"
   ]
  },
  {
   "cell_type": "code",
   "execution_count": null,
   "id": "cc147d19",
   "metadata": {
    "id": "cc147d19"
   },
   "outputs": [],
   "source": []
  },
  {
   "cell_type": "code",
   "execution_count": null,
   "id": "5c8905d9",
   "metadata": {
    "id": "5c8905d9"
   },
   "outputs": [],
   "source": []
  },
  {
   "cell_type": "code",
   "execution_count": 61,
   "id": "b1c95681",
   "metadata": {
    "id": "b1c95681"
   },
   "outputs": [],
   "source": [
    "# sns.countplot(x=edadf['Applicant_City_PIN'],palette=\"Set2\")"
   ]
  },
  {
   "cell_type": "code",
   "execution_count": 62,
   "id": "1a4d5f11",
   "metadata": {
    "colab": {
     "base_uri": "https://localhost:8080/",
     "height": 297
    },
    "id": "1a4d5f11",
    "outputId": "a9502cca-b0c2-4cd8-b11d-cacbde909127"
   },
   "outputs": [
    {
     "data": {
      "text/plain": [
       "<AxesSubplot:xlabel='Business_Sourced', ylabel='count'>"
      ]
     },
     "execution_count": 62,
     "metadata": {},
     "output_type": "execute_result"
    },
    {
     "data": {
      "image/png": "[encoded data removed]",
      "text/plain": [
       "<Figure size 432x288 with 1 Axes>"
      ]
     },
     "metadata": {
      "needs_background": "light"
     },
     "output_type": "display_data"
    }
   ],
   "source": [
    "sns.countplot(x=edadf['Business_Sourced'],palette=\"Set2\")"
   ]
  },
  {
   "cell_type": "code",
   "execution_count": 63,
   "id": "3e71976c",
   "metadata": {
    "id": "3e71976c"
   },
   "outputs": [],
   "source": [
    "\n",
    "\n",
    "def UVA_numeric(data, var_group):\n",
    "  '''\n",
    "  Univariate_Analysis_numeric\n",
    "  takes a group of variables (INTEGER and FLOAT) and plot/print all the descriptives and properties along with KDE.\n",
    "\n",
    "  Runs a loop: calculate all the descriptives of i(th) variable and plot/print it\n",
    "  '''\n",
    "\n",
    "  size = len(var_group)\n",
    "  plt.figure(figsize = (7*size,3), dpi = 100)\n",
    "  \n",
    "  #looping for each variable\n",
    "  for j,i in enumerate(var_group):\n",
    "    \n",
    "    # calculating descriptives of variable\n",
    "    mini = data[i].min()\n",
    "    maxi = data[i].max()\n",
    "    ran = data[i].max()-data[i].min()\n",
    "    mean = data[i].mean()\n",
    "    median = data[i].median()\n",
    "    st_dev = data[i].std()\n",
    "    skew = data[i].skew()\n",
    "    kurt = data[i].kurtosis()\n",
    "\n",
    "    # calculating points of standard deviation\n",
    "    points = mean-st_dev, mean+st_dev\n",
    "\n",
    "    #Plotting the variable with every information\n",
    "    plt.subplot(1,size,j+1)\n",
    "    sns.kdeplot(data[i], shade=True)\n",
    "    sns.lineplot(x=points, y=[0,0], color = 'black', label = \"std_dev\")\n",
    "\n",
    "    sns.scatterplot(x=[mini,maxi], y=[0,0], color = 'orange', label = \"min/max\")\n",
    "    sns.scatterplot(x=[mean], y=[0], color = 'red', label = \"mean\")\n",
    "    sns.scatterplot(x=[median], y=[0], color = 'blue', label = \"median\")\n",
    "    plt.xlabel('{}'.format(i), fontsize = 20)\n",
    "    plt.ylabel('density')\n",
    "    plt.title('std_dev = {}; kurtosis = {};\\nskew = {}; range = {}\\nmean = {}; median = {}'.format((round(points[0],2),round(points[1],2)),\n",
    "                                                                                                   round(kurt,2),\n",
    "                                                                                                   round(skew,2),\n",
    "                                                                                                   (round(mini,2),round(maxi,2),round(ran,2)),\n",
    "                                                                                                   round(mean,2),\n",
    "                                                                                                   round(median,2)))\n"
   ]
  },
  {
   "cell_type": "code",
   "execution_count": null,
   "id": "cf2d4f37",
   "metadata": {
    "id": "cf2d4f37"
   },
   "outputs": [],
   "source": []
  },
  {
   "cell_type": "code",
   "execution_count": 65,
   "id": "1238a70f",
   "metadata": {
    "colab": {
     "base_uri": "https://localhost:8080/",
     "height": 364
    },
    "id": "1238a70f",
    "outputId": "530fefc4-f379-4e65-cd24-28bd963e2de2"
   },
   "outputs": [],
   "source": [
    "# plt.figure(figsize=[30,6])\n",
    "# sns.countplot(x = 'Office_PIN', data=edadf,palette=\"Set2\")\n",
    "# plt.xticks(rotation=90)\n",
    "# plt.show()"
   ]
  },
  {
   "cell_type": "code",
   "execution_count": 66,
   "id": "1aaa72df",
   "metadata": {
    "id": "1aaa72df"
   },
   "outputs": [],
   "source": [
    "# plt.figure(figsize=[30,6])\n",
    "# sns.countplot(x = 'Applicant_City_PIN', data=edadf,palette=\"Set2\")\n",
    "\n",
    "# plt.show()"
   ]
  },
  {
   "cell_type": "code",
   "execution_count": null,
   "id": "e9f44c0f",
   "metadata": {
    "id": "e9f44c0f"
   },
   "outputs": [],
   "source": []
  },
  {
   "cell_type": "markdown",
   "id": "4ce5fbf8",
   "metadata": {
    "id": "4ce5fbf8"
   },
   "source": [
    "### IMPUTE DATA AND CREATE NEW FEATURES "
   ]
  },
  {
   "cell_type": "code",
   "execution_count": 67,
   "id": "ee39dcc7",
   "metadata": {
    "id": "ee39dcc7"
   },
   "outputs": [],
   "source": [
    "#Replacing Data cols values which are not present in test or less in count, convert to 'Others'\n",
    "df['Applicant_Qualification'].replace('Masters of Business Administration','Other',inplace = True)\n",
    "df['Applicant_Qualification'].replace('Associate/Fellow of Institute of Company Secretories of India','Other',inplace = True)\n",
    "df['Applicant_Qualification'].replace('Associate / Fellow of Institute of Chartered Accountans of India','Other',inplace = True)\n",
    "df['Applicant_Qualification'].replace('Associate/Fellow of Insurance Institute of India','Others',inplace = True)\n",
    "df['Applicant_Qualification'].replace('Associate/Fellow of Acturial Society of India','Other',inplace = True)\n",
    "df['Applicant_Qualification'].replace('Certified Associateship of Indian Institute of Bankers','Other',inplace = True)\n",
    "df['Applicant_Qualification'].replace('Professional Qualification in Marketing','Other',inplace = True)\n",
    "df['Manager_Joining_Designation'].replace(['Level 4','Level 5','Level 6','Level 7'],'Other', inplace=True)\n",
    "df['Manager_Current_Designation'].replace(['Level 4','Level 5'],'Other', inplace=True)\n",
    "df['Manager_Grade'].replace(['5','6','7','8','9','10'],'Other', inplace=True)"
   ]
  },
  {
   "cell_type": "code",
   "execution_count": null,
   "id": "73ff74f9",
   "metadata": {
    "id": "73ff74f9"
   },
   "outputs": [],
   "source": []
  },
  {
   "cell_type": "code",
   "execution_count": 68,
   "id": "f3e118d9",
   "metadata": {
    "id": "f3e118d9"
   },
   "outputs": [],
   "source": [
    "from datetime import datetime\n",
    "\n"
   ]
  },
  {
   "cell_type": "code",
   "execution_count": 69,
   "id": "6c2d8355",
   "metadata": {
    "id": "6c2d8355"
   },
   "outputs": [],
   "source": [
    "#calculate current date \n",
    "date_today=(pd.to_datetime(datetime.today().strftime('%Y-%m-%d')))\n"
   ]
  },
  {
   "cell_type": "code",
   "execution_count": 70,
   "id": "ed5f381a",
   "metadata": {
    "colab": {
     "base_uri": "https://localhost:8080/"
    },
    "id": "ed5f381a",
    "outputId": "bc635a0c-fdc4-42e9-95d4-ef3058e07682"
   },
   "outputs": [
    {
     "data": {
      "text/plain": [
       "ID                                     object\n",
       "Office_PIN                           category\n",
       "Application_Receipt_Date       datetime64[ns]\n",
       "Applicant_City_PIN                   category\n",
       "Applicant_Gender                     category\n",
       "Applicant_BirthDate            datetime64[ns]\n",
       "Applicant_Marital_Status             category\n",
       "Applicant_Occupation                 category\n",
       "Applicant_Qualification              category\n",
       "Manager_DOJ                    datetime64[ns]\n",
       "Manager_Joining_Designation          category\n",
       "Manager_Current_Designation          category\n",
       "Manager_Grade                        category\n",
       "Manager_Status                       category\n",
       "Manager_Gender                       category\n",
       "Manager_DoB                    datetime64[ns]\n",
       "Manager_Num_Application               float64\n",
       "Manager_Num_Coded                    category\n",
       "Manager_Business                      float64\n",
       "Manager_Num_Products                  float64\n",
       "Manager_Business2                     float64\n",
       "Manager_Num_Products2                 float64\n",
       "Business_Sourced                     category\n",
       "dtype: object"
      ]
     },
     "execution_count": 70,
     "metadata": {},
     "output_type": "execute_result"
    }
   ],
   "source": [
    "df.dtypes"
   ]
  },
  {
   "cell_type": "code",
   "execution_count": 71,
   "id": "279a1004",
   "metadata": {
    "id": "279a1004"
   },
   "outputs": [],
   "source": [
    "# df['Cal_Application_Receipt_Date']=date_today-df['Application_Receipt_Date']"
   ]
  },
  {
   "cell_type": "code",
   "execution_count": 72,
   "id": "973a8d99",
   "metadata": {
    "colab": {
     "base_uri": "https://localhost:8080/",
     "height": 224
    },
    "id": "973a8d99",
    "outputId": "f21d291a-4e25-4c7d-89a7-f74e4f4f35a1"
   },
   "outputs": [
    {
     "data": {
      "text/html": [
       "<div>\n",
       "<style scoped>\n",
       "    .dataframe tbody tr th:only-of-type {\n",
       "        vertical-align: middle;\n",
       "    }\n",
       "\n",
       "    .dataframe tbody tr th {\n",
       "        vertical-align: top;\n",
       "    }\n",
       "\n",
       "    .dataframe thead th {\n",
       "        text-align: right;\n",
       "    }\n",
       "</style>\n",
       "<table border=\"1\" class=\"dataframe\">\n",
       "  <thead>\n",
       "    <tr style=\"text-align: right;\">\n",
       "      <th></th>\n",
       "      <th>ID</th>\n",
       "      <th>Office_PIN</th>\n",
       "      <th>Application_Receipt_Date</th>\n",
       "      <th>Applicant_City_PIN</th>\n",
       "      <th>Applicant_Gender</th>\n",
       "      <th>Applicant_BirthDate</th>\n",
       "      <th>Applicant_Marital_Status</th>\n",
       "      <th>Applicant_Occupation</th>\n",
       "      <th>Applicant_Qualification</th>\n",
       "      <th>Manager_DOJ</th>\n",
       "      <th>...</th>\n",
       "      <th>Manager_Status</th>\n",
       "      <th>Manager_Gender</th>\n",
       "      <th>Manager_DoB</th>\n",
       "      <th>Manager_Num_Application</th>\n",
       "      <th>Manager_Num_Coded</th>\n",
       "      <th>Manager_Business</th>\n",
       "      <th>Manager_Num_Products</th>\n",
       "      <th>Manager_Business2</th>\n",
       "      <th>Manager_Num_Products2</th>\n",
       "      <th>Business_Sourced</th>\n",
       "    </tr>\n",
       "  </thead>\n",
       "  <tbody>\n",
       "    <tr>\n",
       "      <th>0</th>\n",
       "      <td>FIN1000001</td>\n",
       "      <td>842001</td>\n",
       "      <td>2007-04-16</td>\n",
       "      <td>844120.0</td>\n",
       "      <td>M</td>\n",
       "      <td>1971-12-19</td>\n",
       "      <td>M</td>\n",
       "      <td>Others</td>\n",
       "      <td>Graduate</td>\n",
       "      <td>2005-11-10</td>\n",
       "      <td>...</td>\n",
       "      <td>Confirmation</td>\n",
       "      <td>M</td>\n",
       "      <td>1978-02-17</td>\n",
       "      <td>2.0</td>\n",
       "      <td>1.0</td>\n",
       "      <td>335249.0</td>\n",
       "      <td>28.0</td>\n",
       "      <td>335249.0</td>\n",
       "      <td>28.0</td>\n",
       "      <td>0</td>\n",
       "    </tr>\n",
       "    <tr>\n",
       "      <th>1</th>\n",
       "      <td>FIN1000002</td>\n",
       "      <td>842001</td>\n",
       "      <td>2007-04-16</td>\n",
       "      <td>844111.0</td>\n",
       "      <td>M</td>\n",
       "      <td>1983-02-17</td>\n",
       "      <td>S</td>\n",
       "      <td>Others</td>\n",
       "      <td>Class XII</td>\n",
       "      <td>2005-11-10</td>\n",
       "      <td>...</td>\n",
       "      <td>Confirmation</td>\n",
       "      <td>M</td>\n",
       "      <td>1978-02-17</td>\n",
       "      <td>2.0</td>\n",
       "      <td>1.0</td>\n",
       "      <td>335249.0</td>\n",
       "      <td>28.0</td>\n",
       "      <td>335249.0</td>\n",
       "      <td>28.0</td>\n",
       "      <td>1</td>\n",
       "    </tr>\n",
       "    <tr>\n",
       "      <th>2</th>\n",
       "      <td>FIN1000003</td>\n",
       "      <td>800001</td>\n",
       "      <td>2007-04-16</td>\n",
       "      <td>844101.0</td>\n",
       "      <td>M</td>\n",
       "      <td>1966-01-16</td>\n",
       "      <td>M</td>\n",
       "      <td>Business</td>\n",
       "      <td>Class XII</td>\n",
       "      <td>2006-05-27</td>\n",
       "      <td>...</td>\n",
       "      <td>Confirmation</td>\n",
       "      <td>M</td>\n",
       "      <td>1969-03-03</td>\n",
       "      <td>0.0</td>\n",
       "      <td>0.0</td>\n",
       "      <td>357184.0</td>\n",
       "      <td>24.0</td>\n",
       "      <td>357184.0</td>\n",
       "      <td>24.0</td>\n",
       "      <td>0</td>\n",
       "    </tr>\n",
       "    <tr>\n",
       "      <th>3</th>\n",
       "      <td>FIN1000004</td>\n",
       "      <td>814112</td>\n",
       "      <td>2007-04-16</td>\n",
       "      <td>814112.0</td>\n",
       "      <td>M</td>\n",
       "      <td>1988-02-03</td>\n",
       "      <td>S</td>\n",
       "      <td>Salaried</td>\n",
       "      <td>Class XII</td>\n",
       "      <td>2003-08-21</td>\n",
       "      <td>...</td>\n",
       "      <td>Confirmation</td>\n",
       "      <td>F</td>\n",
       "      <td>1978-08-14</td>\n",
       "      <td>0.0</td>\n",
       "      <td>0.0</td>\n",
       "      <td>318356.0</td>\n",
       "      <td>22.0</td>\n",
       "      <td>318356.0</td>\n",
       "      <td>22.0</td>\n",
       "      <td>0</td>\n",
       "    </tr>\n",
       "    <tr>\n",
       "      <th>4</th>\n",
       "      <td>FIN1000005</td>\n",
       "      <td>814112</td>\n",
       "      <td>2007-04-16</td>\n",
       "      <td>815351.0</td>\n",
       "      <td>M</td>\n",
       "      <td>1985-07-04</td>\n",
       "      <td>M</td>\n",
       "      <td>Others</td>\n",
       "      <td>Class XII</td>\n",
       "      <td>2006-05-08</td>\n",
       "      <td>...</td>\n",
       "      <td>Confirmation</td>\n",
       "      <td>M</td>\n",
       "      <td>1971-02-07</td>\n",
       "      <td>2.0</td>\n",
       "      <td>1.0</td>\n",
       "      <td>230402.0</td>\n",
       "      <td>17.0</td>\n",
       "      <td>230402.0</td>\n",
       "      <td>17.0</td>\n",
       "      <td>0</td>\n",
       "    </tr>\n",
       "  </tbody>\n",
       "</table>\n",
       "<p>5 rows × 23 columns</p>\n",
       "</div>"
      ],
      "text/plain": [
       "           ID Office_PIN Application_Receipt_Date Applicant_City_PIN  \\\n",
       "0  FIN1000001     842001               2007-04-16           844120.0   \n",
       "1  FIN1000002     842001               2007-04-16           844111.0   \n",
       "2  FIN1000003     800001               2007-04-16           844101.0   \n",
       "3  FIN1000004     814112               2007-04-16           814112.0   \n",
       "4  FIN1000005     814112               2007-04-16           815351.0   \n",
       "\n",
       "  Applicant_Gender Applicant_BirthDate Applicant_Marital_Status  \\\n",
       "0                M          1971-12-19                        M   \n",
       "1                M          1983-02-17                        S   \n",
       "2                M          1966-01-16                        M   \n",
       "3                M          1988-02-03                        S   \n",
       "4                M          1985-07-04                        M   \n",
       "\n",
       "  Applicant_Occupation Applicant_Qualification Manager_DOJ  ...  \\\n",
       "0               Others                Graduate  2005-11-10  ...   \n",
       "1               Others               Class XII  2005-11-10  ...   \n",
       "2             Business               Class XII  2006-05-27  ...   \n",
       "3             Salaried               Class XII  2003-08-21  ...   \n",
       "4               Others               Class XII  2006-05-08  ...   \n",
       "\n",
       "  Manager_Status Manager_Gender Manager_DoB Manager_Num_Application  \\\n",
       "0   Confirmation              M  1978-02-17                     2.0   \n",
       "1   Confirmation              M  1978-02-17                     2.0   \n",
       "2   Confirmation              M  1969-03-03                     0.0   \n",
       "3   Confirmation              F  1978-08-14                     0.0   \n",
       "4   Confirmation              M  1971-02-07                     2.0   \n",
       "\n",
       "  Manager_Num_Coded Manager_Business  Manager_Num_Products Manager_Business2  \\\n",
       "0               1.0         335249.0                  28.0          335249.0   \n",
       "1               1.0         335249.0                  28.0          335249.0   \n",
       "2               0.0         357184.0                  24.0          357184.0   \n",
       "3               0.0         318356.0                  22.0          318356.0   \n",
       "4               1.0         230402.0                  17.0          230402.0   \n",
       "\n",
       "   Manager_Num_Products2  Business_Sourced  \n",
       "0                   28.0                 0  \n",
       "1                   28.0                 1  \n",
       "2                   24.0                 0  \n",
       "3                   22.0                 0  \n",
       "4                   17.0                 0  \n",
       "\n",
       "[5 rows x 23 columns]"
      ]
     },
     "execution_count": 72,
     "metadata": {},
     "output_type": "execute_result"
    }
   ],
   "source": [
    "df.head()"
   ]
  },
  {
   "cell_type": "code",
   "execution_count": 73,
   "id": "ead6bf71",
   "metadata": {},
   "outputs": [],
   "source": [
    "#Feature: Applicant Gender"
   ]
  },
  {
   "cell_type": "code",
   "execution_count": 74,
   "id": "b185f2f4",
   "metadata": {
    "colab": {
     "base_uri": "https://localhost:8080/"
    },
    "id": "b185f2f4",
    "outputId": "6282f950-a24d-4140-9163-c9bab749bdc4"
   },
   "outputs": [
    {
     "data": {
      "text/plain": [
       "M    0.758879\n",
       "F    0.241121\n",
       "Name: Applicant_Gender, dtype: float64"
      ]
     },
     "execution_count": 74,
     "metadata": {},
     "output_type": "execute_result"
    }
   ],
   "source": [
    "#APPLICANT GENDER\n",
    "df['Applicant_Gender'].value_counts(normalize=True)"
   ]
  },
  {
   "cell_type": "code",
   "execution_count": 75,
   "id": "64e62a7a",
   "metadata": {
    "colab": {
     "base_uri": "https://localhost:8080/"
    },
    "id": "64e62a7a",
    "outputId": "4df40cad-9a8c-43c6-d402-9468c245bee4"
   },
   "outputs": [
    {
     "data": {
      "text/plain": [
       "67"
      ]
     },
     "execution_count": 75,
     "metadata": {},
     "output_type": "execute_result"
    }
   ],
   "source": [
    "df['Applicant_Gender'].isnull().sum()"
   ]
  },
  {
   "cell_type": "code",
   "execution_count": 76,
   "id": "c12210d2",
   "metadata": {
    "id": "c12210d2"
   },
   "outputs": [],
   "source": [
    "#Replace Missing values with mode\n",
    "df['Applicant_Gender']=df['Applicant_Gender'].fillna(df['Applicant_Gender'].mode()[0])\n",
    "\n"
   ]
  },
  {
   "cell_type": "code",
   "execution_count": 77,
   "id": "1e7b52e8",
   "metadata": {},
   "outputs": [],
   "source": [
    "#Feature: Marital Status"
   ]
  },
  {
   "cell_type": "code",
   "execution_count": 78,
   "id": "6b265aa0",
   "metadata": {
    "colab": {
     "base_uri": "https://localhost:8080/"
    },
    "id": "6b265aa0",
    "outputId": "1bb3e46c-a556-45b7-8a59-90568a5326b2",
    "scrolled": true
   },
   "outputs": [
    {
     "data": {
      "text/plain": [
       "M    0.653374\n",
       "S    0.345568\n",
       "W    0.000635\n",
       "D    0.000423\n",
       "Name: Applicant_Marital_Status, dtype: float64"
      ]
     },
     "execution_count": 78,
     "metadata": {},
     "output_type": "execute_result"
    }
   ],
   "source": [
    "#Impute Marrital Status with mode\n",
    "df['Applicant_Marital_Status'].value_counts(normalize=True)"
   ]
  },
  {
   "cell_type": "code",
   "execution_count": 79,
   "id": "dfbc2794",
   "metadata": {
    "colab": {
     "base_uri": "https://localhost:8080/"
    },
    "id": "dfbc2794",
    "outputId": "2c946ebc-53e1-45c4-cd38-efe4228ad9de"
   },
   "outputs": [
    {
     "data": {
      "text/plain": [
       "0.007662433084916553"
      ]
     },
     "execution_count": 79,
     "metadata": {},
     "output_type": "execute_result"
    }
   ],
   "source": [
    "df['Applicant_Marital_Status'].isnull().sum()/df.shape[0]"
   ]
  },
  {
   "cell_type": "code",
   "execution_count": 80,
   "id": "573a3c39",
   "metadata": {
    "id": "573a3c39"
   },
   "outputs": [],
   "source": [
    "df['Applicant_Marital_Status']=df['Applicant_Marital_Status'].fillna(df['Applicant_Marital_Status'].mode()[0])\n",
    "\n"
   ]
  },
  {
   "cell_type": "code",
   "execution_count": 81,
   "id": "5477b1e8",
   "metadata": {},
   "outputs": [],
   "source": [
    "#Feature: Manager Status"
   ]
  },
  {
   "cell_type": "code",
   "execution_count": 82,
   "id": "bb504e15",
   "metadata": {
    "id": "bb504e15"
   },
   "outputs": [],
   "source": [
    "#Impute Manager Status with Mode"
   ]
  },
  {
   "cell_type": "code",
   "execution_count": 83,
   "id": "15ebd15d",
   "metadata": {
    "colab": {
     "base_uri": "https://localhost:8080/"
    },
    "id": "15ebd15d",
    "outputId": "c72c2757-1d57-4069-caed-c2a4178ed0a9"
   },
   "outputs": [
    {
     "data": {
      "text/plain": [
       "Confirmation    0.596676\n",
       "Probation       0.403324\n",
       "Name: Manager_Status, dtype: float64"
      ]
     },
     "execution_count": 83,
     "metadata": {},
     "output_type": "execute_result"
    }
   ],
   "source": [
    "df['Manager_Status'].value_counts(normalize=True)"
   ]
  },
  {
   "cell_type": "code",
   "execution_count": 84,
   "id": "0945d2a0",
   "metadata": {
    "colab": {
     "base_uri": "https://localhost:8080/"
    },
    "id": "0945d2a0",
    "outputId": "07e0af92-ddcc-4c8c-f670-e9249ea1e655"
   },
   "outputs": [
    {
     "data": {
      "text/plain": [
       "ID                                     object\n",
       "Office_PIN                           category\n",
       "Application_Receipt_Date       datetime64[ns]\n",
       "Applicant_City_PIN                   category\n",
       "Applicant_Gender                     category\n",
       "Applicant_BirthDate            datetime64[ns]\n",
       "Applicant_Marital_Status             category\n",
       "Applicant_Occupation                 category\n",
       "Applicant_Qualification              category\n",
       "Manager_DOJ                    datetime64[ns]\n",
       "Manager_Joining_Designation          category\n",
       "Manager_Current_Designation          category\n",
       "Manager_Grade                        category\n",
       "Manager_Status                       category\n",
       "Manager_Gender                       category\n",
       "Manager_DoB                    datetime64[ns]\n",
       "Manager_Num_Application               float64\n",
       "Manager_Num_Coded                    category\n",
       "Manager_Business                      float64\n",
       "Manager_Num_Products                  float64\n",
       "Manager_Business2                     float64\n",
       "Manager_Num_Products2                 float64\n",
       "Business_Sourced                     category\n",
       "dtype: object"
      ]
     },
     "execution_count": 84,
     "metadata": {},
     "output_type": "execute_result"
    }
   ],
   "source": [
    "df.dtypes"
   ]
  },
  {
   "cell_type": "code",
   "execution_count": 85,
   "id": "e7c10109",
   "metadata": {
    "colab": {
     "base_uri": "https://localhost:8080/"
    },
    "id": "e7c10109",
    "outputId": "e27a38bc-7ccf-49b4-9671-3c63a4645749"
   },
   "outputs": [
    {
     "data": {
      "text/plain": [
       "Confirmation    5277\n",
       "Probation       3567\n",
       "Name: Manager_Status, dtype: int64"
      ]
     },
     "execution_count": 85,
     "metadata": {},
     "output_type": "execute_result"
    }
   ],
   "source": [
    "df['Manager_Status'].value_counts()"
   ]
  },
  {
   "cell_type": "code",
   "execution_count": 86,
   "id": "3b663a11",
   "metadata": {
    "id": "3b663a11"
   },
   "outputs": [],
   "source": [
    "df['Manager_Status']=df['Manager_Status'].cat.add_categories('missing')"
   ]
  },
  {
   "cell_type": "code",
   "execution_count": 87,
   "id": "514a5341",
   "metadata": {
    "id": "514a5341"
   },
   "outputs": [],
   "source": [
    "df['Manager_Status']=df['Manager_Status'].fillna('missing')\n",
    "\n"
   ]
  },
  {
   "cell_type": "code",
   "execution_count": 88,
   "id": "b77165bc",
   "metadata": {},
   "outputs": [],
   "source": [
    "#Feature: Applicant_Occupation"
   ]
  },
  {
   "cell_type": "code",
   "execution_count": 89,
   "id": "2aaf5582",
   "metadata": {
    "id": "2aaf5582"
   },
   "outputs": [],
   "source": [
    "#Impute Applicant_Occupation"
   ]
  },
  {
   "cell_type": "code",
   "execution_count": 90,
   "id": "ec35195d",
   "metadata": {
    "colab": {
     "base_uri": "https://localhost:8080/"
    },
    "id": "ec35195d",
    "outputId": "5a259fb3-9adb-4cb5-ebf7-3f63b539d1c8"
   },
   "outputs": [
    {
     "data": {
      "text/plain": [
       "Salaried         0.455935\n",
       "Business         0.277269\n",
       "Others           0.236696\n",
       "Self Employed    0.017939\n",
       "Student          0.012160\n",
       "Name: Applicant_Occupation, dtype: float64"
      ]
     },
     "execution_count": 90,
     "metadata": {},
     "output_type": "execute_result"
    }
   ],
   "source": [
    "df['Applicant_Occupation'].value_counts(normalize=True)"
   ]
  },
  {
   "cell_type": "code",
   "execution_count": 91,
   "id": "a682e07e",
   "metadata": {
    "id": "a682e07e"
   },
   "outputs": [],
   "source": [
    "df['Applicant_Occupation']=df['Applicant_Occupation'].cat.add_categories('Not Present')\n",
    "df['Applicant_Occupation'].fillna('Not Present',inplace=True)\n"
   ]
  },
  {
   "cell_type": "code",
   "execution_count": 92,
   "id": "e0b18fbd",
   "metadata": {
    "id": "e0b18fbd"
   },
   "outputs": [],
   "source": [
    "#Feature: Manager Grade"
   ]
  },
  {
   "cell_type": "code",
   "execution_count": 93,
   "id": "1d662a72",
   "metadata": {},
   "outputs": [],
   "source": [
    "#Impute manager grade with '0'"
   ]
  },
  {
   "cell_type": "code",
   "execution_count": 94,
   "id": "8be74552",
   "metadata": {
    "colab": {
     "base_uri": "https://localhost:8080/"
    },
    "id": "8be74552",
    "outputId": "b172f710-2353-4613-8216-ea61d222544c"
   },
   "outputs": [
    {
     "data": {
      "text/plain": [
       "3.0     0.362619\n",
       "2.0     0.279398\n",
       "4.0     0.230439\n",
       "5.0     0.075305\n",
       "6.0     0.045907\n",
       "7.0     0.002488\n",
       "8.0     0.001583\n",
       "1.0     0.000905\n",
       "9.0     0.000791\n",
       "10.0    0.000565\n",
       "Name: Manager_Grade, dtype: float64"
      ]
     },
     "execution_count": 94,
     "metadata": {},
     "output_type": "execute_result"
    }
   ],
   "source": [
    "df['Manager_Grade'].value_counts(normalize=True)"
   ]
  },
  {
   "cell_type": "code",
   "execution_count": 95,
   "id": "57250f2c",
   "metadata": {
    "colab": {
     "base_uri": "https://localhost:8080/"
    },
    "id": "57250f2c",
    "outputId": "96955c22-211b-46a1-9764-93c4d54e04f7"
   },
   "outputs": [
    {
     "name": "stderr",
     "output_type": "stream",
     "text": [
      "C:\\Anaconda\\lib\\site-packages\\pandas\\io\\formats\\format.py:1405: FutureWarning: Index.ravel returning ndarray is deprecated; in a future version this will return a view on self.\n",
      "  for val, m in zip(values.ravel(), mask.ravel())\n",
      "C:\\Anaconda\\lib\\site-packages\\pandas\\io\\formats\\format.py:1405: FutureWarning: Index.ravel returning ndarray is deprecated; in a future version this will return a view on self.\n",
      "  for val, m in zip(values.ravel(), mask.ravel())\n"
     ]
    },
    {
     "data": {
      "text/plain": [
       "0    3.0\n",
       "1    3.0\n",
       "2    2.0\n",
       "3    4.0\n",
       "4    2.0\n",
       "Name: Manager_Grade, dtype: category\n",
       "Categories (10, float64): [1.0, 2.0, 3.0, 4.0, ..., 7.0, 8.0, 9.0, 10.0]"
      ]
     },
     "execution_count": 95,
     "metadata": {},
     "output_type": "execute_result"
    }
   ],
   "source": [
    "df['Manager_Grade'].head()\n",
    "\n"
   ]
  },
  {
   "cell_type": "code",
   "execution_count": 96,
   "id": "c0507ae6",
   "metadata": {
    "id": "c0507ae6"
   },
   "outputs": [],
   "source": [
    "df['Manager_Grade']=df['Manager_Grade'].cat.add_categories('0')\n",
    "df['Manager_Grade']=df['Manager_Grade'].fillna('0')\n",
    "\n"
   ]
  },
  {
   "cell_type": "code",
   "execution_count": 97,
   "id": "5bf113c2",
   "metadata": {},
   "outputs": [],
   "source": [
    "#Feature: Applicant_City_PIN"
   ]
  },
  {
   "cell_type": "code",
   "execution_count": null,
   "id": "3b1acf08",
   "metadata": {},
   "outputs": [],
   "source": []
  },
  {
   "cell_type": "code",
   "execution_count": 98,
   "id": "2e83e4c9",
   "metadata": {
    "colab": {
     "base_uri": "https://localhost:8080/"
    },
    "id": "2e83e4c9",
    "outputId": "5e2b97ca-82cd-462e-dd6c-391664bc4b7e"
   },
   "outputs": [
    {
     "data": {
      "text/plain": [
       "97"
      ]
     },
     "execution_count": 98,
     "metadata": {},
     "output_type": "execute_result"
    }
   ],
   "source": [
    "#CITY PIN \n",
    "df['Applicant_City_PIN'].isna().sum()"
   ]
  },
  {
   "cell_type": "code",
   "execution_count": 99,
   "id": "582a3096",
   "metadata": {
    "colab": {
     "base_uri": "https://localhost:8080/"
    },
    "id": "582a3096",
    "outputId": "74b68cf6-0105-401b-991a-a047664afa4e"
   },
   "outputs": [
    {
     "data": {
      "text/plain": [
       "ID                                     object\n",
       "Office_PIN                           category\n",
       "Application_Receipt_Date       datetime64[ns]\n",
       "Applicant_City_PIN                   category\n",
       "Applicant_Gender                     category\n",
       "Applicant_BirthDate            datetime64[ns]\n",
       "Applicant_Marital_Status             category\n",
       "Applicant_Occupation                 category\n",
       "Applicant_Qualification              category\n",
       "Manager_DOJ                    datetime64[ns]\n",
       "Manager_Joining_Designation          category\n",
       "Manager_Current_Designation          category\n",
       "Manager_Grade                        category\n",
       "Manager_Status                       category\n",
       "Manager_Gender                       category\n",
       "Manager_DoB                    datetime64[ns]\n",
       "Manager_Num_Application               float64\n",
       "Manager_Num_Coded                    category\n",
       "Manager_Business                      float64\n",
       "Manager_Num_Products                  float64\n",
       "Manager_Business2                     float64\n",
       "Manager_Num_Products2                 float64\n",
       "Business_Sourced                     category\n",
       "dtype: object"
      ]
     },
     "execution_count": 99,
     "metadata": {},
     "output_type": "execute_result"
    }
   ],
   "source": [
    "df.dtypes"
   ]
  },
  {
   "cell_type": "code",
   "execution_count": 100,
   "id": "b867efdf",
   "metadata": {
    "colab": {
     "base_uri": "https://localhost:8080/",
     "height": 379
    },
    "id": "b867efdf",
    "outputId": "1de9858f-01e9-4c91-cbe5-02de6b5e045a"
   },
   "outputs": [
    {
     "data": {
      "text/html": [
       "<div>\n",
       "<style scoped>\n",
       "    .dataframe tbody tr th:only-of-type {\n",
       "        vertical-align: middle;\n",
       "    }\n",
       "\n",
       "    .dataframe tbody tr th {\n",
       "        vertical-align: top;\n",
       "    }\n",
       "\n",
       "    .dataframe thead th {\n",
       "        text-align: right;\n",
       "    }\n",
       "</style>\n",
       "<table border=\"1\" class=\"dataframe\">\n",
       "  <thead>\n",
       "    <tr style=\"text-align: right;\">\n",
       "      <th></th>\n",
       "      <th>ID</th>\n",
       "      <th>Office_PIN</th>\n",
       "      <th>Application_Receipt_Date</th>\n",
       "      <th>Applicant_City_PIN</th>\n",
       "      <th>Applicant_Gender</th>\n",
       "      <th>Applicant_BirthDate</th>\n",
       "      <th>Applicant_Marital_Status</th>\n",
       "      <th>Applicant_Occupation</th>\n",
       "      <th>Applicant_Qualification</th>\n",
       "      <th>Manager_DOJ</th>\n",
       "      <th>...</th>\n",
       "      <th>Manager_Status</th>\n",
       "      <th>Manager_Gender</th>\n",
       "      <th>Manager_DoB</th>\n",
       "      <th>Manager_Num_Application</th>\n",
       "      <th>Manager_Num_Coded</th>\n",
       "      <th>Manager_Business</th>\n",
       "      <th>Manager_Num_Products</th>\n",
       "      <th>Manager_Business2</th>\n",
       "      <th>Manager_Num_Products2</th>\n",
       "      <th>Business_Sourced</th>\n",
       "    </tr>\n",
       "  </thead>\n",
       "  <tbody>\n",
       "    <tr>\n",
       "      <th>278</th>\n",
       "      <td>FIN1000279</td>\n",
       "      <td>110005</td>\n",
       "      <td>2007-04-21</td>\n",
       "      <td>NaN</td>\n",
       "      <td>M</td>\n",
       "      <td>NaT</td>\n",
       "      <td>M</td>\n",
       "      <td>Not Present</td>\n",
       "      <td>NaN</td>\n",
       "      <td>2005-11-11</td>\n",
       "      <td>...</td>\n",
       "      <td>Confirmation</td>\n",
       "      <td>M</td>\n",
       "      <td>1966-07-06</td>\n",
       "      <td>1.0</td>\n",
       "      <td>0.0</td>\n",
       "      <td>281388.0</td>\n",
       "      <td>13.0</td>\n",
       "      <td>281388.0</td>\n",
       "      <td>13.0</td>\n",
       "      <td>0</td>\n",
       "    </tr>\n",
       "    <tr>\n",
       "      <th>595</th>\n",
       "      <td>FIN1000596</td>\n",
       "      <td>636004</td>\n",
       "      <td>2007-05-01</td>\n",
       "      <td>NaN</td>\n",
       "      <td>M</td>\n",
       "      <td>NaT</td>\n",
       "      <td>M</td>\n",
       "      <td>Not Present</td>\n",
       "      <td>NaN</td>\n",
       "      <td>NaT</td>\n",
       "      <td>...</td>\n",
       "      <td>missing</td>\n",
       "      <td>NaN</td>\n",
       "      <td>NaT</td>\n",
       "      <td>NaN</td>\n",
       "      <td>NaN</td>\n",
       "      <td>NaN</td>\n",
       "      <td>NaN</td>\n",
       "      <td>NaN</td>\n",
       "      <td>NaN</td>\n",
       "      <td>0</td>\n",
       "    </tr>\n",
       "    <tr>\n",
       "      <th>847</th>\n",
       "      <td>FIN1000848</td>\n",
       "      <td>700016</td>\n",
       "      <td>2007-05-07</td>\n",
       "      <td>NaN</td>\n",
       "      <td>M</td>\n",
       "      <td>NaT</td>\n",
       "      <td>M</td>\n",
       "      <td>Not Present</td>\n",
       "      <td>NaN</td>\n",
       "      <td>NaT</td>\n",
       "      <td>...</td>\n",
       "      <td>missing</td>\n",
       "      <td>NaN</td>\n",
       "      <td>NaT</td>\n",
       "      <td>NaN</td>\n",
       "      <td>NaN</td>\n",
       "      <td>NaN</td>\n",
       "      <td>NaN</td>\n",
       "      <td>NaN</td>\n",
       "      <td>NaN</td>\n",
       "      <td>0</td>\n",
       "    </tr>\n",
       "    <tr>\n",
       "      <th>1025</th>\n",
       "      <td>FIN1001026</td>\n",
       "      <td>274001</td>\n",
       "      <td>2007-05-09</td>\n",
       "      <td>NaN</td>\n",
       "      <td>M</td>\n",
       "      <td>NaT</td>\n",
       "      <td>M</td>\n",
       "      <td>Not Present</td>\n",
       "      <td>NaN</td>\n",
       "      <td>2003-06-02</td>\n",
       "      <td>...</td>\n",
       "      <td>Confirmation</td>\n",
       "      <td>M</td>\n",
       "      <td>1978-05-07</td>\n",
       "      <td>1.0</td>\n",
       "      <td>0.0</td>\n",
       "      <td>251492.0</td>\n",
       "      <td>8.0</td>\n",
       "      <td>251492.0</td>\n",
       "      <td>8.0</td>\n",
       "      <td>0</td>\n",
       "    </tr>\n",
       "    <tr>\n",
       "      <th>1169</th>\n",
       "      <td>FIN1001170</td>\n",
       "      <td>700016</td>\n",
       "      <td>2007-05-10</td>\n",
       "      <td>NaN</td>\n",
       "      <td>M</td>\n",
       "      <td>NaT</td>\n",
       "      <td>M</td>\n",
       "      <td>Not Present</td>\n",
       "      <td>NaN</td>\n",
       "      <td>NaT</td>\n",
       "      <td>...</td>\n",
       "      <td>missing</td>\n",
       "      <td>NaN</td>\n",
       "      <td>NaT</td>\n",
       "      <td>NaN</td>\n",
       "      <td>NaN</td>\n",
       "      <td>NaN</td>\n",
       "      <td>NaN</td>\n",
       "      <td>NaN</td>\n",
       "      <td>NaN</td>\n",
       "      <td>0</td>\n",
       "    </tr>\n",
       "    <tr>\n",
       "      <th>1178</th>\n",
       "      <td>FIN1001179</td>\n",
       "      <td>713216</td>\n",
       "      <td>2007-05-10</td>\n",
       "      <td>NaN</td>\n",
       "      <td>M</td>\n",
       "      <td>NaT</td>\n",
       "      <td>M</td>\n",
       "      <td>Not Present</td>\n",
       "      <td>NaN</td>\n",
       "      <td>2002-08-30</td>\n",
       "      <td>...</td>\n",
       "      <td>Confirmation</td>\n",
       "      <td>M</td>\n",
       "      <td>1960-07-30</td>\n",
       "      <td>2.0</td>\n",
       "      <td>0.0</td>\n",
       "      <td>285144.0</td>\n",
       "      <td>15.0</td>\n",
       "      <td>285144.0</td>\n",
       "      <td>15.0</td>\n",
       "      <td>0</td>\n",
       "    </tr>\n",
       "    <tr>\n",
       "      <th>2056</th>\n",
       "      <td>FIN1002057</td>\n",
       "      <td>802101</td>\n",
       "      <td>2007-06-26</td>\n",
       "      <td>NaN</td>\n",
       "      <td>M</td>\n",
       "      <td>NaT</td>\n",
       "      <td>M</td>\n",
       "      <td>Not Present</td>\n",
       "      <td>NaN</td>\n",
       "      <td>2003-10-16</td>\n",
       "      <td>...</td>\n",
       "      <td>Confirmation</td>\n",
       "      <td>M</td>\n",
       "      <td>1974-01-08</td>\n",
       "      <td>4.0</td>\n",
       "      <td>1.0</td>\n",
       "      <td>388979.0</td>\n",
       "      <td>29.0</td>\n",
       "      <td>388979.0</td>\n",
       "      <td>29.0</td>\n",
       "      <td>0</td>\n",
       "    </tr>\n",
       "    <tr>\n",
       "      <th>2134</th>\n",
       "      <td>FIN1002135</td>\n",
       "      <td>281001</td>\n",
       "      <td>2007-07-02</td>\n",
       "      <td>NaN</td>\n",
       "      <td>M</td>\n",
       "      <td>1983-06-17</td>\n",
       "      <td>M</td>\n",
       "      <td>Business</td>\n",
       "      <td>Graduate</td>\n",
       "      <td>NaT</td>\n",
       "      <td>...</td>\n",
       "      <td>missing</td>\n",
       "      <td>NaN</td>\n",
       "      <td>NaT</td>\n",
       "      <td>NaN</td>\n",
       "      <td>NaN</td>\n",
       "      <td>NaN</td>\n",
       "      <td>NaN</td>\n",
       "      <td>NaN</td>\n",
       "      <td>NaN</td>\n",
       "      <td>0</td>\n",
       "    </tr>\n",
       "    <tr>\n",
       "      <th>2171</th>\n",
       "      <td>FIN1002172</td>\n",
       "      <td>841226</td>\n",
       "      <td>2007-07-04</td>\n",
       "      <td>NaN</td>\n",
       "      <td>M</td>\n",
       "      <td>NaT</td>\n",
       "      <td>M</td>\n",
       "      <td>Not Present</td>\n",
       "      <td>NaN</td>\n",
       "      <td>2004-05-01</td>\n",
       "      <td>...</td>\n",
       "      <td>Confirmation</td>\n",
       "      <td>M</td>\n",
       "      <td>1969-07-07</td>\n",
       "      <td>4.0</td>\n",
       "      <td>0.0</td>\n",
       "      <td>76162.0</td>\n",
       "      <td>4.0</td>\n",
       "      <td>76162.0</td>\n",
       "      <td>4.0</td>\n",
       "      <td>0</td>\n",
       "    </tr>\n",
       "    <tr>\n",
       "      <th>2898</th>\n",
       "      <td>FIN1002899</td>\n",
       "      <td>851101</td>\n",
       "      <td>2007-08-06</td>\n",
       "      <td>NaN</td>\n",
       "      <td>M</td>\n",
       "      <td>1984-12-08</td>\n",
       "      <td>M</td>\n",
       "      <td>Business</td>\n",
       "      <td>Class XII</td>\n",
       "      <td>2007-06-11</td>\n",
       "      <td>...</td>\n",
       "      <td>Probation</td>\n",
       "      <td>M</td>\n",
       "      <td>1971-02-07</td>\n",
       "      <td>9.0</td>\n",
       "      <td>1.0</td>\n",
       "      <td>15709.0</td>\n",
       "      <td>1.0</td>\n",
       "      <td>15709.0</td>\n",
       "      <td>1.0</td>\n",
       "      <td>1</td>\n",
       "    </tr>\n",
       "  </tbody>\n",
       "</table>\n",
       "<p>10 rows × 23 columns</p>\n",
       "</div>"
      ],
      "text/plain": [
       "              ID Office_PIN Application_Receipt_Date Applicant_City_PIN  \\\n",
       "278   FIN1000279     110005               2007-04-21                NaN   \n",
       "595   FIN1000596     636004               2007-05-01                NaN   \n",
       "847   FIN1000848     700016               2007-05-07                NaN   \n",
       "1025  FIN1001026     274001               2007-05-09                NaN   \n",
       "1169  FIN1001170     700016               2007-05-10                NaN   \n",
       "1178  FIN1001179     713216               2007-05-10                NaN   \n",
       "2056  FIN1002057     802101               2007-06-26                NaN   \n",
       "2134  FIN1002135     281001               2007-07-02                NaN   \n",
       "2171  FIN1002172     841226               2007-07-04                NaN   \n",
       "2898  FIN1002899     851101               2007-08-06                NaN   \n",
       "\n",
       "     Applicant_Gender Applicant_BirthDate Applicant_Marital_Status  \\\n",
       "278                 M                 NaT                        M   \n",
       "595                 M                 NaT                        M   \n",
       "847                 M                 NaT                        M   \n",
       "1025                M                 NaT                        M   \n",
       "1169                M                 NaT                        M   \n",
       "1178                M                 NaT                        M   \n",
       "2056                M                 NaT                        M   \n",
       "2134                M          1983-06-17                        M   \n",
       "2171                M                 NaT                        M   \n",
       "2898                M          1984-12-08                        M   \n",
       "\n",
       "     Applicant_Occupation Applicant_Qualification Manager_DOJ  ...  \\\n",
       "278           Not Present                     NaN  2005-11-11  ...   \n",
       "595           Not Present                     NaN         NaT  ...   \n",
       "847           Not Present                     NaN         NaT  ...   \n",
       "1025          Not Present                     NaN  2003-06-02  ...   \n",
       "1169          Not Present                     NaN         NaT  ...   \n",
       "1178          Not Present                     NaN  2002-08-30  ...   \n",
       "2056          Not Present                     NaN  2003-10-16  ...   \n",
       "2134             Business                Graduate         NaT  ...   \n",
       "2171          Not Present                     NaN  2004-05-01  ...   \n",
       "2898             Business               Class XII  2007-06-11  ...   \n",
       "\n",
       "     Manager_Status Manager_Gender Manager_DoB Manager_Num_Application  \\\n",
       "278    Confirmation              M  1966-07-06                     1.0   \n",
       "595         missing            NaN         NaT                     NaN   \n",
       "847         missing            NaN         NaT                     NaN   \n",
       "1025   Confirmation              M  1978-05-07                     1.0   \n",
       "1169        missing            NaN         NaT                     NaN   \n",
       "1178   Confirmation              M  1960-07-30                     2.0   \n",
       "2056   Confirmation              M  1974-01-08                     4.0   \n",
       "2134        missing            NaN         NaT                     NaN   \n",
       "2171   Confirmation              M  1969-07-07                     4.0   \n",
       "2898      Probation              M  1971-02-07                     9.0   \n",
       "\n",
       "     Manager_Num_Coded Manager_Business  Manager_Num_Products  \\\n",
       "278                0.0         281388.0                  13.0   \n",
       "595                NaN              NaN                   NaN   \n",
       "847                NaN              NaN                   NaN   \n",
       "1025               0.0         251492.0                   8.0   \n",
       "1169               NaN              NaN                   NaN   \n",
       "1178               0.0         285144.0                  15.0   \n",
       "2056               1.0         388979.0                  29.0   \n",
       "2134               NaN              NaN                   NaN   \n",
       "2171               0.0          76162.0                   4.0   \n",
       "2898               1.0          15709.0                   1.0   \n",
       "\n",
       "     Manager_Business2  Manager_Num_Products2  Business_Sourced  \n",
       "278           281388.0                   13.0                 0  \n",
       "595                NaN                    NaN                 0  \n",
       "847                NaN                    NaN                 0  \n",
       "1025          251492.0                    8.0                 0  \n",
       "1169               NaN                    NaN                 0  \n",
       "1178          285144.0                   15.0                 0  \n",
       "2056          388979.0                   29.0                 0  \n",
       "2134               NaN                    NaN                 0  \n",
       "2171           76162.0                    4.0                 0  \n",
       "2898           15709.0                    1.0                 1  \n",
       "\n",
       "[10 rows x 23 columns]"
      ]
     },
     "execution_count": 100,
     "metadata": {},
     "output_type": "execute_result"
    }
   ],
   "source": [
    "df[df['Applicant_City_PIN'].isnull()].head(10)"
   ]
  },
  {
   "cell_type": "code",
   "execution_count": 101,
   "id": "af803cc1",
   "metadata": {
    "colab": {
     "base_uri": "https://localhost:8080/"
    },
    "id": "af803cc1",
    "outputId": "0698f5fd-caf2-4151-bf15-bd6d516de2fa"
   },
   "outputs": [
    {
     "data": {
      "text/plain": [
       "count       9430.0\n",
       "unique      2979.0\n",
       "top       202001.0\n",
       "freq         103.0\n",
       "Name: Applicant_City_PIN, dtype: float64"
      ]
     },
     "execution_count": 101,
     "metadata": {},
     "output_type": "execute_result"
    }
   ],
   "source": [
    "df['Applicant_City_PIN'].describe()"
   ]
  },
  {
   "cell_type": "code",
   "execution_count": 102,
   "id": "97e1fe0c",
   "metadata": {
    "id": "97e1fe0c"
   },
   "outputs": [],
   "source": [
    "# # If applicant City pin is missing thn we are putting applicants office pin.\n",
    "\n",
    "\n",
    "# df.loc[df['Applicant_City_PIN'].isnull(),'Applicant_City_PIN'] = df.loc[df['Applicant_City_PIN'].isnull(),'Office_PIN']"
   ]
  },
  {
   "cell_type": "code",
   "execution_count": 103,
   "id": "d29be11e",
   "metadata": {
    "colab": {
     "base_uri": "https://localhost:8080/"
    },
    "id": "d29be11e",
    "outputId": "b16e300b-5cc8-41ed-ea37-90b21c610de0"
   },
   "outputs": [
    {
     "name": "stdout",
     "output_type": "stream",
     "text": [
      "<class 'pandas.core.frame.DataFrame'>\n",
      "RangeIndex: 9527 entries, 0 to 9526\n",
      "Data columns (total 23 columns):\n",
      " #   Column                       Non-Null Count  Dtype         \n",
      "---  ------                       --------------  -----         \n",
      " 0   ID                           9527 non-null   object        \n",
      " 1   Office_PIN                   9527 non-null   category      \n",
      " 2   Application_Receipt_Date     9527 non-null   datetime64[ns]\n",
      " 3   Applicant_City_PIN           9430 non-null   category      \n",
      " 4   Applicant_Gender             9527 non-null   category      \n",
      " 5   Applicant_BirthDate          9454 non-null   datetime64[ns]\n",
      " 6   Applicant_Marital_Status     9527 non-null   category      \n",
      " 7   Applicant_Occupation         9527 non-null   category      \n",
      " 8   Applicant_Qualification      9441 non-null   category      \n",
      " 9   Manager_DOJ                  8844 non-null   datetime64[ns]\n",
      " 10  Manager_Joining_Designation  8844 non-null   category      \n",
      " 11  Manager_Current_Designation  8844 non-null   category      \n",
      " 12  Manager_Grade                9527 non-null   category      \n",
      " 13  Manager_Status               9527 non-null   category      \n",
      " 14  Manager_Gender               8844 non-null   category      \n",
      " 15  Manager_DoB                  8844 non-null   datetime64[ns]\n",
      " 16  Manager_Num_Application      8844 non-null   float64       \n",
      " 17  Manager_Num_Coded            8844 non-null   category      \n",
      " 18  Manager_Business             8844 non-null   float64       \n",
      " 19  Manager_Num_Products         8844 non-null   float64       \n",
      " 20  Manager_Business2            8844 non-null   float64       \n",
      " 21  Manager_Num_Products2        8844 non-null   float64       \n",
      " 22  Business_Sourced             9527 non-null   category      \n",
      "dtypes: category(13), datetime64[ns](4), float64(5), object(1)\n",
      "memory usage: 967.6+ KB\n"
     ]
    }
   ],
   "source": [
    "df.info()"
   ]
  },
  {
   "cell_type": "code",
   "execution_count": 104,
   "id": "521be2ad",
   "metadata": {
    "colab": {
     "base_uri": "https://localhost:8080/"
    },
    "id": "521be2ad",
    "outputId": "7797ec1d-1d26-4577-d2ab-63b6909498b6"
   },
   "outputs": [
    {
     "data": {
      "text/plain": [
       "ID                               0\n",
       "Office_PIN                       0\n",
       "Application_Receipt_Date         0\n",
       "Applicant_City_PIN              97\n",
       "Applicant_Gender                 0\n",
       "Applicant_BirthDate             73\n",
       "Applicant_Marital_Status         0\n",
       "Applicant_Occupation             0\n",
       "Applicant_Qualification         86\n",
       "Manager_DOJ                    683\n",
       "Manager_Joining_Designation    683\n",
       "Manager_Current_Designation    683\n",
       "Manager_Grade                    0\n",
       "Manager_Status                   0\n",
       "Manager_Gender                 683\n",
       "Manager_DoB                    683\n",
       "Manager_Num_Application        683\n",
       "Manager_Num_Coded              683\n",
       "Manager_Business               683\n",
       "Manager_Num_Products           683\n",
       "Manager_Business2              683\n",
       "Manager_Num_Products2          683\n",
       "Business_Sourced                 0\n",
       "dtype: int64"
      ]
     },
     "execution_count": 104,
     "metadata": {},
     "output_type": "execute_result"
    }
   ],
   "source": [
    "df.isnull().sum()"
   ]
  },
  {
   "cell_type": "code",
   "execution_count": 105,
   "id": "a22781f1",
   "metadata": {},
   "outputs": [],
   "source": [
    "#Feature: Manager Joining Designation"
   ]
  },
  {
   "cell_type": "code",
   "execution_count": 106,
   "id": "401ceefe",
   "metadata": {},
   "outputs": [],
   "source": [
    "#Impute Manager Joining Designation values with 'Level 0'"
   ]
  },
  {
   "cell_type": "code",
   "execution_count": 107,
   "id": "752ab03e",
   "metadata": {
    "colab": {
     "base_uri": "https://localhost:8080/"
    },
    "id": "752ab03e",
    "outputId": "efe2a6e7-18dc-4894-ff45-f406b250172c"
   },
   "outputs": [
    {
     "data": {
      "text/plain": [
       "Level 1    4632\n",
       "Level 2    2787\n",
       "Level 3    1146\n",
       "Other       279\n",
       "Name: Manager_Joining_Designation, dtype: int64"
      ]
     },
     "execution_count": 107,
     "metadata": {},
     "output_type": "execute_result"
    }
   ],
   "source": [
    "df['Manager_Joining_Designation'].value_counts()"
   ]
  },
  {
   "cell_type": "code",
   "execution_count": 108,
   "id": "5924e22a",
   "metadata": {
    "id": "5924e22a"
   },
   "outputs": [],
   "source": [
    "df['Manager_Joining_Designation']=df['Manager_Joining_Designation'].cat.add_categories('Level 0')\n",
    "df['Manager_Joining_Designation']=df['Manager_Joining_Designation'].fillna('Level 0')\n",
    "\n"
   ]
  },
  {
   "cell_type": "code",
   "execution_count": 109,
   "id": "d1d6a6f1",
   "metadata": {
    "colab": {
     "base_uri": "https://localhost:8080/"
    },
    "id": "d1d6a6f1",
    "outputId": "4be7ceae-3321-4efe-e3b3-0b69266a01f3"
   },
   "outputs": [
    {
     "data": {
      "text/plain": [
       "Level 1    0.486197\n",
       "Level 2    0.292537\n",
       "Level 3    0.120290\n",
       "Level 0    0.071691\n",
       "Other      0.029285\n",
       "Name: Manager_Joining_Designation, dtype: float64"
      ]
     },
     "execution_count": 109,
     "metadata": {},
     "output_type": "execute_result"
    }
   ],
   "source": [
    "df['Manager_Joining_Designation'].value_counts(normalize=True)"
   ]
  },
  {
   "cell_type": "code",
   "execution_count": null,
   "id": "7d8e36b8",
   "metadata": {
    "id": "7d8e36b8"
   },
   "outputs": [],
   "source": []
  },
  {
   "cell_type": "code",
   "execution_count": 110,
   "id": "a4bf878e",
   "metadata": {
    "id": "a4bf878e"
   },
   "outputs": [],
   "source": [
    "#Feature Manager_Current_Designation'"
   ]
  },
  {
   "cell_type": "code",
   "execution_count": 111,
   "id": "29b29f69",
   "metadata": {},
   "outputs": [],
   "source": [
    "#Impute Manager_Current_Designation' values with 'Level 0'"
   ]
  },
  {
   "cell_type": "code",
   "execution_count": 112,
   "id": "d286a8e0",
   "metadata": {
    "colab": {
     "base_uri": "https://localhost:8080/"
    },
    "id": "d286a8e0",
    "outputId": "7ba805b4-cd0a-4074-b5d9-650b6733f252"
   },
   "outputs": [
    {
     "data": {
      "text/plain": [
       "Level 2    0.362732\n",
       "Level 1    0.280303\n",
       "Level 3    0.229873\n",
       "Other      0.127092\n",
       "Name: Manager_Current_Designation, dtype: float64"
      ]
     },
     "execution_count": 112,
     "metadata": {},
     "output_type": "execute_result"
    }
   ],
   "source": [
    "df['Manager_Current_Designation'].value_counts(normalize=True)"
   ]
  },
  {
   "cell_type": "code",
   "execution_count": 113,
   "id": "13eb2239",
   "metadata": {
    "id": "13eb2239"
   },
   "outputs": [],
   "source": [
    "df['Manager_Current_Designation']=df['Manager_Current_Designation'].cat.add_categories('Level 0')\n",
    "df['Manager_Current_Designation']=df['Manager_Current_Designation'].fillna('Level 0')"
   ]
  },
  {
   "cell_type": "code",
   "execution_count": 114,
   "id": "cd3623ad",
   "metadata": {},
   "outputs": [],
   "source": [
    "#feature: Manager_Num_Application"
   ]
  },
  {
   "cell_type": "code",
   "execution_count": 115,
   "id": "dfec9e1d",
   "metadata": {
    "id": "dfec9e1d"
   },
   "outputs": [],
   "source": [
    "#Impute Manager Num Application with 0"
   ]
  },
  {
   "cell_type": "code",
   "execution_count": 116,
   "id": "4a7905a0",
   "metadata": {
    "colab": {
     "base_uri": "https://localhost:8080/"
    },
    "id": "4a7905a0",
    "outputId": "ffd2a4c1-1017-41f8-e774-5dc09b73f62c"
   },
   "outputs": [
    {
     "data": {
      "text/plain": [
       "0.0     0.336952\n",
       "1.0     0.189620\n",
       "2.0     0.151402\n",
       "3.0     0.121325\n",
       "4.0     0.080280\n",
       "5.0     0.051787\n",
       "6.0     0.030529\n",
       "7.0     0.014925\n",
       "8.0     0.009498\n",
       "9.0     0.007123\n",
       "10.0    0.003053\n",
       "11.0    0.001583\n",
       "16.0    0.000678\n",
       "12.0    0.000565\n",
       "13.0    0.000452\n",
       "14.0    0.000113\n",
       "22.0    0.000113\n",
       "Name: Manager_Num_Application, dtype: float64"
      ]
     },
     "execution_count": 116,
     "metadata": {},
     "output_type": "execute_result"
    }
   ],
   "source": [
    "df['Manager_Num_Application'].value_counts(normalize=True)"
   ]
  },
  {
   "cell_type": "code",
   "execution_count": 117,
   "id": "35f8b996",
   "metadata": {
    "id": "35f8b996"
   },
   "outputs": [],
   "source": [
    "df['Manager_Num_Application']=df['Manager_Num_Application'].fillna(0)\n"
   ]
  },
  {
   "cell_type": "code",
   "execution_count": 118,
   "id": "c31400ec",
   "metadata": {},
   "outputs": [],
   "source": [
    "#feature: Manager_Num_Coded"
   ]
  },
  {
   "cell_type": "code",
   "execution_count": 119,
   "id": "7dfdf3cb",
   "metadata": {
    "id": "7dfdf3cb"
   },
   "outputs": [],
   "source": [
    "#MANAGER Num Coded impute with 0"
   ]
  },
  {
   "cell_type": "code",
   "execution_count": 120,
   "id": "05989e63",
   "metadata": {
    "colab": {
     "base_uri": "https://localhost:8080/"
    },
    "id": "05989e63",
    "outputId": "14bbf48f-1d0c-4901-8431-c083d7b59e00"
   },
   "outputs": [
    {
     "data": {
      "text/plain": [
       "0.0    0.597354\n",
       "1.0    0.203415\n",
       "2.0    0.105834\n",
       "3.0    0.053256\n",
       "4.0    0.025441\n",
       "5.0    0.009385\n",
       "6.0    0.003392\n",
       "7.0    0.000791\n",
       "8.0    0.000678\n",
       "9.0    0.000452\n",
       "Name: Manager_Num_Coded, dtype: float64"
      ]
     },
     "execution_count": 120,
     "metadata": {},
     "output_type": "execute_result"
    }
   ],
   "source": [
    "df['Manager_Num_Coded'].value_counts(normalize=True)"
   ]
  },
  {
   "cell_type": "code",
   "execution_count": 121,
   "id": "083d8a31",
   "metadata": {
    "id": "083d8a31"
   },
   "outputs": [],
   "source": [
    "df['Manager_Num_Coded']=df['Manager_Num_Coded'].fillna(0)\n",
    "\n"
   ]
  },
  {
   "cell_type": "code",
   "execution_count": 122,
   "id": "8d8df2df",
   "metadata": {},
   "outputs": [],
   "source": [
    "#feature: Manager_Gender"
   ]
  },
  {
   "cell_type": "code",
   "execution_count": 123,
   "id": "908caf8b",
   "metadata": {
    "id": "908caf8b"
   },
   "outputs": [],
   "source": [
    "#Impute Manager Gender with mode"
   ]
  },
  {
   "cell_type": "code",
   "execution_count": 124,
   "id": "229b1c0e",
   "metadata": {
    "colab": {
     "base_uri": "https://localhost:8080/"
    },
    "id": "229b1c0e",
    "outputId": "03ccb55b-df5f-4ecb-9b96-d156eb51ae2f"
   },
   "outputs": [
    {
     "data": {
      "text/plain": [
       "M    0.862393\n",
       "F    0.137607\n",
       "Name: Manager_Gender, dtype: float64"
      ]
     },
     "execution_count": 124,
     "metadata": {},
     "output_type": "execute_result"
    }
   ],
   "source": [
    "df['Manager_Gender'].value_counts(normalize=True)"
   ]
  },
  {
   "cell_type": "code",
   "execution_count": 125,
   "id": "c268c248",
   "metadata": {
    "id": "c268c248"
   },
   "outputs": [],
   "source": [
    "df['Manager_Gender']=df['Manager_Gender'].fillna(df['Manager_Gender'].mode()[0])\n",
    "\n"
   ]
  },
  {
   "cell_type": "code",
   "execution_count": 126,
   "id": "118d6f07",
   "metadata": {
    "colab": {
     "base_uri": "https://localhost:8080/"
    },
    "id": "118d6f07",
    "outputId": "c3af70d5-5b35-4af8-fae9-8e222648371a"
   },
   "outputs": [
    {
     "data": {
      "text/plain": [
       "Index(['ID', 'Office_PIN', 'Application_Receipt_Date', 'Applicant_City_PIN',\n",
       "       'Applicant_Gender', 'Applicant_BirthDate', 'Applicant_Marital_Status',\n",
       "       'Applicant_Occupation', 'Applicant_Qualification', 'Manager_DOJ',\n",
       "       'Manager_Joining_Designation', 'Manager_Current_Designation',\n",
       "       'Manager_Grade', 'Manager_Status', 'Manager_Gender', 'Manager_DoB',\n",
       "       'Manager_Num_Application', 'Manager_Num_Coded', 'Manager_Business',\n",
       "       'Manager_Num_Products', 'Manager_Business2', 'Manager_Num_Products2',\n",
       "       'Business_Sourced'],\n",
       "      dtype='object')"
      ]
     },
     "execution_count": 126,
     "metadata": {},
     "output_type": "execute_result"
    }
   ],
   "source": [
    "df.columns"
   ]
  },
  {
   "cell_type": "code",
   "execution_count": null,
   "id": "562d3f9a",
   "metadata": {
    "id": "562d3f9a"
   },
   "outputs": [],
   "source": []
  },
  {
   "cell_type": "code",
   "execution_count": 127,
   "id": "fca8d766",
   "metadata": {
    "colab": {
     "base_uri": "https://localhost:8080/"
    },
    "id": "fca8d766",
    "outputId": "ebe04d8c-1e33-4d07-a820-28c80f6cacb3"
   },
   "outputs": [
    {
     "data": {
      "text/plain": [
       "<bound method IndexOpsMixin.value_counts of 0       Level 2\n",
       "1       Level 2\n",
       "2       Level 1\n",
       "3       Level 3\n",
       "4       Level 1\n",
       "         ...   \n",
       "9522    Level 2\n",
       "9523    Level 0\n",
       "9524    Level 2\n",
       "9525    Level 3\n",
       "9526    Level 0\n",
       "Name: Manager_Current_Designation, Length: 9527, dtype: category\n",
       "Categories (5, object): ['Level 1', 'Level 2', 'Level 3', 'Other', 'Level 0']>"
      ]
     },
     "execution_count": 127,
     "metadata": {},
     "output_type": "execute_result"
    }
   ],
   "source": [
    "df['Manager_Current_Designation'].value_counts"
   ]
  },
  {
   "cell_type": "code",
   "execution_count": 128,
   "id": "60fdca16",
   "metadata": {},
   "outputs": [],
   "source": [
    "#feature: Manager_Num_Products and Manager_Num_Products2"
   ]
  },
  {
   "cell_type": "code",
   "execution_count": 129,
   "id": "4dd149c3",
   "metadata": {
    "id": "4dd149c3"
   },
   "outputs": [],
   "source": [
    "#MANAGER NUM PRODUCTS impute with 0"
   ]
  },
  {
   "cell_type": "code",
   "execution_count": 130,
   "id": "804cb631",
   "metadata": {
    "colab": {
     "base_uri": "https://localhost:8080/"
    },
    "id": "804cb631",
    "outputId": "c01e101a-4e3e-4d8e-802e-7fe1d470895c"
   },
   "outputs": [
    {
     "data": {
      "text/plain": [
       "0.0      0.328924\n",
       "6.0      0.048847\n",
       "5.0      0.048168\n",
       "4.0      0.045002\n",
       "7.0      0.043419\n",
       "8.0      0.040592\n",
       "9.0      0.037427\n",
       "3.0      0.035391\n",
       "11.0     0.035052\n",
       "1.0      0.033017\n",
       "2.0      0.032564\n",
       "10.0     0.031999\n",
       "12.0     0.028833\n",
       "13.0     0.025893\n",
       "14.0     0.024197\n",
       "15.0     0.021710\n",
       "17.0     0.018996\n",
       "18.0     0.015491\n",
       "16.0     0.015152\n",
       "19.0     0.011872\n",
       "20.0     0.009272\n",
       "21.0     0.008480\n",
       "23.0     0.008254\n",
       "22.0     0.005880\n",
       "24.0     0.005767\n",
       "25.0     0.005201\n",
       "27.0     0.003505\n",
       "26.0     0.003505\n",
       "29.0     0.003166\n",
       "28.0     0.002940\n",
       "30.0     0.002488\n",
       "32.0     0.002488\n",
       "33.0     0.001809\n",
       "35.0     0.001696\n",
       "31.0     0.001357\n",
       "34.0     0.001244\n",
       "37.0     0.001131\n",
       "41.0     0.001018\n",
       "36.0     0.000905\n",
       "38.0     0.000791\n",
       "42.0     0.000791\n",
       "39.0     0.000791\n",
       "51.0     0.000565\n",
       "60.0     0.000565\n",
       "40.0     0.000565\n",
       "66.0     0.000452\n",
       "47.0     0.000452\n",
       "43.0     0.000452\n",
       "44.0     0.000339\n",
       "46.0     0.000339\n",
       "101.0    0.000226\n",
       "53.0     0.000226\n",
       "45.0     0.000226\n",
       "74.0     0.000226\n",
       "59.0     0.000113\n",
       "61.0     0.000113\n",
       "48.0     0.000113\n",
       "Name: Manager_Num_Products, dtype: float64"
      ]
     },
     "execution_count": 130,
     "metadata": {},
     "output_type": "execute_result"
    }
   ],
   "source": [
    "df['Manager_Num_Products'].value_counts(normalize=True)"
   ]
  },
  {
   "cell_type": "code",
   "execution_count": 131,
   "id": "825ee55a",
   "metadata": {
    "id": "825ee55a"
   },
   "outputs": [],
   "source": [
    "df['Manager_Num_Products']=df['Manager_Num_Products'].fillna(0)\n",
    "\n",
    "df['Manager_Num_Products2']=df['Manager_Num_Products2'].fillna(0)"
   ]
  },
  {
   "cell_type": "markdown",
   "id": "fc5376e2",
   "metadata": {
    "id": "fc5376e2"
   },
   "source": []
  },
  {
   "cell_type": "code",
   "execution_count": 132,
   "id": "9a7fcfb2",
   "metadata": {
    "id": "9a7fcfb2"
   },
   "outputs": [],
   "source": [
    "###### #CREATING FEATURES\n",
    "# 1) AGE OF MANAGER-- Age_Applicant\n",
    "# 2) AGE OF APPLICANT\n",
    "# 3) TENURE OF MANAGER\n",
    "# 4) PROMOTION STATUS"
   ]
  },
  {
   "cell_type": "code",
   "execution_count": 133,
   "id": "fH6_2aOC4-Wx",
   "metadata": {
    "colab": {
     "base_uri": "https://localhost:8080/"
    },
    "id": "fH6_2aOC4-Wx",
    "outputId": "60c9db50-27d2-4e38-cf32-ce088e4c2586"
   },
   "outputs": [
    {
     "data": {
      "text/plain": [
       "0      1971-12-19\n",
       "1      1983-02-17\n",
       "2      1966-01-16\n",
       "3      1988-02-03\n",
       "4      1985-07-04\n",
       "          ...    \n",
       "9522   1970-01-18\n",
       "9523   1956-09-11\n",
       "9524   1975-08-07\n",
       "9525   1986-12-23\n",
       "9526   1976-02-07\n",
       "Name: Applicant_BirthDate, Length: 9527, dtype: datetime64[ns]"
      ]
     },
     "execution_count": 133,
     "metadata": {},
     "output_type": "execute_result"
    }
   ],
   "source": [
    "df['Applicant_BirthDate']"
   ]
  },
  {
   "cell_type": "code",
   "execution_count": 134,
   "id": "173a80d6",
   "metadata": {},
   "outputs": [],
   "source": [
    "#Feature : Age_Applicant & Age_Manager"
   ]
  },
  {
   "cell_type": "code",
   "execution_count": 135,
   "id": "53b7c65a",
   "metadata": {
    "id": "53b7c65a"
   },
   "outputs": [],
   "source": [
    "# Calculating the age of the applicant and manager as on Applicant_BirthDate and DOB respectivity\n",
    "\n",
    "\n",
    "from datetime import datetime, date\n",
    "\n",
    "\n",
    "df['Age_Applicant'] = (date_today - df['Applicant_BirthDate']).astype('<m8[Y]')\n",
    "df['Age_Manager'] = (date_today - df['Manager_DoB']).astype('<m8[Y]')\n",
    "\n"
   ]
  },
  {
   "cell_type": "code",
   "execution_count": 136,
   "id": "a8665429",
   "metadata": {},
   "outputs": [],
   "source": [
    "#Feature : Manager_Experience"
   ]
  },
  {
   "cell_type": "code",
   "execution_count": 137,
   "id": "0b88b5df",
   "metadata": {
    "id": "0b88b5df"
   },
   "outputs": [],
   "source": [
    "#Calculate manager experience with today date and manager DOJ\n",
    "df['Manager_Experience'] = (date_today - df['Manager_DOJ']).astype('<m8[Y]')"
   ]
  },
  {
   "cell_type": "code",
   "execution_count": 138,
   "id": "9bfb4815",
   "metadata": {
    "id": "9bfb4815"
   },
   "outputs": [],
   "source": [
    "#Age_Applicant to bins\n"
   ]
  },
  {
   "cell_type": "code",
   "execution_count": 139,
   "id": "ebbca454",
   "metadata": {
    "id": "ebbca454"
   },
   "outputs": [],
   "source": [
    "df['Age_Applicant'] = pd.cut(df['Age_Applicant'],[10,30,50,70,90,100],\n",
    "       labels=['less than 30','30-50','50-70','70-90','greater than 90'])\n",
    "\n",
    "\n",
    "df['Age_Manager'] = pd.cut(df['Age_Manager'],[10,30,50,70,90,100],\n",
    "       labels=['less than 30','30-50','50-70','70-90','greater than 90'])\n",
    "\n"
   ]
  },
  {
   "cell_type": "code",
   "execution_count": 140,
   "id": "6a471198",
   "metadata": {
    "colab": {
     "base_uri": "https://localhost:8080/"
    },
    "id": "6a471198",
    "outputId": "381a02a4-c55e-4cfc-eb86-54171cb366f2"
   },
   "outputs": [
    {
     "data": {
      "text/plain": [
       "Index(['ID', 'Office_PIN', 'Application_Receipt_Date', 'Applicant_City_PIN',\n",
       "       'Applicant_Gender', 'Applicant_BirthDate', 'Applicant_Marital_Status',\n",
       "       'Applicant_Occupation', 'Applicant_Qualification', 'Manager_DOJ',\n",
       "       'Manager_Joining_Designation', 'Manager_Current_Designation',\n",
       "       'Manager_Grade', 'Manager_Status', 'Manager_Gender', 'Manager_DoB',\n",
       "       'Manager_Num_Application', 'Manager_Num_Coded', 'Manager_Business',\n",
       "       'Manager_Num_Products', 'Manager_Business2', 'Manager_Num_Products2',\n",
       "       'Business_Sourced', 'Age_Applicant', 'Age_Manager',\n",
       "       'Manager_Experience'],\n",
       "      dtype='object')"
      ]
     },
     "execution_count": 140,
     "metadata": {},
     "output_type": "execute_result"
    }
   ],
   "source": [
    "df.columns"
   ]
  },
  {
   "cell_type": "code",
   "execution_count": 141,
   "id": "32147336",
   "metadata": {
    "id": "32147336"
   },
   "outputs": [],
   "source": [
    "#Calculate Per Day Application by using Group_by for ID feature\n",
    "\n",
    "ApplicationGroupBy =  df.groupby('Application_Receipt_Date')\n",
    "df['Per Day Application'] = (ApplicationGroupBy['ID'].cumcount()+1)\n",
    "\n",
    "\n",
    "\n"
   ]
  },
  {
   "cell_type": "code",
   "execution_count": 142,
   "id": "b9491a55",
   "metadata": {
    "colab": {
     "base_uri": "https://localhost:8080/"
    },
    "id": "b9491a55",
    "outputId": "f755d429-56e0-495d-cb43-7d3b913b8877"
   },
   "outputs": [
    {
     "data": {
      "text/plain": [
       "Level 2    3208\n",
       "Level 1    2479\n",
       "Level 3    2033\n",
       "Other      1124\n",
       "Level 0     683\n",
       "Name: Manager_Current_Designation, dtype: int64"
      ]
     },
     "execution_count": 142,
     "metadata": {},
     "output_type": "execute_result"
    }
   ],
   "source": [
    "df['Manager_Current_Designation'].value_counts()"
   ]
  },
  {
   "cell_type": "code",
   "execution_count": 143,
   "id": "b8dc2fd8",
   "metadata": {
    "colab": {
     "base_uri": "https://localhost:8080/"
    },
    "id": "b8dc2fd8",
    "outputId": "869b4eb7-a816-421e-e63a-b94c76fd9cbf"
   },
   "outputs": [
    {
     "data": {
      "text/plain": [
       "0       False\n",
       "1       False\n",
       "2       False\n",
       "3       False\n",
       "4       False\n",
       "        ...  \n",
       "9522    False\n",
       "9523    False\n",
       "9524    False\n",
       "9525    False\n",
       "9526    False\n",
       "Name: Manager_Current_Designation, Length: 9527, dtype: bool"
      ]
     },
     "execution_count": 143,
     "metadata": {},
     "output_type": "execute_result"
    }
   ],
   "source": [
    "df['Manager_Current_Designation'].isnull()"
   ]
  },
  {
   "cell_type": "code",
   "execution_count": 144,
   "id": "f186a8f4",
   "metadata": {
    "id": "f186a8f4"
   },
   "outputs": [],
   "source": [
    "#SPLIT levels for manager Current Designation and joining designation of manager"
   ]
  },
  {
   "cell_type": "code",
   "execution_count": 145,
   "id": "4d3aca5a",
   "metadata": {
    "id": "4d3aca5a"
   },
   "outputs": [],
   "source": [
    "df['Manager_Current_Designation'] = df['Manager_Current_Designation'].apply(lambda x: 0 if x=='Other' else -1 if x=='Level 0' else int(x.split(' ')[-1]))\n",
    "\n",
    "\n",
    "df['Manager_Joining_Designation'] = df['Manager_Joining_Designation'].apply(lambda x: 0 if x=='Other' else -1 if x=='Level 0' else int(x.split(' ')[-1]))\n",
    "\n"
   ]
  },
  {
   "cell_type": "code",
   "execution_count": 146,
   "id": "91c6283e",
   "metadata": {
    "colab": {
     "base_uri": "https://localhost:8080/"
    },
    "id": "91c6283e",
    "outputId": "d9035ca4-7981-4b0c-8c64-0f676625f278"
   },
   "outputs": [
    {
     "data": {
      "text/plain": [
       "1     4632\n",
       "2     2787\n",
       "3     1146\n",
       "-1     683\n",
       "0      279\n",
       "Name: Manager_Joining_Designation, dtype: int64"
      ]
     },
     "execution_count": 146,
     "metadata": {},
     "output_type": "execute_result"
    }
   ],
   "source": [
    "df['Manager_Joining_Designation'].value_counts()"
   ]
  },
  {
   "cell_type": "code",
   "execution_count": 147,
   "id": "cb840ef3",
   "metadata": {},
   "outputs": [],
   "source": [
    "#Convert remaining datatypes"
   ]
  },
  {
   "cell_type": "code",
   "execution_count": 148,
   "id": "RmxlqvH05y0j",
   "metadata": {
    "id": "RmxlqvH05y0j"
   },
   "outputs": [],
   "source": [
    "df['Manager_Joining_Designation'] = df['Manager_Joining_Designation'].astype(int)"
   ]
  },
  {
   "cell_type": "code",
   "execution_count": 149,
   "id": "b187c7d4",
   "metadata": {
    "id": "b187c7d4"
   },
   "outputs": [],
   "source": [
    "df['Manager_Joining_Designation'] = df['Manager_Joining_Designation'].astype(int)\n",
    "df['Manager_Current_Designation'] = df['Manager_Current_Designation'].astype(int)"
   ]
  },
  {
   "cell_type": "code",
   "execution_count": 150,
   "id": "7Rq26mob57iF",
   "metadata": {
    "id": "7Rq26mob57iF"
   },
   "outputs": [],
   "source": [
    "#Calculte if manager is promoted, demoted or at same level as of manager's joining date"
   ]
  },
  {
   "cell_type": "code",
   "execution_count": 151,
   "id": "537f622f",
   "metadata": {
    "id": "537f622f"
   },
   "outputs": [],
   "source": [
    "df['Is_Promotion'] = (df['Manager_Current_Designation'] - df['Manager_Joining_Designation']).apply(lambda x : 'promoted' if x>0 else 'demoted' if x<0 else 'same' )\n",
    "df.loc[df['Manager_Current_Designation'] ==-1,'Is_Promotion'] = 'Not Present'\n",
    "\n"
   ]
  },
  {
   "cell_type": "code",
   "execution_count": 152,
   "id": "758406bc",
   "metadata": {
    "id": "758406bc"
   },
   "outputs": [],
   "source": [
    "#Add All manager num products and map in one column and drop other.."
   ]
  },
  {
   "cell_type": "code",
   "execution_count": 153,
   "id": "91ab0c73",
   "metadata": {
    "id": "91ab0c73"
   },
   "outputs": [],
   "source": [
    "df['Manager_Num_Products']=df['Manager_Num_Products']+df['Manager_Num_Products2']\n"
   ]
  },
  {
   "cell_type": "code",
   "execution_count": 154,
   "id": "3403caac",
   "metadata": {
    "id": "3403caac"
   },
   "outputs": [],
   "source": [
    "df.drop('Manager_Num_Products2',axis=1,inplace=True)"
   ]
  },
  {
   "cell_type": "code",
   "execution_count": null,
   "id": "ab5d4b28",
   "metadata": {
    "id": "ab5d4b28"
   },
   "outputs": [],
   "source": []
  },
  {
   "cell_type": "code",
   "execution_count": 155,
   "id": "e4e46ee3",
   "metadata": {
    "colab": {
     "base_uri": "https://localhost:8080/"
    },
    "id": "e4e46ee3",
    "outputId": "44471ceb-f3a5-4e40-e740-036396e03d1b"
   },
   "outputs": [
    {
     "data": {
      "text/plain": [
       "ID                               0\n",
       "Office_PIN                       0\n",
       "Application_Receipt_Date         0\n",
       "Applicant_City_PIN              97\n",
       "Applicant_Gender                 0\n",
       "Applicant_BirthDate             73\n",
       "Applicant_Marital_Status         0\n",
       "Applicant_Occupation             0\n",
       "Applicant_Qualification         86\n",
       "Manager_DOJ                    683\n",
       "Manager_Joining_Designation      0\n",
       "Manager_Current_Designation      0\n",
       "Manager_Grade                    0\n",
       "Manager_Status                   0\n",
       "Manager_Gender                   0\n",
       "Manager_DoB                    683\n",
       "Manager_Num_Application          0\n",
       "Manager_Num_Coded                0\n",
       "Manager_Business               683\n",
       "Manager_Num_Products             0\n",
       "Manager_Business2              683\n",
       "Business_Sourced                 0\n",
       "Age_Applicant                   73\n",
       "Age_Manager                    683\n",
       "Manager_Experience             683\n",
       "Per Day Application              0\n",
       "Is_Promotion                     0\n",
       "dtype: int64"
      ]
     },
     "execution_count": 155,
     "metadata": {},
     "output_type": "execute_result"
    }
   ],
   "source": [
    "df.isnull().sum()"
   ]
  },
  {
   "cell_type": "code",
   "execution_count": 156,
   "id": "c2af8c2f",
   "metadata": {
    "id": "c2af8c2f"
   },
   "outputs": [],
   "source": [
    "#Feature Age_Applicant "
   ]
  },
  {
   "cell_type": "code",
   "execution_count": 157,
   "id": "356be1ae",
   "metadata": {
    "id": "356be1ae"
   },
   "outputs": [],
   "source": [
    "#Age_Applicant which calculates thee age of applicant and after calculation replace fillna value with mode"
   ]
  },
  {
   "cell_type": "code",
   "execution_count": 158,
   "id": "d4c64054",
   "metadata": {
    "colab": {
     "base_uri": "https://localhost:8080/"
    },
    "id": "d4c64054",
    "outputId": "884bdf28-725d-441d-d533-cd9272fa023e"
   },
   "outputs": [
    {
     "data": {
      "text/plain": [
       "30-50              0.731436\n",
       "50-70              0.227734\n",
       "70-90              0.040618\n",
       "less than 30       0.000106\n",
       "greater than 90    0.000106\n",
       "Name: Age_Applicant, dtype: float64"
      ]
     },
     "execution_count": 158,
     "metadata": {},
     "output_type": "execute_result"
    }
   ],
   "source": [
    "df['Age_Applicant'].value_counts(normalize=True)"
   ]
  },
  {
   "cell_type": "code",
   "execution_count": 159,
   "id": "e68b6ebc",
   "metadata": {
    "id": "e68b6ebc"
   },
   "outputs": [],
   "source": [
    "df['Age_Applicant'].fillna(df['Age_Applicant'].mode()[0], inplace =True)\n"
   ]
  },
  {
   "cell_type": "code",
   "execution_count": 160,
   "id": "87bd67c0",
   "metadata": {},
   "outputs": [],
   "source": [
    "#Feature Age_Manager"
   ]
  },
  {
   "cell_type": "code",
   "execution_count": 161,
   "id": "9e7d2db6",
   "metadata": {},
   "outputs": [],
   "source": [
    "#Age_Manager which calculates thee age of applicant and after calculation replace fillna value with mode"
   ]
  },
  {
   "cell_type": "code",
   "execution_count": null,
   "id": "5e251261",
   "metadata": {},
   "outputs": [],
   "source": []
  },
  {
   "cell_type": "code",
   "execution_count": 162,
   "id": "5d8ad2ee",
   "metadata": {
    "id": "5d8ad2ee"
   },
   "outputs": [],
   "source": [
    "df['Age_Manager'].fillna(df['Age_Manager'].mode()[0], inplace =True)"
   ]
  },
  {
   "cell_type": "code",
   "execution_count": 163,
   "id": "085c2960",
   "metadata": {
    "id": "085c2960"
   },
   "outputs": [],
   "source": [
    "#Add All Manager_Business and map in one column and drop other..Replace missing values with mode"
   ]
  },
  {
   "cell_type": "code",
   "execution_count": 164,
   "id": "c447e5f4",
   "metadata": {
    "id": "c447e5f4"
   },
   "outputs": [],
   "source": [
    "\n",
    "df['Manager_Business']=df['Manager_Business'].fillna(0)\n",
    "\n",
    "df['Manager_Business2']=df['Manager_Business2'].fillna(0)\n",
    "\n",
    "df['Manager_Business']=df['Manager_Business']+df['Manager_Business2']\n",
    "\n",
    "df.drop('Manager_Business2',axis=1,inplace=True)\n",
    "\n"
   ]
  },
  {
   "cell_type": "code",
   "execution_count": 165,
   "id": "14688a16",
   "metadata": {
    "id": "14688a16"
   },
   "outputs": [],
   "source": [
    "df['Manager_Experience']=df['Manager_Experience'].fillna(df['Manager_Experience'].mode()[0])\n",
    "\n",
    "\n"
   ]
  },
  {
   "cell_type": "code",
   "execution_count": 166,
   "id": "0912678e",
   "metadata": {
    "colab": {
     "base_uri": "https://localhost:8080/"
    },
    "id": "0912678e",
    "outputId": "508d47ce-62b7-4c75-b254-d1f16701a60a"
   },
   "outputs": [
    {
     "data": {
      "text/plain": [
       "Index(['ID', 'Office_PIN', 'Application_Receipt_Date', 'Applicant_City_PIN',\n",
       "       'Applicant_Gender', 'Applicant_BirthDate', 'Applicant_Marital_Status',\n",
       "       'Applicant_Occupation', 'Applicant_Qualification', 'Manager_DOJ',\n",
       "       'Manager_Joining_Designation', 'Manager_Current_Designation',\n",
       "       'Manager_Grade', 'Manager_Status', 'Manager_Gender', 'Manager_DoB',\n",
       "       'Manager_Num_Application', 'Manager_Num_Coded', 'Manager_Business',\n",
       "       'Manager_Num_Products', 'Business_Sourced', 'Age_Applicant',\n",
       "       'Age_Manager', 'Manager_Experience', 'Per Day Application',\n",
       "       'Is_Promotion'],\n",
       "      dtype='object')"
      ]
     },
     "execution_count": 166,
     "metadata": {},
     "output_type": "execute_result"
    }
   ],
   "source": [
    "df.columns"
   ]
  },
  {
   "cell_type": "code",
   "execution_count": 167,
   "id": "fbad5c12",
   "metadata": {
    "id": "fbad5c12"
   },
   "outputs": [],
   "source": [
    "#Drop the columns\n",
    "\n",
    "df.drop(['ID','Applicant_City_PIN','Office_PIN'],axis=1,inplace=True)\n"
   ]
  },
  {
   "cell_type": "code",
   "execution_count": 168,
   "id": "olTaC_pn7BGg",
   "metadata": {
    "colab": {
     "base_uri": "https://localhost:8080/"
    },
    "id": "olTaC_pn7BGg",
    "outputId": "7dda7162-36aa-4f27-b7fd-186784017fb2"
   },
   "outputs": [
    {
     "data": {
      "text/plain": [
       "Salaried         3787\n",
       "Business         2303\n",
       "Others           1966\n",
       "Not Present      1221\n",
       "Self Employed     149\n",
       "Student           101\n",
       "Name: Applicant_Occupation, dtype: int64"
      ]
     },
     "execution_count": 168,
     "metadata": {},
     "output_type": "execute_result"
    }
   ],
   "source": [
    "df.Applicant_Occupation.value_counts()"
   ]
  },
  {
   "cell_type": "code",
   "execution_count": 169,
   "id": "PdNH_5Ph9nmK",
   "metadata": {
    "id": "PdNH_5Ph9nmK"
   },
   "outputs": [],
   "source": [
    "#replace missingg values with Applicant_Qualification\n",
    "df.Applicant_Qualification.fillna(df.Applicant_Qualification.mode()[0],inplace=True)"
   ]
  },
  {
   "cell_type": "code",
   "execution_count": 170,
   "id": "4e88286a",
   "metadata": {
    "id": "4e88286a"
   },
   "outputs": [],
   "source": [
    "#Extract category columns and perform one hot-encoding \n",
    "cat_cols =df.columns[(df.dtypes =='object') | (df.dtypes=='category')]\n",
    "cat_cols = cat_cols[cat_cols!='Business_Sourced']\n",
    "dummies = pd.get_dummies(df[cat_cols])"
   ]
  },
  {
   "cell_type": "code",
   "execution_count": null,
   "id": "Mqn09K-j_K2v",
   "metadata": {
    "id": "Mqn09K-j_K2v"
   },
   "outputs": [],
   "source": []
  },
  {
   "cell_type": "code",
   "execution_count": 171,
   "id": "UIhwOFab9oDc",
   "metadata": {
    "colab": {
     "base_uri": "https://localhost:8080/"
    },
    "id": "UIhwOFab9oDc",
    "outputId": "169826c7-5868-447b-af99-8d716c3f4d88"
   },
   "outputs": [
    {
     "data": {
      "text/plain": [
       "Application_Receipt_Date         0\n",
       "Applicant_Gender                 0\n",
       "Applicant_BirthDate             73\n",
       "Applicant_Marital_Status         0\n",
       "Applicant_Occupation             0\n",
       "Applicant_Qualification          0\n",
       "Manager_DOJ                    683\n",
       "Manager_Joining_Designation      0\n",
       "Manager_Current_Designation      0\n",
       "Manager_Grade                    0\n",
       "Manager_Status                   0\n",
       "Manager_Gender                   0\n",
       "Manager_DoB                    683\n",
       "Manager_Num_Application          0\n",
       "Manager_Num_Coded                0\n",
       "Manager_Business                 0\n",
       "Manager_Num_Products             0\n",
       "Business_Sourced                 0\n",
       "Age_Applicant                    0\n",
       "Age_Manager                      0\n",
       "Manager_Experience               0\n",
       "Per Day Application              0\n",
       "Is_Promotion                     0\n",
       "dtype: int64"
      ]
     },
     "execution_count": 171,
     "metadata": {},
     "output_type": "execute_result"
    }
   ],
   "source": [
    "df.isna().sum()"
   ]
  },
  {
   "cell_type": "code",
   "execution_count": 172,
   "id": "-tKrdpvN-VL1",
   "metadata": {
    "colab": {
     "base_uri": "https://localhost:8080/"
    },
    "id": "-tKrdpvN-VL1",
    "outputId": "6f8e7a09-46ec-4366-ebae-b821da0d47c6"
   },
   "outputs": [
    {
     "data": {
      "text/plain": [
       "Application_Receipt_Date        0\n",
       "Applicant_Gender                0\n",
       "Applicant_BirthDate            73\n",
       "Applicant_Marital_Status        0\n",
       "Applicant_Occupation            0\n",
       "                               ..\n",
       "Age_Manager_greater than 90     0\n",
       "Is_Promotion_Not Present        0\n",
       "Is_Promotion_demoted            0\n",
       "Is_Promotion_promoted           0\n",
       "Is_Promotion_same               0\n",
       "Length: 80, dtype: int64"
      ]
     },
     "execution_count": 172,
     "metadata": {},
     "output_type": "execute_result"
    }
   ],
   "source": [
    "#Concat all caulmns\n",
    "pd.concat([df,dummies],axis=1).isna().sum()"
   ]
  },
  {
   "cell_type": "code",
   "execution_count": null,
   "id": "5kXB2jhZAdU8",
   "metadata": {
    "id": "5kXB2jhZAdU8"
   },
   "outputs": [],
   "source": []
  },
  {
   "cell_type": "code",
   "execution_count": 173,
   "id": "cbfcf06b",
   "metadata": {
    "colab": {
     "base_uri": "https://localhost:8080/",
     "height": 241
    },
    "id": "cbfcf06b",
    "outputId": "24674421-0c52-4971-f8db-5b2d782d4231"
   },
   "outputs": [
    {
     "data": {
      "text/html": [
       "<div>\n",
       "<style scoped>\n",
       "    .dataframe tbody tr th:only-of-type {\n",
       "        vertical-align: middle;\n",
       "    }\n",
       "\n",
       "    .dataframe tbody tr th {\n",
       "        vertical-align: top;\n",
       "    }\n",
       "\n",
       "    .dataframe thead th {\n",
       "        text-align: right;\n",
       "    }\n",
       "</style>\n",
       "<table border=\"1\" class=\"dataframe\">\n",
       "  <thead>\n",
       "    <tr style=\"text-align: right;\">\n",
       "      <th></th>\n",
       "      <th>Application_Receipt_Date</th>\n",
       "      <th>Applicant_BirthDate</th>\n",
       "      <th>Manager_DOJ</th>\n",
       "      <th>Manager_Joining_Designation</th>\n",
       "      <th>Manager_Current_Designation</th>\n",
       "      <th>Manager_DoB</th>\n",
       "      <th>Manager_Num_Application</th>\n",
       "      <th>Manager_Business</th>\n",
       "      <th>Manager_Num_Products</th>\n",
       "      <th>Business_Sourced</th>\n",
       "      <th>...</th>\n",
       "      <th>Age_Applicant_greater than 90</th>\n",
       "      <th>Age_Manager_less than 30</th>\n",
       "      <th>Age_Manager_30-50</th>\n",
       "      <th>Age_Manager_50-70</th>\n",
       "      <th>Age_Manager_70-90</th>\n",
       "      <th>Age_Manager_greater than 90</th>\n",
       "      <th>Is_Promotion_Not Present</th>\n",
       "      <th>Is_Promotion_demoted</th>\n",
       "      <th>Is_Promotion_promoted</th>\n",
       "      <th>Is_Promotion_same</th>\n",
       "    </tr>\n",
       "  </thead>\n",
       "  <tbody>\n",
       "    <tr>\n",
       "      <th>0</th>\n",
       "      <td>2007-04-16</td>\n",
       "      <td>1971-12-19</td>\n",
       "      <td>2005-11-10</td>\n",
       "      <td>1</td>\n",
       "      <td>2</td>\n",
       "      <td>1978-02-17</td>\n",
       "      <td>2.0</td>\n",
       "      <td>670498.0</td>\n",
       "      <td>56.0</td>\n",
       "      <td>0</td>\n",
       "      <td>...</td>\n",
       "      <td>0</td>\n",
       "      <td>0</td>\n",
       "      <td>1</td>\n",
       "      <td>0</td>\n",
       "      <td>0</td>\n",
       "      <td>0</td>\n",
       "      <td>0</td>\n",
       "      <td>0</td>\n",
       "      <td>1</td>\n",
       "      <td>0</td>\n",
       "    </tr>\n",
       "    <tr>\n",
       "      <th>1</th>\n",
       "      <td>2007-04-16</td>\n",
       "      <td>1983-02-17</td>\n",
       "      <td>2005-11-10</td>\n",
       "      <td>1</td>\n",
       "      <td>2</td>\n",
       "      <td>1978-02-17</td>\n",
       "      <td>2.0</td>\n",
       "      <td>670498.0</td>\n",
       "      <td>56.0</td>\n",
       "      <td>1</td>\n",
       "      <td>...</td>\n",
       "      <td>0</td>\n",
       "      <td>0</td>\n",
       "      <td>1</td>\n",
       "      <td>0</td>\n",
       "      <td>0</td>\n",
       "      <td>0</td>\n",
       "      <td>0</td>\n",
       "      <td>0</td>\n",
       "      <td>1</td>\n",
       "      <td>0</td>\n",
       "    </tr>\n",
       "    <tr>\n",
       "      <th>2</th>\n",
       "      <td>2007-04-16</td>\n",
       "      <td>1966-01-16</td>\n",
       "      <td>2006-05-27</td>\n",
       "      <td>1</td>\n",
       "      <td>1</td>\n",
       "      <td>1969-03-03</td>\n",
       "      <td>0.0</td>\n",
       "      <td>714368.0</td>\n",
       "      <td>48.0</td>\n",
       "      <td>0</td>\n",
       "      <td>...</td>\n",
       "      <td>0</td>\n",
       "      <td>0</td>\n",
       "      <td>0</td>\n",
       "      <td>1</td>\n",
       "      <td>0</td>\n",
       "      <td>0</td>\n",
       "      <td>0</td>\n",
       "      <td>0</td>\n",
       "      <td>0</td>\n",
       "      <td>1</td>\n",
       "    </tr>\n",
       "    <tr>\n",
       "      <th>3</th>\n",
       "      <td>2007-04-16</td>\n",
       "      <td>1988-02-03</td>\n",
       "      <td>2003-08-21</td>\n",
       "      <td>1</td>\n",
       "      <td>3</td>\n",
       "      <td>1978-08-14</td>\n",
       "      <td>0.0</td>\n",
       "      <td>636712.0</td>\n",
       "      <td>44.0</td>\n",
       "      <td>0</td>\n",
       "      <td>...</td>\n",
       "      <td>0</td>\n",
       "      <td>0</td>\n",
       "      <td>1</td>\n",
       "      <td>0</td>\n",
       "      <td>0</td>\n",
       "      <td>0</td>\n",
       "      <td>0</td>\n",
       "      <td>0</td>\n",
       "      <td>1</td>\n",
       "      <td>0</td>\n",
       "    </tr>\n",
       "    <tr>\n",
       "      <th>4</th>\n",
       "      <td>2007-04-16</td>\n",
       "      <td>1985-07-04</td>\n",
       "      <td>2006-05-08</td>\n",
       "      <td>1</td>\n",
       "      <td>1</td>\n",
       "      <td>1971-02-07</td>\n",
       "      <td>2.0</td>\n",
       "      <td>460804.0</td>\n",
       "      <td>34.0</td>\n",
       "      <td>0</td>\n",
       "      <td>...</td>\n",
       "      <td>0</td>\n",
       "      <td>0</td>\n",
       "      <td>1</td>\n",
       "      <td>0</td>\n",
       "      <td>0</td>\n",
       "      <td>0</td>\n",
       "      <td>0</td>\n",
       "      <td>0</td>\n",
       "      <td>0</td>\n",
       "      <td>1</td>\n",
       "    </tr>\n",
       "  </tbody>\n",
       "</table>\n",
       "<p>5 rows × 69 columns</p>\n",
       "</div>"
      ],
      "text/plain": [
       "  Application_Receipt_Date Applicant_BirthDate Manager_DOJ  \\\n",
       "0               2007-04-16          1971-12-19  2005-11-10   \n",
       "1               2007-04-16          1983-02-17  2005-11-10   \n",
       "2               2007-04-16          1966-01-16  2006-05-27   \n",
       "3               2007-04-16          1988-02-03  2003-08-21   \n",
       "4               2007-04-16          1985-07-04  2006-05-08   \n",
       "\n",
       "   Manager_Joining_Designation  Manager_Current_Designation Manager_DoB  \\\n",
       "0                            1                            2  1978-02-17   \n",
       "1                            1                            2  1978-02-17   \n",
       "2                            1                            1  1969-03-03   \n",
       "3                            1                            3  1978-08-14   \n",
       "4                            1                            1  1971-02-07   \n",
       "\n",
       "   Manager_Num_Application  Manager_Business  Manager_Num_Products  \\\n",
       "0                      2.0          670498.0                  56.0   \n",
       "1                      2.0          670498.0                  56.0   \n",
       "2                      0.0          714368.0                  48.0   \n",
       "3                      0.0          636712.0                  44.0   \n",
       "4                      2.0          460804.0                  34.0   \n",
       "\n",
       "  Business_Sourced  ...  Age_Applicant_greater than 90  \\\n",
       "0                0  ...                              0   \n",
       "1                1  ...                              0   \n",
       "2                0  ...                              0   \n",
       "3                0  ...                              0   \n",
       "4                0  ...                              0   \n",
       "\n",
       "   Age_Manager_less than 30  Age_Manager_30-50  Age_Manager_50-70  \\\n",
       "0                         0                  1                  0   \n",
       "1                         0                  1                  0   \n",
       "2                         0                  0                  1   \n",
       "3                         0                  1                  0   \n",
       "4                         0                  1                  0   \n",
       "\n",
       "   Age_Manager_70-90  Age_Manager_greater than 90  Is_Promotion_Not Present  \\\n",
       "0                  0                            0                         0   \n",
       "1                  0                            0                         0   \n",
       "2                  0                            0                         0   \n",
       "3                  0                            0                         0   \n",
       "4                  0                            0                         0   \n",
       "\n",
       "   Is_Promotion_demoted  Is_Promotion_promoted  Is_Promotion_same  \n",
       "0                     0                      1                  0  \n",
       "1                     0                      1                  0  \n",
       "2                     0                      0                  1  \n",
       "3                     0                      1                  0  \n",
       "4                     0                      0                  1  \n",
       "\n",
       "[5 rows x 69 columns]"
      ]
     },
     "execution_count": 173,
     "metadata": {},
     "output_type": "execute_result"
    }
   ],
   "source": [
    "#Concat all caulmns\n",
    "df = pd.concat([df,dummies],axis=1)\n",
    "df = df.drop(cat_cols,axis=1)\n",
    "df.head()"
   ]
  },
  {
   "cell_type": "code",
   "execution_count": 174,
   "id": "81b527e1",
   "metadata": {
    "colab": {
     "base_uri": "https://localhost:8080/"
    },
    "id": "81b527e1",
    "outputId": "e57bccbc-3bb2-45be-e510-20ac34b7799a"
   },
   "outputs": [
    {
     "data": {
      "text/plain": [
       "(9527, 69)"
      ]
     },
     "execution_count": 174,
     "metadata": {},
     "output_type": "execute_result"
    }
   ],
   "source": [
    "df.shape"
   ]
  },
  {
   "cell_type": "code",
   "execution_count": 175,
   "id": "b17899a4",
   "metadata": {
    "colab": {
     "base_uri": "https://localhost:8080/"
    },
    "id": "b17899a4",
    "outputId": "6a344d38-9247-42ca-bcfd-437b27557113"
   },
   "outputs": [
    {
     "data": {
      "text/plain": [
       "Application_Receipt_Date       datetime64[ns]\n",
       "Applicant_BirthDate            datetime64[ns]\n",
       "Manager_DOJ                    datetime64[ns]\n",
       "Manager_Joining_Designation             int32\n",
       "Manager_Current_Designation             int32\n",
       "                                    ...      \n",
       "Age_Manager_greater than 90             uint8\n",
       "Is_Promotion_Not Present                uint8\n",
       "Is_Promotion_demoted                    uint8\n",
       "Is_Promotion_promoted                   uint8\n",
       "Is_Promotion_same                       uint8\n",
       "Length: 69, dtype: object"
      ]
     },
     "execution_count": 175,
     "metadata": {},
     "output_type": "execute_result"
    }
   ],
   "source": [
    "df.dtypes\n"
   ]
  },
  {
   "cell_type": "code",
   "execution_count": 176,
   "id": "02e29da7",
   "metadata": {
    "id": "02e29da7"
   },
   "outputs": [],
   "source": [
    "df.drop(['Application_Receipt_Date'],axis=1,inplace=True)\n"
   ]
  },
  {
   "cell_type": "code",
   "execution_count": 177,
   "id": "c151cf56",
   "metadata": {
    "colab": {
     "base_uri": "https://localhost:8080/"
    },
    "id": "c151cf56",
    "outputId": "b8ba54e6-1a0a-4c42-ab93-a7022b7bc535"
   },
   "outputs": [
    {
     "data": {
      "text/plain": [
       "Applicant_BirthDate             73\n",
       "Manager_DOJ                    683\n",
       "Manager_Joining_Designation      0\n",
       "Manager_Current_Designation      0\n",
       "Manager_DoB                    683\n",
       "                              ... \n",
       "Age_Manager_greater than 90      0\n",
       "Is_Promotion_Not Present         0\n",
       "Is_Promotion_demoted             0\n",
       "Is_Promotion_promoted            0\n",
       "Is_Promotion_same                0\n",
       "Length: 68, dtype: int64"
      ]
     },
     "execution_count": 177,
     "metadata": {},
     "output_type": "execute_result"
    }
   ],
   "source": [
    "df.isna().sum()"
   ]
  },
  {
   "cell_type": "markdown",
   "id": "f0a4950b",
   "metadata": {
    "id": "f0a4950b"
   },
   "source": [
    "### MODELLING"
   ]
  },
  {
   "cell_type": "code",
   "execution_count": 178,
   "id": "S56-BuTB6s6v",
   "metadata": {
    "colab": {
     "base_uri": "https://localhost:8080/"
    },
    "id": "S56-BuTB6s6v",
    "outputId": "e29ef843-9cda-45fd-9100-6dff9008fc37"
   },
   "outputs": [
    {
     "data": {
      "text/plain": [
       "Index(['Applicant_BirthDate', 'Manager_DOJ', 'Manager_Joining_Designation',\n",
       "       'Manager_Current_Designation', 'Manager_DoB', 'Manager_Num_Application',\n",
       "       'Manager_Business', 'Manager_Num_Products', 'Business_Sourced',\n",
       "       'Manager_Experience', 'Per Day Application', 'Applicant_Gender_F',\n",
       "       'Applicant_Gender_M', 'Applicant_Marital_Status_D',\n",
       "       'Applicant_Marital_Status_M', 'Applicant_Marital_Status_S',\n",
       "       'Applicant_Marital_Status_W', 'Applicant_Occupation_Business',\n",
       "       'Applicant_Occupation_Others', 'Applicant_Occupation_Salaried',\n",
       "       'Applicant_Occupation_Self Employed', 'Applicant_Occupation_Student',\n",
       "       'Applicant_Occupation_Not Present', 'Applicant_Qualification_Class X',\n",
       "       'Applicant_Qualification_Class XII', 'Applicant_Qualification_Graduate',\n",
       "       'Applicant_Qualification_Other', 'Applicant_Qualification_Others',\n",
       "       'Manager_Grade_1.0', 'Manager_Grade_2.0', 'Manager_Grade_3.0',\n",
       "       'Manager_Grade_4.0', 'Manager_Grade_5.0', 'Manager_Grade_6.0',\n",
       "       'Manager_Grade_7.0', 'Manager_Grade_8.0', 'Manager_Grade_9.0',\n",
       "       'Manager_Grade_10.0', 'Manager_Grade_0', 'Manager_Status_Confirmation',\n",
       "       'Manager_Status_Probation', 'Manager_Status_missing',\n",
       "       'Manager_Gender_F', 'Manager_Gender_M', 'Manager_Num_Coded_0.0',\n",
       "       'Manager_Num_Coded_1.0', 'Manager_Num_Coded_2.0',\n",
       "       'Manager_Num_Coded_3.0', 'Manager_Num_Coded_4.0',\n",
       "       'Manager_Num_Coded_5.0', 'Manager_Num_Coded_6.0',\n",
       "       'Manager_Num_Coded_7.0', 'Manager_Num_Coded_8.0',\n",
       "       'Manager_Num_Coded_9.0', 'Age_Applicant_less than 30',\n",
       "       'Age_Applicant_30-50', 'Age_Applicant_50-70', 'Age_Applicant_70-90',\n",
       "       'Age_Applicant_greater than 90', 'Age_Manager_less than 30',\n",
       "       'Age_Manager_30-50', 'Age_Manager_50-70', 'Age_Manager_70-90',\n",
       "       'Age_Manager_greater than 90', 'Is_Promotion_Not Present',\n",
       "       'Is_Promotion_demoted', 'Is_Promotion_promoted', 'Is_Promotion_same'],\n",
       "      dtype='object')"
      ]
     },
     "execution_count": 178,
     "metadata": {},
     "output_type": "execute_result"
    }
   ],
   "source": [
    "df.columns"
   ]
  },
  {
   "cell_type": "code",
   "execution_count": 179,
   "id": "c265c784",
   "metadata": {
    "id": "c265c784"
   },
   "outputs": [],
   "source": [
    "#Dropping values that wpn't add any value to model\n",
    "#creating test and validation data\n",
    "\n",
    "X = df.drop(['Business_Sourced','Applicant_BirthDate', 'Manager_DOJ', 'Manager_DoB'],axis=1)\n",
    "y = df['Business_Sourced']\n"
   ]
  },
  {
   "cell_type": "code",
   "execution_count": 181,
   "id": "7fa50dc3",
   "metadata": {
    "id": "7fa50dc3"
   },
   "outputs": [],
   "source": [
    "#Perform the test train split\n",
    "from sklearn.model_selection import train_test_split\n",
    "from sklearn.preprocessing import MinMaxScaler\n",
    "\n",
    "x_train,x_test,y_train,y_test= train_test_split(X,y,test_size=0.2,random_state=100)"
   ]
  },
  {
   "cell_type": "code",
   "execution_count": null,
   "id": "ee1a5011",
   "metadata": {
    "id": "ee1a5011"
   },
   "outputs": [],
   "source": []
  },
  {
   "cell_type": "markdown",
   "id": "8f6bff67",
   "metadata": {
    "id": "8f6bff67"
   },
   "source": [
    "#### Logistic Reg"
   ]
  },
  {
   "cell_type": "code",
   "execution_count": 182,
   "id": "adbc25b2",
   "metadata": {
    "colab": {
     "base_uri": "https://localhost:8080/"
    },
    "id": "adbc25b2",
    "outputId": "ea9e7e75-eccb-47b9-ae0f-259799091f51"
   },
   "outputs": [
    {
     "name": "stdout",
     "output_type": "stream",
     "text": [
      "Accuracy of logistic regression classifier on test set: 0.71\n"
     ]
    }
   ],
   "source": [
    "from sklearn.linear_model import LogisticRegression\n",
    "logreg = LogisticRegression(solver='liblinear',class_weight='balanced')\n",
    "log=logreg.fit(x_train, y_train)\n",
    "y_pred = log.predict(x_test)\n",
    "print('Accuracy of logistic regression classifier on test set: {:.2f}'.format(logreg.score(x_test, y_test)))"
   ]
  },
  {
   "cell_type": "code",
   "execution_count": 183,
   "id": "55fc8da5",
   "metadata": {
    "colab": {
     "base_uri": "https://localhost:8080/"
    },
    "id": "55fc8da5",
    "outputId": "6874470b-80c6-4179-f178-7094abd6d5c7"
   },
   "outputs": [
    {
     "name": "stdout",
     "output_type": "stream",
     "text": [
      "0.7309813454082383\n"
     ]
    }
   ],
   "source": [
    "print(roc_auc_score(y_test,y_pred))"
   ]
  },
  {
   "cell_type": "code",
   "execution_count": 184,
   "id": "a91b71d2",
   "metadata": {
    "colab": {
     "base_uri": "https://localhost:8080/",
     "height": 295
    },
    "id": "a91b71d2",
    "outputId": "99aa5bfb-1610-4740-b34f-22cdb772cfd8"
   },
   "outputs": [
    {
     "data": {
      "image/png": "[encoded data removed]",
      "text/plain": [
       "<Figure size 432x288 with 1 Axes>"
      ]
     },
     "metadata": {
      "needs_background": "light"
     },
     "output_type": "display_data"
    }
   ],
   "source": [
    "from sklearn.metrics import roc_auc_score\n",
    "from sklearn.metrics import roc_curve\n",
    "import matplotlib.pyplot as plt \n",
    "logit_roc_auc = roc_auc_score(y_test, logreg.predict(x_test))\n",
    "fpr, tpr, thresholds = roc_curve(y_test, logreg.predict_proba(x_test)[:,1])\n",
    "plt.figure()\n",
    "plt.plot(fpr, tpr, label='XGB Classifier (area = %0.2f)' % logit_roc_auc)\n",
    "plt.plot([0, 1], [0, 1],'r--')\n",
    "plt.xlim([0.0, 1.0])\n",
    "plt.ylim([0.0, 1.05])\n",
    "plt.xlabel('False Positive Rate')\n",
    "plt.ylabel('True Positive Rate')\n",
    "plt.title('Receiver operating characteristic')\n",
    "plt.legend(loc=\"lower right\")\n",
    "plt.savefig('Log_ROC')\n",
    "plt.show()"
   ]
  },
  {
   "cell_type": "code",
   "execution_count": 185,
   "id": "dfcd13b8",
   "metadata": {},
   "outputs": [],
   "source": [
    "#Here in Logistic Regression ROC score: 0.73"
   ]
  },
  {
   "cell_type": "markdown",
   "id": "944442a2",
   "metadata": {
    "id": "944442a2"
   },
   "source": [
    "#### RANDOM FOREST"
   ]
  },
  {
   "cell_type": "code",
   "execution_count": 186,
   "id": "5667157f",
   "metadata": {
    "colab": {
     "base_uri": "https://localhost:8080/"
    },
    "id": "5667157f",
    "outputId": "c070c30f-ec50-4323-8738-54cbe8ff6d74"
   },
   "outputs": [
    {
     "name": "stdout",
     "output_type": "stream",
     "text": [
      "0.7260413308580767\n"
     ]
    },
    {
     "data": {
      "text/plain": [
       "(0.7275948038315182, 0.7193074501573977)"
      ]
     },
     "execution_count": 186,
     "metadata": {},
     "output_type": "execute_result"
    }
   ],
   "source": [
    "#Random Forest--Attempt 1-- 0.57\n",
    "\n",
    "from sklearn.ensemble import RandomForestClassifier as rf\n",
    "from sklearn.metrics import roc_auc_score,accuracy_score\n",
    "rf_model = rf(ccp_alpha=0, criterion='entropy', max_depth=60,\n",
    "                       max_leaf_nodes=10, random_state=10,class_weight='balanced')\n",
    "\n",
    "# fitting the model\n",
    "rf_model.fit(x_train,y_train)\n",
    "\n",
    "# make training prediction\n",
    "train_yhat = rf_model.predict(x_train)\n",
    "train_score = accuracy_score(y_train, train_yhat)\n",
    "\n",
    "# make test prediction\n",
    "test_yhat = rf_model.predict(x_test)\n",
    "test_score = accuracy_score(y_test, test_yhat)\n",
    "\n",
    "\n",
    "print(roc_auc_score(y_test,test_yhat))\n",
    "train_score, test_score\n",
    "\n"
   ]
  },
  {
   "cell_type": "code",
   "execution_count": 187,
   "id": "2175b4ce",
   "metadata": {
    "colab": {
     "base_uri": "https://localhost:8080/",
     "height": 295
    },
    "id": "2175b4ce",
    "outputId": "63cd8061-2d6e-4dcd-88c1-40a115927eee"
   },
   "outputs": [
    {
     "data": {
      "image/png": "[encoded data removed]",
      "text/plain": [
       "<Figure size 432x288 with 1 Axes>"
      ]
     },
     "metadata": {
      "needs_background": "light"
     },
     "output_type": "display_data"
    }
   ],
   "source": [
    "from sklearn.metrics import roc_auc_score\n",
    "from sklearn.metrics import roc_curve\n",
    "import matplotlib.pyplot as plt \n",
    "logit_roc_auc = roc_auc_score(y_test, rf_model.predict(x_test))\n",
    "fpr, tpr, thresholds = roc_curve(y_test, rf_model.predict_proba(x_test)[:,1])\n",
    "plt.figure()\n",
    "plt.plot(fpr, tpr, label='Random Forest Classifier (area = %0.2f)' % logit_roc_auc)\n",
    "plt.plot([0, 1], [0, 1],'r--')\n",
    "plt.xlim([0.0, 1.0])\n",
    "plt.ylim([0.0, 1.05])\n",
    "plt.xlabel('False Positive Rate')\n",
    "plt.ylabel('True Positive Rate')\n",
    "plt.title('Receiver operating characteristic')\n",
    "plt.legend(loc=\"lower right\")\n",
    "plt.savefig('Log_ROC')\n",
    "plt.show()"
   ]
  },
  {
   "cell_type": "code",
   "execution_count": 188,
   "id": "d53a4621",
   "metadata": {
    "id": "d53a4621"
   },
   "outputs": [],
   "source": [
    "#Here in Random forest Classifier ROC score: 0.73"
   ]
  },
  {
   "cell_type": "code",
   "execution_count": null,
   "id": "ab7f8af9",
   "metadata": {
    "id": "ab7f8af9"
   },
   "outputs": [],
   "source": []
  },
  {
   "cell_type": "code",
   "execution_count": null,
   "id": "6dfbe09f",
   "metadata": {
    "id": "6dfbe09f"
   },
   "outputs": [],
   "source": []
  },
  {
   "cell_type": "markdown",
   "id": "cca670eb",
   "metadata": {
    "id": "cca670eb"
   },
   "source": [
    "#### XGBOOST"
   ]
  },
  {
   "cell_type": "code",
   "execution_count": 189,
   "id": "a6d8e695",
   "metadata": {
    "id": "a6d8e695"
   },
   "outputs": [],
   "source": [
    "from xgboost import XGBClassifier\n",
    "\n",
    "from sklearn.metrics import classification_report, confusion_matrix,accuracy_score\n",
    "\n",
    "from sklearn import metrics\n",
    "\n",
    "from sklearn.model_selection import GridSearchCV"
   ]
  },
  {
   "cell_type": "code",
   "execution_count": 190,
   "id": "e061c7bc",
   "metadata": {
    "colab": {
     "base_uri": "https://localhost:8080/"
    },
    "id": "e061c7bc",
    "outputId": "c600e648-a442-40a5-a32d-6bcc94acae9f"
   },
   "outputs": [
    {
     "name": "stderr",
     "output_type": "stream",
     "text": [
      "C:\\Anaconda\\lib\\site-packages\\xgboost\\sklearn.py:1146: UserWarning: The use of label encoder in XGBClassifier is deprecated and will be removed in a future release. To remove this warning, do the following: 1) Pass option use_label_encoder=False when constructing XGBClassifier object; and 2) Encode your labels (y) as integers starting with 0, i.e. 0, 1, 2, ..., [num_class - 1].\n",
      "  warnings.warn(label_encoder_deprecation_msg, UserWarning)\n"
     ]
    },
    {
     "name": "stdout",
     "output_type": "stream",
     "text": [
      "[11:45:13] WARNING: C:/Users/Administrator/workspace/xgboost-win64_release_1.4.0/src/learner.cc:573: \n",
      "Parameters: { \"min_sample_split\" } might not be used.\n",
      "\n",
      "  This may not be accurate due to some parameters are only used in language bindings but\n",
      "  passed down to XGBoost core.  Or some parameters are not used but slip through this\n",
      "  verification. Please open an issue if you find above cases.\n",
      "\n",
      "\n",
      "[11:45:13] WARNING: C:/Users/Administrator/workspace/xgboost-win64_release_1.4.0/src/learner.cc:1095: Starting in XGBoost 1.3.0, the default evaluation metric used with the objective 'binary:logistic' was changed from 'error' to 'logloss'. Explicitly set eval_metric if you'd like to restore the old behavior.\n"
     ]
    },
    {
     "data": {
      "text/plain": [
       "(0.809998687836242, 0.7465897166841553)"
      ]
     },
     "execution_count": 190,
     "metadata": {},
     "output_type": "execute_result"
    }
   ],
   "source": [
    "#Simple - XGBOOST\n",
    "import xgboost as xgb\n",
    "\n",
    "\n",
    "xg_model = xgb.XGBClassifier(max_depth=17, n_estimators= 500,min_sample_split = 5, reg_alpha= 10)\n",
    "\n",
    "xg_model.fit(x_train,y_train)\n",
    "# make training prediction\n",
    "xg_train_yhat = xg_model.predict(x_train)\n",
    "xg_train_score = accuracy_score(y_train, xg_train_yhat)\n",
    "\n",
    "# make test prediction\n",
    "xg_test_yhat = xg_model.predict(x_test)\n",
    "xg_test_score = accuracy_score(y_test, xg_test_yhat)\n",
    "\n",
    "xg_train_score, xg_test_score\n"
   ]
  },
  {
   "cell_type": "code",
   "execution_count": 191,
   "id": "-5o7nHjHHaUW",
   "metadata": {
    "colab": {
     "base_uri": "https://localhost:8080/"
    },
    "id": "-5o7nHjHHaUW",
    "outputId": "cef60fd2-6df5-4725-e968-48459bca1ad0"
   },
   "outputs": [
    {
     "name": "stdout",
     "output_type": "stream",
     "text": [
      "0.7822713214024749\n"
     ]
    }
   ],
   "source": [
    "print(roc_auc_score(y_train,xg_train_yhat))"
   ]
  },
  {
   "cell_type": "code",
   "execution_count": null,
   "id": "a6BO4xs8J8HY",
   "metadata": {
    "id": "a6BO4xs8J8HY"
   },
   "outputs": [],
   "source": []
  },
  {
   "cell_type": "code",
   "execution_count": 192,
   "id": "NZk3eNRqJyn8",
   "metadata": {
    "colab": {
     "base_uri": "https://localhost:8080/",
     "height": 295
    },
    "id": "NZk3eNRqJyn8",
    "outputId": "850826c6-4661-4a56-9a7d-c5f08d24d512"
   },
   "outputs": [
    {
     "data": {
      "image/png": "[encoded data removed]",
      "text/plain": [
       "<Figure size 432x288 with 1 Axes>"
      ]
     },
     "metadata": {
      "needs_background": "light"
     },
     "output_type": "display_data"
    }
   ],
   "source": [
    "from sklearn.metrics import roc_auc_score\n",
    "from sklearn.metrics import roc_curve\n",
    "import matplotlib.pyplot as plt \n",
    "logit_roc_auc = roc_auc_score(y_test, xg_model.predict(x_test))\n",
    "fpr, tpr, thresholds = roc_curve(y_test, xg_model.predict_proba(x_test)[:,1])\n",
    "plt.figure()\n",
    "plt.plot(fpr, tpr, label='AUC (area = %0.3f)' % logit_roc_auc)\n",
    "plt.plot([0, 1], [0, 1],'r--')\n",
    "plt.xlim([0.0, 1.0])\n",
    "plt.ylim([0.0, 1.05])\n",
    "plt.xlabel('False Positive Rate')\n",
    "plt.ylabel('True Positive Rate')\n",
    "plt.title('Receiver operating characteristic')\n",
    "plt.legend(loc=\"lower right\")\n",
    "plt.savefig('SVM_ROC')\n",
    "plt.show()"
   ]
  },
  {
   "cell_type": "code",
   "execution_count": 193,
   "id": "7fda8644",
   "metadata": {
    "colab": {
     "base_uri": "https://localhost:8080/"
    },
    "id": "7fda8644",
    "outputId": "fd23fc20-ad7e-47d8-e326-adb35bdcba9b"
   },
   "outputs": [
    {
     "name": "stdout",
     "output_type": "stream",
     "text": [
      "0.7058390860818688\n"
     ]
    }
   ],
   "source": [
    "print(roc_auc_score(y_test,xg_test_yhat))"
   ]
  },
  {
   "cell_type": "code",
   "execution_count": 194,
   "id": "b0beb93c",
   "metadata": {
    "colab": {
     "base_uri": "https://localhost:8080/"
    },
    "id": "b0beb93c",
    "outputId": "8ccc26fd-d1a0-48ec-c984-e2a8df6101e2"
   },
   "outputs": [
    {
     "name": "stderr",
     "output_type": "stream",
     "text": [
      "C:\\Anaconda\\lib\\site-packages\\xgboost\\sklearn.py:1146: UserWarning: The use of label encoder in XGBClassifier is deprecated and will be removed in a future release. To remove this warning, do the following: 1) Pass option use_label_encoder=False when constructing XGBClassifier object; and 2) Encode your labels (y) as integers starting with 0, i.e. 0, 1, 2, ..., [num_class - 1].\n",
      "  warnings.warn(label_encoder_deprecation_msg, UserWarning)\n"
     ]
    },
    {
     "name": "stdout",
     "output_type": "stream",
     "text": [
      "[11:46:04] WARNING: C:/Users/Administrator/workspace/xgboost-win64_release_1.4.0/src/learner.cc:1095: Starting in XGBoost 1.3.0, the default evaluation metric used with the objective 'binary:logistic' was changed from 'error' to 'logloss'. Explicitly set eval_metric if you'd like to restore the old behavior.\n"
     ]
    },
    {
     "data": {
      "text/plain": [
       "GridSearchCV(cv=5,\n",
       "             estimator=XGBClassifier(base_score=None, booster=None,\n",
       "                                     colsample_bylevel=None,\n",
       "                                     colsample_bynode=None,\n",
       "                                     colsample_bytree=0.8, gamma=0, gpu_id=None,\n",
       "                                     importance_type='gain',\n",
       "                                     interaction_constraints=None,\n",
       "                                     learning_rate=0.1, max_delta_step=None,\n",
       "                                     max_depth=12, min_child_weight=None,\n",
       "                                     missing=nan, monotone_constraints=None,\n",
       "                                     n_estimators=140, n_jobs=None, nthread=-1,\n",
       "                                     num_parallel_tree=None, random_state=None,\n",
       "                                     reg_alpha=None, reg_lambda=None,\n",
       "                                     scale_pos_weight=1, seed=27, subsample=0.8,\n",
       "                                     tree_method=None, validate_parameters=None,\n",
       "                                     verbosity=None),\n",
       "             n_jobs=-1,\n",
       "             param_grid={'max_depth': [9, 12, 15], 'n_estimators': [100, 120],\n",
       "                         'reg_alpha': [10, 13, 11]},\n",
       "             scoring='roc_auc')"
      ]
     },
     "execution_count": 194,
     "metadata": {},
     "output_type": "execute_result"
    }
   ],
   "source": [
    "\n",
    "param_test1 = {\n",
    " 'max_depth':[9,12,15],\n",
    " 'n_estimators':[100,120],\n",
    " 'reg_alpha':[10,13,11],\n",
    "}\n",
    "xgb1 = GridSearchCV(estimator = XGBClassifier( learning_rate =0.1, n_estimators=140, max_depth=12,\n",
    " gamma=0, subsample=0.8, colsample_bytree=0.8,\n",
    " objective= 'binary:logistic', nthread=-1, scale_pos_weight=1, seed=27), \n",
    " param_grid = param_test1, scoring='roc_auc',n_jobs=-1, cv=5)\n",
    "xgb1.fit(x_train,y_train)"
   ]
  },
  {
   "cell_type": "code",
   "execution_count": 195,
   "id": "de64e4df",
   "metadata": {
    "colab": {
     "base_uri": "https://localhost:8080/"
    },
    "id": "de64e4df",
    "outputId": "3f812905-5dd3-4c92-aa3f-89b69df5229a"
   },
   "outputs": [
    {
     "data": {
      "text/plain": [
       "{'max_depth': 12, 'n_estimators': 100, 'reg_alpha': 10}"
      ]
     },
     "execution_count": 195,
     "metadata": {},
     "output_type": "execute_result"
    }
   ],
   "source": [
    "xgb1.best_params_"
   ]
  },
  {
   "cell_type": "code",
   "execution_count": 196,
   "id": "f3b71ea6",
   "metadata": {
    "colab": {
     "base_uri": "https://localhost:8080/"
    },
    "id": "f3b71ea6",
    "outputId": "b367471e-f173-42f6-f3d4-625c0b9e2867"
   },
   "outputs": [
    {
     "data": {
      "text/plain": [
       "0.7601209806362088"
      ]
     },
     "execution_count": 196,
     "metadata": {},
     "output_type": "execute_result"
    }
   ],
   "source": [
    "roc_auc_score(y_train,xgb1.best_estimator_.predict(x_train))"
   ]
  },
  {
   "cell_type": "code",
   "execution_count": 197,
   "id": "L9X_3dt0J9q-",
   "metadata": {
    "colab": {
     "base_uri": "https://localhost:8080/",
     "height": 295
    },
    "id": "L9X_3dt0J9q-",
    "outputId": "5329059c-5079-4a32-ad73-0073e6ab46d8"
   },
   "outputs": [
    {
     "data": {
      "image/png": "[encoded data removed]",
      "text/plain": [
       "<Figure size 432x288 with 1 Axes>"
      ]
     },
     "metadata": {
      "needs_background": "light"
     },
     "output_type": "display_data"
    }
   ],
   "source": [
    "from sklearn.metrics import roc_auc_score\n",
    "from sklearn.metrics import roc_curve\n",
    "import matplotlib.pyplot as plt \n",
    "logit_roc_auc = roc_auc_score(y_test, xgb1.best_estimator_.predict(x_test))\n",
    "fpr, tpr, thresholds = roc_curve(y_test, xgb1.best_estimator_.predict_proba(x_test)[:,1])\n",
    "plt.figure()\n",
    "plt.plot(fpr, tpr, label='AUC (area = %0.3f)' % logit_roc_auc)\n",
    "plt.plot([0, 1], [0, 1],'r--')\n",
    "plt.xlim([0.0, 1.0])\n",
    "plt.ylim([0.0, 1.05])\n",
    "plt.xlabel('False Positive Rate')\n",
    "plt.ylabel('True Positive Rate')\n",
    "plt.title('Receiver operating characteristic')\n",
    "plt.legend(loc=\"lower right\")\n",
    "plt.show()"
   ]
  },
  {
   "cell_type": "code",
   "execution_count": 198,
   "id": "2f80c467",
   "metadata": {
    "id": "2f80c467"
   },
   "outputs": [],
   "source": [
    "#Here in XGBOost Classifier ROC score: 0.70"
   ]
  },
  {
   "cell_type": "markdown",
   "id": "84226e56",
   "metadata": {
    "id": "84226e56"
   },
   "source": [
    "#### TEST DATA"
   ]
  },
  {
   "cell_type": "code",
   "execution_count": 199,
   "id": "21c5357f",
   "metadata": {
    "id": "21c5357f"
   },
   "outputs": [],
   "source": [
    "test_df = pd.read_csv(\"C:/Users/ayush.chaturvedi/Downloads/test_ZkjAHF8_2shxaJa_vZtSmPc.csv\")"
   ]
  },
  {
   "cell_type": "code",
   "execution_count": 200,
   "id": "422d5cde",
   "metadata": {
    "colab": {
     "base_uri": "https://localhost:8080/",
     "height": 241
    },
    "id": "422d5cde",
    "outputId": "3af661f0-57ac-4967-bf75-775aa6c66564",
    "scrolled": true
   },
   "outputs": [
    {
     "data": {
      "text/html": [
       "<div>\n",
       "<style scoped>\n",
       "    .dataframe tbody tr th:only-of-type {\n",
       "        vertical-align: middle;\n",
       "    }\n",
       "\n",
       "    .dataframe tbody tr th {\n",
       "        vertical-align: top;\n",
       "    }\n",
       "\n",
       "    .dataframe thead th {\n",
       "        text-align: right;\n",
       "    }\n",
       "</style>\n",
       "<table border=\"1\" class=\"dataframe\">\n",
       "  <thead>\n",
       "    <tr style=\"text-align: right;\">\n",
       "      <th></th>\n",
       "      <th>ID</th>\n",
       "      <th>Office_PIN</th>\n",
       "      <th>Application_Receipt_Date</th>\n",
       "      <th>Applicant_City_PIN</th>\n",
       "      <th>Applicant_Gender</th>\n",
       "      <th>Applicant_BirthDate</th>\n",
       "      <th>Applicant_Marital_Status</th>\n",
       "      <th>Applicant_Occupation</th>\n",
       "      <th>Applicant_Qualification</th>\n",
       "      <th>Manager_DOJ</th>\n",
       "      <th>...</th>\n",
       "      <th>Manager_Grade</th>\n",
       "      <th>Manager_Status</th>\n",
       "      <th>Manager_Gender</th>\n",
       "      <th>Manager_DoB</th>\n",
       "      <th>Manager_Num_Application</th>\n",
       "      <th>Manager_Num_Coded</th>\n",
       "      <th>Manager_Business</th>\n",
       "      <th>Manager_Num_Products</th>\n",
       "      <th>Manager_Business2</th>\n",
       "      <th>Manager_Num_Products2</th>\n",
       "    </tr>\n",
       "  </thead>\n",
       "  <tbody>\n",
       "    <tr>\n",
       "      <th>0</th>\n",
       "      <td>FIN1009528</td>\n",
       "      <td>284001</td>\n",
       "      <td>7/2/2008</td>\n",
       "      <td>284001.0</td>\n",
       "      <td>M</td>\n",
       "      <td>8/5/1982</td>\n",
       "      <td>S</td>\n",
       "      <td>Salaried</td>\n",
       "      <td>Graduate</td>\n",
       "      <td>5/26/2008</td>\n",
       "      <td>...</td>\n",
       "      <td>2.0</td>\n",
       "      <td>Probation</td>\n",
       "      <td>F</td>\n",
       "      <td>10/14/1978</td>\n",
       "      <td>1.0</td>\n",
       "      <td>0.0</td>\n",
       "      <td>0.0</td>\n",
       "      <td>0.0</td>\n",
       "      <td>0.0</td>\n",
       "      <td>0.0</td>\n",
       "    </tr>\n",
       "    <tr>\n",
       "      <th>1</th>\n",
       "      <td>FIN1009529</td>\n",
       "      <td>800001</td>\n",
       "      <td>7/2/2008</td>\n",
       "      <td>800026.0</td>\n",
       "      <td>M</td>\n",
       "      <td>3/11/1968</td>\n",
       "      <td>M</td>\n",
       "      <td>Salaried</td>\n",
       "      <td>Graduate</td>\n",
       "      <td>6/24/2008</td>\n",
       "      <td>...</td>\n",
       "      <td>2.0</td>\n",
       "      <td>Probation</td>\n",
       "      <td>M</td>\n",
       "      <td>3/3/1971</td>\n",
       "      <td>2.0</td>\n",
       "      <td>0.0</td>\n",
       "      <td>0.0</td>\n",
       "      <td>0.0</td>\n",
       "      <td>0.0</td>\n",
       "      <td>0.0</td>\n",
       "    </tr>\n",
       "    <tr>\n",
       "      <th>2</th>\n",
       "      <td>FIN1009530</td>\n",
       "      <td>800001</td>\n",
       "      <td>7/2/2008</td>\n",
       "      <td>NaN</td>\n",
       "      <td>M</td>\n",
       "      <td>12/16/1984</td>\n",
       "      <td>S</td>\n",
       "      <td>NaN</td>\n",
       "      <td>Graduate</td>\n",
       "      <td>NaN</td>\n",
       "      <td>...</td>\n",
       "      <td>NaN</td>\n",
       "      <td>NaN</td>\n",
       "      <td>NaN</td>\n",
       "      <td>NaN</td>\n",
       "      <td>NaN</td>\n",
       "      <td>NaN</td>\n",
       "      <td>NaN</td>\n",
       "      <td>NaN</td>\n",
       "      <td>NaN</td>\n",
       "      <td>NaN</td>\n",
       "    </tr>\n",
       "    <tr>\n",
       "      <th>3</th>\n",
       "      <td>FIN1009531</td>\n",
       "      <td>800001</td>\n",
       "      <td>7/2/2008</td>\n",
       "      <td>844112.0</td>\n",
       "      <td>M</td>\n",
       "      <td>6/7/1971</td>\n",
       "      <td>S</td>\n",
       "      <td>Salaried</td>\n",
       "      <td>Graduate</td>\n",
       "      <td>NaN</td>\n",
       "      <td>...</td>\n",
       "      <td>NaN</td>\n",
       "      <td>NaN</td>\n",
       "      <td>NaN</td>\n",
       "      <td>NaN</td>\n",
       "      <td>NaN</td>\n",
       "      <td>NaN</td>\n",
       "      <td>NaN</td>\n",
       "      <td>NaN</td>\n",
       "      <td>NaN</td>\n",
       "      <td>NaN</td>\n",
       "    </tr>\n",
       "    <tr>\n",
       "      <th>4</th>\n",
       "      <td>FIN1009532</td>\n",
       "      <td>533101</td>\n",
       "      <td>7/2/2008</td>\n",
       "      <td>533102.0</td>\n",
       "      <td>M</td>\n",
       "      <td>7/22/1978</td>\n",
       "      <td>S</td>\n",
       "      <td>NaN</td>\n",
       "      <td>Masters of Business Administration</td>\n",
       "      <td>12/4/2007</td>\n",
       "      <td>...</td>\n",
       "      <td>3.0</td>\n",
       "      <td>Confirmation</td>\n",
       "      <td>M</td>\n",
       "      <td>6/23/1977</td>\n",
       "      <td>4.0</td>\n",
       "      <td>1.0</td>\n",
       "      <td>97352.0</td>\n",
       "      <td>3.0</td>\n",
       "      <td>97352.0</td>\n",
       "      <td>3.0</td>\n",
       "    </tr>\n",
       "  </tbody>\n",
       "</table>\n",
       "<p>5 rows × 22 columns</p>\n",
       "</div>"
      ],
      "text/plain": [
       "           ID  Office_PIN Application_Receipt_Date  Applicant_City_PIN  \\\n",
       "0  FIN1009528      284001                 7/2/2008            284001.0   \n",
       "1  FIN1009529      800001                 7/2/2008            800026.0   \n",
       "2  FIN1009530      800001                 7/2/2008                 NaN   \n",
       "3  FIN1009531      800001                 7/2/2008            844112.0   \n",
       "4  FIN1009532      533101                 7/2/2008            533102.0   \n",
       "\n",
       "  Applicant_Gender Applicant_BirthDate Applicant_Marital_Status  \\\n",
       "0                M            8/5/1982                        S   \n",
       "1                M           3/11/1968                        M   \n",
       "2                M          12/16/1984                        S   \n",
       "3                M            6/7/1971                        S   \n",
       "4                M           7/22/1978                        S   \n",
       "\n",
       "  Applicant_Occupation             Applicant_Qualification Manager_DOJ  ...  \\\n",
       "0             Salaried                            Graduate   5/26/2008  ...   \n",
       "1             Salaried                            Graduate   6/24/2008  ...   \n",
       "2                  NaN                            Graduate         NaN  ...   \n",
       "3             Salaried                            Graduate         NaN  ...   \n",
       "4                  NaN  Masters of Business Administration   12/4/2007  ...   \n",
       "\n",
       "  Manager_Grade Manager_Status  Manager_Gender Manager_DoB  \\\n",
       "0           2.0      Probation               F  10/14/1978   \n",
       "1           2.0      Probation               M    3/3/1971   \n",
       "2           NaN            NaN             NaN         NaN   \n",
       "3           NaN            NaN             NaN         NaN   \n",
       "4           3.0   Confirmation               M   6/23/1977   \n",
       "\n",
       "  Manager_Num_Application Manager_Num_Coded  Manager_Business  \\\n",
       "0                     1.0               0.0               0.0   \n",
       "1                     2.0               0.0               0.0   \n",
       "2                     NaN               NaN               NaN   \n",
       "3                     NaN               NaN               NaN   \n",
       "4                     4.0               1.0           97352.0   \n",
       "\n",
       "   Manager_Num_Products  Manager_Business2  Manager_Num_Products2  \n",
       "0                   0.0                0.0                    0.0  \n",
       "1                   0.0                0.0                    0.0  \n",
       "2                   NaN                NaN                    NaN  \n",
       "3                   NaN                NaN                    NaN  \n",
       "4                   3.0            97352.0                    3.0  \n",
       "\n",
       "[5 rows x 22 columns]"
      ]
     },
     "execution_count": 200,
     "metadata": {},
     "output_type": "execute_result"
    }
   ],
   "source": [
    "test_df.head()"
   ]
  },
  {
   "cell_type": "code",
   "execution_count": 201,
   "id": "371729e4",
   "metadata": {
    "colab": {
     "base_uri": "https://localhost:8080/"
    },
    "id": "371729e4",
    "outputId": "124661e9-3faa-4160-b7b5-8c930357599c",
    "scrolled": true
   },
   "outputs": [
    {
     "data": {
      "text/plain": [
       "Index(['ID', 'Office_PIN', 'Application_Receipt_Date', 'Applicant_City_PIN',\n",
       "       'Applicant_Gender', 'Applicant_BirthDate', 'Applicant_Marital_Status',\n",
       "       'Applicant_Occupation', 'Applicant_Qualification', 'Manager_DOJ',\n",
       "       'Manager_Joining_Designation', 'Manager_Current_Designation',\n",
       "       'Manager_Grade', 'Manager_Status', 'Manager_Gender', 'Manager_DoB',\n",
       "       'Manager_Num_Application', 'Manager_Num_Coded', 'Manager_Business',\n",
       "       'Manager_Num_Products', 'Manager_Business2', 'Manager_Num_Products2'],\n",
       "      dtype='object')"
      ]
     },
     "execution_count": 201,
     "metadata": {},
     "output_type": "execute_result"
    }
   ],
   "source": [
    "#Columns of df\n",
    "test_df.columns"
   ]
  },
  {
   "cell_type": "code",
   "execution_count": 202,
   "id": "c70ef1a9",
   "metadata": {
    "colab": {
     "base_uri": "https://localhost:8080/"
    },
    "id": "c70ef1a9",
    "outputId": "de661c72-89a6-4dab-c260-a382fdcad410"
   },
   "outputs": [
    {
     "data": {
      "text/plain": [
       "(5045, 22)"
      ]
     },
     "execution_count": 202,
     "metadata": {},
     "output_type": "execute_result"
    }
   ],
   "source": [
    "#Shape of object\n",
    "test_df.shape"
   ]
  },
  {
   "cell_type": "code",
   "execution_count": 203,
   "id": "37da92c3",
   "metadata": {
    "colab": {
     "base_uri": "https://localhost:8080/"
    },
    "id": "37da92c3",
    "outputId": "33043fa0-c771-494e-a583-32d6c6da0516",
    "scrolled": true
   },
   "outputs": [
    {
     "data": {
      "text/plain": [
       "ID                              0.000000\n",
       "Office_PIN                      0.000000\n",
       "Application_Receipt_Date        0.000000\n",
       "Applicant_City_PIN              0.673935\n",
       "Applicant_Gender                0.436075\n",
       "Applicant_BirthDate             0.455897\n",
       "Applicant_Marital_Status        0.594648\n",
       "Applicant_Occupation           19.900892\n",
       "Applicant_Qualification         0.872151\n",
       "Manager_DOJ                    16.333003\n",
       "Manager_Joining_Designation    16.333003\n",
       "Manager_Current_Designation    16.333003\n",
       "Manager_Grade                  16.333003\n",
       "Manager_Status                 16.333003\n",
       "Manager_Gender                 16.333003\n",
       "Manager_DoB                    16.333003\n",
       "Manager_Num_Application        16.333003\n",
       "Manager_Num_Coded              16.333003\n",
       "Manager_Business               16.333003\n",
       "Manager_Num_Products           16.333003\n",
       "Manager_Business2              16.333003\n",
       "Manager_Num_Products2          16.333003\n",
       "dtype: float64"
      ]
     },
     "execution_count": 203,
     "metadata": {},
     "output_type": "execute_result"
    }
   ],
   "source": [
    "#missing value percentage\n",
    "test_df.isnull().sum()/len(test_df)*100"
   ]
  },
  {
   "cell_type": "code",
   "execution_count": 204,
   "id": "2c0b2fb1",
   "metadata": {
    "colab": {
     "base_uri": "https://localhost:8080/"
    },
    "id": "2c0b2fb1",
    "outputId": "785ecfb3-46b7-436f-a6ed-b30eaea060c5",
    "scrolled": false
   },
   "outputs": [
    {
     "name": "stdout",
     "output_type": "stream",
     "text": [
      "<class 'pandas.core.frame.DataFrame'>\n",
      "RangeIndex: 5045 entries, 0 to 5044\n",
      "Data columns (total 22 columns):\n",
      " #   Column                       Non-Null Count  Dtype  \n",
      "---  ------                       --------------  -----  \n",
      " 0   ID                           5045 non-null   object \n",
      " 1   Office_PIN                   5045 non-null   int64  \n",
      " 2   Application_Receipt_Date     5045 non-null   object \n",
      " 3   Applicant_City_PIN           5011 non-null   float64\n",
      " 4   Applicant_Gender             5023 non-null   object \n",
      " 5   Applicant_BirthDate          5022 non-null   object \n",
      " 6   Applicant_Marital_Status     5015 non-null   object \n",
      " 7   Applicant_Occupation         4041 non-null   object \n",
      " 8   Applicant_Qualification      5001 non-null   object \n",
      " 9   Manager_DOJ                  4221 non-null   object \n",
      " 10  Manager_Joining_Designation  4221 non-null   object \n",
      " 11  Manager_Current_Designation  4221 non-null   object \n",
      " 12  Manager_Grade                4221 non-null   float64\n",
      " 13  Manager_Status               4221 non-null   object \n",
      " 14  Manager_Gender               4221 non-null   object \n",
      " 15  Manager_DoB                  4221 non-null   object \n",
      " 16  Manager_Num_Application      4221 non-null   float64\n",
      " 17  Manager_Num_Coded            4221 non-null   float64\n",
      " 18  Manager_Business             4221 non-null   float64\n",
      " 19  Manager_Num_Products         4221 non-null   float64\n",
      " 20  Manager_Business2            4221 non-null   float64\n",
      " 21  Manager_Num_Products2        4221 non-null   float64\n",
      "dtypes: float64(8), int64(1), object(13)\n",
      "memory usage: 867.2+ KB\n"
     ]
    }
   ],
   "source": [
    "#Info of df()\n",
    "test_df.info()"
   ]
  },
  {
   "cell_type": "code",
   "execution_count": 205,
   "id": "4a2e6bf9",
   "metadata": {
    "id": "4a2e6bf9"
   },
   "outputs": [],
   "source": [
    "# # If applicant City pin is missing thn we are putting applicants office pin.\n",
    "# test_df.loc[df['Applicant_City_PIN'].isnull(),'Applicant_City_PIN'] = test_df.loc[df['Applicant_City_PIN'].isnull(),'Office_PIN']\n",
    "\n"
   ]
  },
  {
   "cell_type": "code",
   "execution_count": 206,
   "id": "bdcbe0d9",
   "metadata": {
    "id": "bdcbe0d9"
   },
   "outputs": [],
   "source": [
    "test_df['Application_Receipt_Date'] = pd.to_datetime(test_df['Application_Receipt_Date'])\n",
    "test_df['Applicant_BirthDate'] = pd.to_datetime(test_df['Applicant_BirthDate'])\n",
    "test_df['Manager_DoB'] = pd.to_datetime(test_df['Manager_DoB'])\n",
    "test_df['Manager_DOJ'] = pd.to_datetime(test_df['Manager_DOJ'])"
   ]
  },
  {
   "cell_type": "code",
   "execution_count": 207,
   "id": "c0cf9cb0",
   "metadata": {
    "id": "c0cf9cb0"
   },
   "outputs": [],
   "source": [
    "test_df['Applicant_Gender']=test_df['Applicant_Gender'].fillna(test_df['Applicant_Gender'].mode()[0])"
   ]
  },
  {
   "cell_type": "code",
   "execution_count": null,
   "id": "0b78d2b7",
   "metadata": {
    "id": "0b78d2b7"
   },
   "outputs": [],
   "source": []
  },
  {
   "cell_type": "code",
   "execution_count": 208,
   "id": "bb38aa57",
   "metadata": {
    "id": "bb38aa57"
   },
   "outputs": [],
   "source": [
    "test_df['Applicant_Marital_Status']=test_df['Applicant_Marital_Status'].fillna(test_df['Applicant_Marital_Status'].mode()[0])"
   ]
  },
  {
   "cell_type": "code",
   "execution_count": 209,
   "id": "b9a32648",
   "metadata": {
    "id": "b9a32648"
   },
   "outputs": [],
   "source": [
    "\n",
    "test_df['Applicant_Occupation']=test_df['Applicant_Occupation'].fillna('Not Present')"
   ]
  },
  {
   "cell_type": "code",
   "execution_count": 210,
   "id": "2b6b9d77",
   "metadata": {
    "id": "2b6b9d77"
   },
   "outputs": [],
   "source": [
    "test_df['Applicant_Qualification'].replace('Masters of Business Administration','Other',inplace = True)\n",
    "test_df['Applicant_Qualification'].replace('Associate/Fellow of Institute of Company Secretories of India','Other',inplace = True)\n",
    "test_df['Applicant_Qualification'].replace('Associate / Fellow of Institute of Chartered Accountans of India','Other',inplace = True)\n",
    "test_df['Applicant_Qualification'].replace('Associate/Fellow of Insurance Institute of India','Other',inplace = True)\n",
    "test_df['Applicant_Qualification'].replace('Associate/Fellow of Acturial Society of India','Other',inplace = True)\n",
    "test_df['Applicant_Qualification'].replace('Certified Associateship of Indian Institute of Bankers','Other',inplace = True)\n",
    "test_df['Applicant_Qualification'].replace('Professional Qualification in Marketing','Other',inplace = True)\n",
    "test_df['Manager_Joining_Designation'].replace(['Level 4','Level 5','Level 6','Level 7'],'Other', inplace=True)\n",
    "test_df['Manager_Current_Designation'].replace(['Level 4','Level 5'],'Other', inplace=True)\n",
    "test_df['Manager_Grade'].replace(['5','6','7','8','9','10'],'Other', inplace=True)"
   ]
  },
  {
   "cell_type": "code",
   "execution_count": 211,
   "id": "07eaa8fc",
   "metadata": {
    "id": "07eaa8fc"
   },
   "outputs": [],
   "source": [
    "test_df['Manager_Joining_Designation']=test_df['Manager_Joining_Designation'].fillna('Level 0')"
   ]
  },
  {
   "cell_type": "code",
   "execution_count": 212,
   "id": "438e4b89",
   "metadata": {
    "id": "438e4b89"
   },
   "outputs": [],
   "source": [
    "test_df['Manager_Current_Designation']=test_df['Manager_Current_Designation'].fillna('Level 0')"
   ]
  },
  {
   "cell_type": "code",
   "execution_count": 213,
   "id": "68cb62aa",
   "metadata": {
    "id": "68cb62aa"
   },
   "outputs": [],
   "source": [
    "test_df['Manager_Grade']=test_df['Manager_Grade'].fillna(-1)"
   ]
  },
  {
   "cell_type": "code",
   "execution_count": 214,
   "id": "546d4fd0",
   "metadata": {
    "id": "546d4fd0"
   },
   "outputs": [],
   "source": [
    "test_df['Manager_Status']=test_df['Manager_Status'].fillna('missing')"
   ]
  },
  {
   "cell_type": "code",
   "execution_count": 215,
   "id": "4e40e085",
   "metadata": {
    "id": "4e40e085"
   },
   "outputs": [],
   "source": [
    "test_df['Manager_Gender']=test_df['Manager_Gender'].fillna(test_df['Manager_Gender'].mode()[0])"
   ]
  },
  {
   "cell_type": "code",
   "execution_count": 216,
   "id": "CgV9bNoR73bw",
   "metadata": {
    "id": "CgV9bNoR73bw"
   },
   "outputs": [],
   "source": [
    "test_df['Manager_Current_Designation'] = test_df['Manager_Current_Designation'].apply(lambda x: 0 if x=='Other' else -1 if x=='Level 0' else int(x.split(' ')[-1]))\n",
    "\n",
    "\n",
    "test_df['Manager_Joining_Designation'] = test_df['Manager_Joining_Designation'].apply(lambda x: 0 if x=='Other' else -1 if x=='Level 0' else int(x.split(' ')[-1]))\n"
   ]
  },
  {
   "cell_type": "code",
   "execution_count": 217,
   "id": "9a3a4c19",
   "metadata": {
    "id": "9a3a4c19"
   },
   "outputs": [],
   "source": [
    "# test_df['Manager_Current_Designation'].value_counts()\n",
    "test_df['Manager_Joining_Designation'] = test_df['Manager_Joining_Designation'].astype(int)\n",
    "test_df['Manager_Current_Designation'] = test_df['Manager_Current_Designation'].astype(int)"
   ]
  },
  {
   "cell_type": "code",
   "execution_count": 218,
   "id": "4c0e4ccd",
   "metadata": {
    "id": "4c0e4ccd"
   },
   "outputs": [],
   "source": [
    "test_df['Is_Promotion'] = (test_df['Manager_Current_Designation'] - test_df['Manager_Joining_Designation']).apply(lambda x : 'promoted' if x>0 else 'demoted' if x<0 else 'same' )\n",
    "test_df.loc[test_df['Manager_Current_Designation'] =='Level 0','Is_Promotion'] = 'Not Present'"
   ]
  },
  {
   "cell_type": "code",
   "execution_count": 219,
   "id": "194f3bba",
   "metadata": {
    "id": "194f3bba"
   },
   "outputs": [],
   "source": [
    "test_df['Is_Promotion'] = (test_df['Manager_Current_Designation'] - test_df['Manager_Joining_Designation']).apply(lambda x : 'promoted' if x>0 else 'demoted' if x<0 else 'same' )\n",
    "\n",
    "# df['Is_Promotion'] = (df['Manager_Current_Designation'] - df['Manager_Joining_Designation']).apply(lambda x : 'promoted' if x>0 else 'demoted' if x<0 else 'same' )\n",
    "test_df.loc[df['Manager_Current_Designation'] ==-1,'Is_Promotion'] = 'Not Present'\n"
   ]
  },
  {
   "cell_type": "code",
   "execution_count": 220,
   "id": "f83c1ebe",
   "metadata": {
    "id": "f83c1ebe"
   },
   "outputs": [],
   "source": [
    "test_df['Manager_Num_Application']=test_df['Manager_Num_Application'].fillna(0)"
   ]
  },
  {
   "cell_type": "code",
   "execution_count": 221,
   "id": "ab1aa48a",
   "metadata": {
    "id": "ab1aa48a"
   },
   "outputs": [],
   "source": [
    "test_df['Manager_Num_Coded']=test_df['Manager_Num_Coded'].fillna(0)"
   ]
  },
  {
   "cell_type": "code",
   "execution_count": 222,
   "id": "6f924337",
   "metadata": {
    "id": "6f924337"
   },
   "outputs": [],
   "source": [
    "test_df['Manager_Num_Products']=test_df['Manager_Num_Products'].fillna(0)\n",
    "\n",
    "test_df['Manager_Num_Products2']=test_df['Manager_Num_Products2'].fillna(0)"
   ]
  },
  {
   "cell_type": "code",
   "execution_count": 223,
   "id": "b4658d50",
   "metadata": {
    "id": "b4658d50"
   },
   "outputs": [],
   "source": [
    "date_today=pd.to_datetime(datetime.today().strftime('%Y-%m-%d'))\n",
    "test_df['Age_Applicant'] = (date_today - test_df['Applicant_BirthDate']).astype('<m8[Y]')\n",
    "test_df['Age_Manager'] = (date_today - test_df['Manager_DoB']).astype('<m8[Y]')"
   ]
  },
  {
   "cell_type": "code",
   "execution_count": null,
   "id": "6e6d7259",
   "metadata": {
    "id": "6e6d7259"
   },
   "outputs": [],
   "source": []
  },
  {
   "cell_type": "code",
   "execution_count": 224,
   "id": "b09a75bd",
   "metadata": {
    "id": "b09a75bd"
   },
   "outputs": [],
   "source": [
    "\n",
    "test_df['Manager_Experience'] = (date_today - test_df['Manager_DOJ']).astype('<m8[Y]')"
   ]
  },
  {
   "cell_type": "code",
   "execution_count": 225,
   "id": "235047e7",
   "metadata": {
    "id": "235047e7"
   },
   "outputs": [],
   "source": [
    "test_df['Age_Applicant'] = pd.cut(test_df['Age_Applicant'],[10,30,50,70,90,100],\n",
    "       labels=['less than 30','30-50','50-70','70-90','greater than 90'])\n",
    "\n",
    "\n",
    "test_df['Age_Manager'] = pd.cut(test_df['Age_Manager'],[10,30,50,70,90,100],\n",
    "       labels=['less than 30','30-50','50-70','70-90','greater than 90'])\n",
    "\n"
   ]
  },
  {
   "cell_type": "code",
   "execution_count": 226,
   "id": "c87cf8a3",
   "metadata": {
    "id": "c87cf8a3"
   },
   "outputs": [],
   "source": [
    "ApplicationGroupBy =  test_df.groupby('Application_Receipt_Date')\n",
    "test_df['Per Day Application'] = (ApplicationGroupBy['ID'].cumcount()+1)"
   ]
  },
  {
   "cell_type": "code",
   "execution_count": null,
   "id": "7c0af89e",
   "metadata": {
    "id": "7c0af89e"
   },
   "outputs": [],
   "source": []
  },
  {
   "cell_type": "code",
   "execution_count": null,
   "id": "c5d1d7a3",
   "metadata": {
    "id": "c5d1d7a3"
   },
   "outputs": [],
   "source": []
  },
  {
   "cell_type": "code",
   "execution_count": 227,
   "id": "2e79d9f5",
   "metadata": {
    "id": "2e79d9f5"
   },
   "outputs": [],
   "source": [
    "\n",
    "\n",
    "\n",
    "\n",
    "test_df['Manager_Num_Products']=test_df['Manager_Num_Products']+test_df['Manager_Num_Products2']\n",
    "\n",
    "test_df.drop('Manager_Num_Products2',axis=1,inplace=True)"
   ]
  },
  {
   "cell_type": "code",
   "execution_count": 228,
   "id": "c107db48",
   "metadata": {
    "id": "c107db48"
   },
   "outputs": [],
   "source": [
    "test_df['Age_Applicant'].fillna(test_df['Age_Applicant'].mode()[0], inplace =True)\n",
    "test_df['Age_Manager'].fillna(test_df['Age_Manager'].mode()[0], inplace =True)"
   ]
  },
  {
   "cell_type": "code",
   "execution_count": null,
   "id": "b9174976",
   "metadata": {
    "id": "b9174976"
   },
   "outputs": [],
   "source": []
  },
  {
   "cell_type": "code",
   "execution_count": null,
   "id": "ca9fc34e",
   "metadata": {
    "id": "ca9fc34e"
   },
   "outputs": [],
   "source": []
  },
  {
   "cell_type": "code",
   "execution_count": 229,
   "id": "eaa21849",
   "metadata": {
    "id": "eaa21849"
   },
   "outputs": [],
   "source": [
    "\n",
    "test_df['Manager_Business']=test_df['Manager_Business'].fillna(0)\n",
    "\n",
    "test_df['Manager_Business2']=test_df['Manager_Business2'].fillna(0)"
   ]
  },
  {
   "cell_type": "code",
   "execution_count": 230,
   "id": "391f8bd5",
   "metadata": {
    "id": "391f8bd5"
   },
   "outputs": [],
   "source": [
    "test_df['Manager_Business']=test_df['Manager_Business']+test_df['Manager_Business2']\n",
    "test_df.drop('Manager_Business2',axis=1,inplace=True)\n"
   ]
  },
  {
   "cell_type": "code",
   "execution_count": null,
   "id": "a9c56615",
   "metadata": {
    "id": "a9c56615"
   },
   "outputs": [],
   "source": [
    "\n"
   ]
  },
  {
   "cell_type": "code",
   "execution_count": null,
   "id": "8dce4040",
   "metadata": {
    "id": "8dce4040"
   },
   "outputs": [],
   "source": []
  },
  {
   "cell_type": "code",
   "execution_count": 231,
   "id": "8ee986aa",
   "metadata": {
    "id": "8ee986aa"
   },
   "outputs": [],
   "source": [
    "test_df['Manager_Experience']=test_df['Manager_Experience'].fillna(test_df['Manager_Experience'].mode()[0])"
   ]
  },
  {
   "cell_type": "code",
   "execution_count": 232,
   "id": "9a8a7fd5",
   "metadata": {
    "id": "9a8a7fd5"
   },
   "outputs": [],
   "source": [
    "test_df.drop(['Applicant_City_PIN','Office_PIN'],axis=1,inplace=True)"
   ]
  },
  {
   "cell_type": "code",
   "execution_count": 233,
   "id": "IBItgeOS_kHj",
   "metadata": {
    "id": "IBItgeOS_kHj"
   },
   "outputs": [],
   "source": [
    "test_df.Applicant_Qualification.fillna(test_df.Applicant_Qualification.mode()[0],inplace=True)"
   ]
  },
  {
   "cell_type": "code",
   "execution_count": 234,
   "id": "-wPXr2_U__Q4",
   "metadata": {
    "id": "-wPXr2_U__Q4"
   },
   "outputs": [],
   "source": [
    "test_df.Manager_Grade = test_df.Manager_Grade.astype('object')\n",
    "test_df.Manager_Num_Coded = test_df.Manager_Num_Coded.astype('object')"
   ]
  },
  {
   "cell_type": "code",
   "execution_count": 235,
   "id": "ZJ_j0OOF8f6g",
   "metadata": {
    "id": "ZJ_j0OOF8f6g"
   },
   "outputs": [],
   "source": [
    "ids = test_df['ID']\n",
    "test_df.drop('ID',inplace=True,axis=1)\n"
   ]
  },
  {
   "cell_type": "code",
   "execution_count": 236,
   "id": "7b132abe",
   "metadata": {
    "id": "7b132abe"
   },
   "outputs": [],
   "source": [
    "cat_cols =test_df.columns[(test_df.dtypes =='object') | (test_df.dtypes=='category')]\n",
    "dummies = pd.get_dummies(test_df[cat_cols],drop_first=True)"
   ]
  },
  {
   "cell_type": "code",
   "execution_count": 237,
   "id": "BMbbbyW9_-Vk",
   "metadata": {
    "colab": {
     "base_uri": "https://localhost:8080/",
     "height": 456
    },
    "id": "BMbbbyW9_-Vk",
    "outputId": "d7c725be-79af-4d20-8b9d-e8d62b82bcf1"
   },
   "outputs": [
    {
     "data": {
      "text/html": [
       "<div>\n",
       "<style scoped>\n",
       "    .dataframe tbody tr th:only-of-type {\n",
       "        vertical-align: middle;\n",
       "    }\n",
       "\n",
       "    .dataframe tbody tr th {\n",
       "        vertical-align: top;\n",
       "    }\n",
       "\n",
       "    .dataframe thead th {\n",
       "        text-align: right;\n",
       "    }\n",
       "</style>\n",
       "<table border=\"1\" class=\"dataframe\">\n",
       "  <thead>\n",
       "    <tr style=\"text-align: right;\">\n",
       "      <th></th>\n",
       "      <th>Applicant_Gender_M</th>\n",
       "      <th>Applicant_Marital_Status_M</th>\n",
       "      <th>Applicant_Marital_Status_S</th>\n",
       "      <th>Applicant_Marital_Status_W</th>\n",
       "      <th>Applicant_Occupation_Not Present</th>\n",
       "      <th>Applicant_Occupation_Others</th>\n",
       "      <th>Applicant_Occupation_Salaried</th>\n",
       "      <th>Applicant_Occupation_Self Employed</th>\n",
       "      <th>Applicant_Occupation_Student</th>\n",
       "      <th>Applicant_Qualification_Class X</th>\n",
       "      <th>...</th>\n",
       "      <th>Is_Promotion_promoted</th>\n",
       "      <th>Is_Promotion_same</th>\n",
       "      <th>Age_Applicant_30-50</th>\n",
       "      <th>Age_Applicant_50-70</th>\n",
       "      <th>Age_Applicant_70-90</th>\n",
       "      <th>Age_Applicant_greater than 90</th>\n",
       "      <th>Age_Manager_30-50</th>\n",
       "      <th>Age_Manager_50-70</th>\n",
       "      <th>Age_Manager_70-90</th>\n",
       "      <th>Age_Manager_greater than 90</th>\n",
       "    </tr>\n",
       "  </thead>\n",
       "  <tbody>\n",
       "    <tr>\n",
       "      <th>0</th>\n",
       "      <td>1</td>\n",
       "      <td>0</td>\n",
       "      <td>1</td>\n",
       "      <td>0</td>\n",
       "      <td>0</td>\n",
       "      <td>0</td>\n",
       "      <td>1</td>\n",
       "      <td>0</td>\n",
       "      <td>0</td>\n",
       "      <td>0</td>\n",
       "      <td>...</td>\n",
       "      <td>0</td>\n",
       "      <td>1</td>\n",
       "      <td>1</td>\n",
       "      <td>0</td>\n",
       "      <td>0</td>\n",
       "      <td>0</td>\n",
       "      <td>1</td>\n",
       "      <td>0</td>\n",
       "      <td>0</td>\n",
       "      <td>0</td>\n",
       "    </tr>\n",
       "    <tr>\n",
       "      <th>1</th>\n",
       "      <td>1</td>\n",
       "      <td>1</td>\n",
       "      <td>0</td>\n",
       "      <td>0</td>\n",
       "      <td>0</td>\n",
       "      <td>0</td>\n",
       "      <td>1</td>\n",
       "      <td>0</td>\n",
       "      <td>0</td>\n",
       "      <td>0</td>\n",
       "      <td>...</td>\n",
       "      <td>0</td>\n",
       "      <td>1</td>\n",
       "      <td>0</td>\n",
       "      <td>1</td>\n",
       "      <td>0</td>\n",
       "      <td>0</td>\n",
       "      <td>1</td>\n",
       "      <td>0</td>\n",
       "      <td>0</td>\n",
       "      <td>0</td>\n",
       "    </tr>\n",
       "    <tr>\n",
       "      <th>2</th>\n",
       "      <td>1</td>\n",
       "      <td>0</td>\n",
       "      <td>1</td>\n",
       "      <td>0</td>\n",
       "      <td>1</td>\n",
       "      <td>0</td>\n",
       "      <td>0</td>\n",
       "      <td>0</td>\n",
       "      <td>0</td>\n",
       "      <td>0</td>\n",
       "      <td>...</td>\n",
       "      <td>0</td>\n",
       "      <td>1</td>\n",
       "      <td>1</td>\n",
       "      <td>0</td>\n",
       "      <td>0</td>\n",
       "      <td>0</td>\n",
       "      <td>1</td>\n",
       "      <td>0</td>\n",
       "      <td>0</td>\n",
       "      <td>0</td>\n",
       "    </tr>\n",
       "    <tr>\n",
       "      <th>3</th>\n",
       "      <td>1</td>\n",
       "      <td>0</td>\n",
       "      <td>1</td>\n",
       "      <td>0</td>\n",
       "      <td>0</td>\n",
       "      <td>0</td>\n",
       "      <td>1</td>\n",
       "      <td>0</td>\n",
       "      <td>0</td>\n",
       "      <td>0</td>\n",
       "      <td>...</td>\n",
       "      <td>0</td>\n",
       "      <td>1</td>\n",
       "      <td>1</td>\n",
       "      <td>0</td>\n",
       "      <td>0</td>\n",
       "      <td>0</td>\n",
       "      <td>1</td>\n",
       "      <td>0</td>\n",
       "      <td>0</td>\n",
       "      <td>0</td>\n",
       "    </tr>\n",
       "    <tr>\n",
       "      <th>4</th>\n",
       "      <td>1</td>\n",
       "      <td>0</td>\n",
       "      <td>1</td>\n",
       "      <td>0</td>\n",
       "      <td>1</td>\n",
       "      <td>0</td>\n",
       "      <td>0</td>\n",
       "      <td>0</td>\n",
       "      <td>0</td>\n",
       "      <td>0</td>\n",
       "      <td>...</td>\n",
       "      <td>0</td>\n",
       "      <td>1</td>\n",
       "      <td>1</td>\n",
       "      <td>0</td>\n",
       "      <td>0</td>\n",
       "      <td>0</td>\n",
       "      <td>1</td>\n",
       "      <td>0</td>\n",
       "      <td>0</td>\n",
       "      <td>0</td>\n",
       "    </tr>\n",
       "    <tr>\n",
       "      <th>...</th>\n",
       "      <td>...</td>\n",
       "      <td>...</td>\n",
       "      <td>...</td>\n",
       "      <td>...</td>\n",
       "      <td>...</td>\n",
       "      <td>...</td>\n",
       "      <td>...</td>\n",
       "      <td>...</td>\n",
       "      <td>...</td>\n",
       "      <td>...</td>\n",
       "      <td>...</td>\n",
       "      <td>...</td>\n",
       "      <td>...</td>\n",
       "      <td>...</td>\n",
       "      <td>...</td>\n",
       "      <td>...</td>\n",
       "      <td>...</td>\n",
       "      <td>...</td>\n",
       "      <td>...</td>\n",
       "      <td>...</td>\n",
       "      <td>...</td>\n",
       "    </tr>\n",
       "    <tr>\n",
       "      <th>5040</th>\n",
       "      <td>0</td>\n",
       "      <td>1</td>\n",
       "      <td>0</td>\n",
       "      <td>0</td>\n",
       "      <td>0</td>\n",
       "      <td>1</td>\n",
       "      <td>0</td>\n",
       "      <td>0</td>\n",
       "      <td>0</td>\n",
       "      <td>0</td>\n",
       "      <td>...</td>\n",
       "      <td>0</td>\n",
       "      <td>1</td>\n",
       "      <td>0</td>\n",
       "      <td>1</td>\n",
       "      <td>0</td>\n",
       "      <td>0</td>\n",
       "      <td>1</td>\n",
       "      <td>0</td>\n",
       "      <td>0</td>\n",
       "      <td>0</td>\n",
       "    </tr>\n",
       "    <tr>\n",
       "      <th>5041</th>\n",
       "      <td>1</td>\n",
       "      <td>1</td>\n",
       "      <td>0</td>\n",
       "      <td>0</td>\n",
       "      <td>0</td>\n",
       "      <td>1</td>\n",
       "      <td>0</td>\n",
       "      <td>0</td>\n",
       "      <td>0</td>\n",
       "      <td>0</td>\n",
       "      <td>...</td>\n",
       "      <td>0</td>\n",
       "      <td>1</td>\n",
       "      <td>0</td>\n",
       "      <td>0</td>\n",
       "      <td>1</td>\n",
       "      <td>0</td>\n",
       "      <td>1</td>\n",
       "      <td>0</td>\n",
       "      <td>0</td>\n",
       "      <td>0</td>\n",
       "    </tr>\n",
       "    <tr>\n",
       "      <th>5042</th>\n",
       "      <td>1</td>\n",
       "      <td>1</td>\n",
       "      <td>0</td>\n",
       "      <td>0</td>\n",
       "      <td>0</td>\n",
       "      <td>0</td>\n",
       "      <td>0</td>\n",
       "      <td>0</td>\n",
       "      <td>0</td>\n",
       "      <td>0</td>\n",
       "      <td>...</td>\n",
       "      <td>0</td>\n",
       "      <td>1</td>\n",
       "      <td>1</td>\n",
       "      <td>0</td>\n",
       "      <td>0</td>\n",
       "      <td>0</td>\n",
       "      <td>1</td>\n",
       "      <td>0</td>\n",
       "      <td>0</td>\n",
       "      <td>0</td>\n",
       "    </tr>\n",
       "    <tr>\n",
       "      <th>5043</th>\n",
       "      <td>1</td>\n",
       "      <td>1</td>\n",
       "      <td>0</td>\n",
       "      <td>0</td>\n",
       "      <td>1</td>\n",
       "      <td>0</td>\n",
       "      <td>0</td>\n",
       "      <td>0</td>\n",
       "      <td>0</td>\n",
       "      <td>0</td>\n",
       "      <td>...</td>\n",
       "      <td>0</td>\n",
       "      <td>1</td>\n",
       "      <td>1</td>\n",
       "      <td>0</td>\n",
       "      <td>0</td>\n",
       "      <td>0</td>\n",
       "      <td>1</td>\n",
       "      <td>0</td>\n",
       "      <td>0</td>\n",
       "      <td>0</td>\n",
       "    </tr>\n",
       "    <tr>\n",
       "      <th>5044</th>\n",
       "      <td>1</td>\n",
       "      <td>1</td>\n",
       "      <td>0</td>\n",
       "      <td>0</td>\n",
       "      <td>1</td>\n",
       "      <td>0</td>\n",
       "      <td>0</td>\n",
       "      <td>0</td>\n",
       "      <td>0</td>\n",
       "      <td>0</td>\n",
       "      <td>...</td>\n",
       "      <td>0</td>\n",
       "      <td>1</td>\n",
       "      <td>1</td>\n",
       "      <td>0</td>\n",
       "      <td>0</td>\n",
       "      <td>0</td>\n",
       "      <td>1</td>\n",
       "      <td>0</td>\n",
       "      <td>0</td>\n",
       "      <td>0</td>\n",
       "    </tr>\n",
       "  </tbody>\n",
       "</table>\n",
       "<p>5045 rows × 45 columns</p>\n",
       "</div>"
      ],
      "text/plain": [
       "      Applicant_Gender_M  Applicant_Marital_Status_M  \\\n",
       "0                      1                           0   \n",
       "1                      1                           1   \n",
       "2                      1                           0   \n",
       "3                      1                           0   \n",
       "4                      1                           0   \n",
       "...                  ...                         ...   \n",
       "5040                   0                           1   \n",
       "5041                   1                           1   \n",
       "5042                   1                           1   \n",
       "5043                   1                           1   \n",
       "5044                   1                           1   \n",
       "\n",
       "      Applicant_Marital_Status_S  Applicant_Marital_Status_W  \\\n",
       "0                              1                           0   \n",
       "1                              0                           0   \n",
       "2                              1                           0   \n",
       "3                              1                           0   \n",
       "4                              1                           0   \n",
       "...                          ...                         ...   \n",
       "5040                           0                           0   \n",
       "5041                           0                           0   \n",
       "5042                           0                           0   \n",
       "5043                           0                           0   \n",
       "5044                           0                           0   \n",
       "\n",
       "      Applicant_Occupation_Not Present  Applicant_Occupation_Others  \\\n",
       "0                                    0                            0   \n",
       "1                                    0                            0   \n",
       "2                                    1                            0   \n",
       "3                                    0                            0   \n",
       "4                                    1                            0   \n",
       "...                                ...                          ...   \n",
       "5040                                 0                            1   \n",
       "5041                                 0                            1   \n",
       "5042                                 0                            0   \n",
       "5043                                 1                            0   \n",
       "5044                                 1                            0   \n",
       "\n",
       "      Applicant_Occupation_Salaried  Applicant_Occupation_Self Employed  \\\n",
       "0                                 1                                   0   \n",
       "1                                 1                                   0   \n",
       "2                                 0                                   0   \n",
       "3                                 1                                   0   \n",
       "4                                 0                                   0   \n",
       "...                             ...                                 ...   \n",
       "5040                              0                                   0   \n",
       "5041                              0                                   0   \n",
       "5042                              0                                   0   \n",
       "5043                              0                                   0   \n",
       "5044                              0                                   0   \n",
       "\n",
       "      Applicant_Occupation_Student  Applicant_Qualification_Class X  ...  \\\n",
       "0                                0                                0  ...   \n",
       "1                                0                                0  ...   \n",
       "2                                0                                0  ...   \n",
       "3                                0                                0  ...   \n",
       "4                                0                                0  ...   \n",
       "...                            ...                              ...  ...   \n",
       "5040                             0                                0  ...   \n",
       "5041                             0                                0  ...   \n",
       "5042                             0                                0  ...   \n",
       "5043                             0                                0  ...   \n",
       "5044                             0                                0  ...   \n",
       "\n",
       "      Is_Promotion_promoted  Is_Promotion_same  Age_Applicant_30-50  \\\n",
       "0                         0                  1                    1   \n",
       "1                         0                  1                    0   \n",
       "2                         0                  1                    1   \n",
       "3                         0                  1                    1   \n",
       "4                         0                  1                    1   \n",
       "...                     ...                ...                  ...   \n",
       "5040                      0                  1                    0   \n",
       "5041                      0                  1                    0   \n",
       "5042                      0                  1                    1   \n",
       "5043                      0                  1                    1   \n",
       "5044                      0                  1                    1   \n",
       "\n",
       "      Age_Applicant_50-70  Age_Applicant_70-90  Age_Applicant_greater than 90  \\\n",
       "0                       0                    0                              0   \n",
       "1                       1                    0                              0   \n",
       "2                       0                    0                              0   \n",
       "3                       0                    0                              0   \n",
       "4                       0                    0                              0   \n",
       "...                   ...                  ...                            ...   \n",
       "5040                    1                    0                              0   \n",
       "5041                    0                    1                              0   \n",
       "5042                    0                    0                              0   \n",
       "5043                    0                    0                              0   \n",
       "5044                    0                    0                              0   \n",
       "\n",
       "      Age_Manager_30-50  Age_Manager_50-70  Age_Manager_70-90  \\\n",
       "0                     1                  0                  0   \n",
       "1                     1                  0                  0   \n",
       "2                     1                  0                  0   \n",
       "3                     1                  0                  0   \n",
       "4                     1                  0                  0   \n",
       "...                 ...                ...                ...   \n",
       "5040                  1                  0                  0   \n",
       "5041                  1                  0                  0   \n",
       "5042                  1                  0                  0   \n",
       "5043                  1                  0                  0   \n",
       "5044                  1                  0                  0   \n",
       "\n",
       "      Age_Manager_greater than 90  \n",
       "0                               0  \n",
       "1                               0  \n",
       "2                               0  \n",
       "3                               0  \n",
       "4                               0  \n",
       "...                           ...  \n",
       "5040                            0  \n",
       "5041                            0  \n",
       "5042                            0  \n",
       "5043                            0  \n",
       "5044                            0  \n",
       "\n",
       "[5045 rows x 45 columns]"
      ]
     },
     "execution_count": 237,
     "metadata": {},
     "output_type": "execute_result"
    }
   ],
   "source": [
    "dummies"
   ]
  },
  {
   "cell_type": "code",
   "execution_count": 238,
   "id": "vAqeZYor8sm3",
   "metadata": {
    "colab": {
     "base_uri": "https://localhost:8080/"
    },
    "id": "vAqeZYor8sm3",
    "outputId": "c03c8510-1d0f-46cf-80e5-817de742768b"
   },
   "outputs": [
    {
     "data": {
      "text/plain": [
       "Index(['Applicant_Gender', 'Applicant_Marital_Status', 'Applicant_Occupation',\n",
       "       'Applicant_Qualification', 'Manager_Grade', 'Manager_Status',\n",
       "       'Manager_Gender', 'Manager_Num_Coded', 'Is_Promotion', 'Age_Applicant',\n",
       "       'Age_Manager'],\n",
       "      dtype='object')"
      ]
     },
     "execution_count": 238,
     "metadata": {},
     "output_type": "execute_result"
    }
   ],
   "source": [
    "cat_cols"
   ]
  },
  {
   "cell_type": "code",
   "execution_count": 239,
   "id": "bcab70a2",
   "metadata": {
    "colab": {
     "base_uri": "https://localhost:8080/",
     "height": 241
    },
    "id": "bcab70a2",
    "outputId": "3068ec3f-9d6c-4d51-d46b-da0b3a8193e0"
   },
   "outputs": [
    {
     "data": {
      "text/html": [
       "<div>\n",
       "<style scoped>\n",
       "    .dataframe tbody tr th:only-of-type {\n",
       "        vertical-align: middle;\n",
       "    }\n",
       "\n",
       "    .dataframe tbody tr th {\n",
       "        vertical-align: top;\n",
       "    }\n",
       "\n",
       "    .dataframe thead th {\n",
       "        text-align: right;\n",
       "    }\n",
       "</style>\n",
       "<table border=\"1\" class=\"dataframe\">\n",
       "  <thead>\n",
       "    <tr style=\"text-align: right;\">\n",
       "      <th></th>\n",
       "      <th>Application_Receipt_Date</th>\n",
       "      <th>Applicant_BirthDate</th>\n",
       "      <th>Manager_DOJ</th>\n",
       "      <th>Manager_Joining_Designation</th>\n",
       "      <th>Manager_Current_Designation</th>\n",
       "      <th>Manager_DoB</th>\n",
       "      <th>Manager_Num_Application</th>\n",
       "      <th>Manager_Business</th>\n",
       "      <th>Manager_Num_Products</th>\n",
       "      <th>Manager_Experience</th>\n",
       "      <th>...</th>\n",
       "      <th>Is_Promotion_promoted</th>\n",
       "      <th>Is_Promotion_same</th>\n",
       "      <th>Age_Applicant_30-50</th>\n",
       "      <th>Age_Applicant_50-70</th>\n",
       "      <th>Age_Applicant_70-90</th>\n",
       "      <th>Age_Applicant_greater than 90</th>\n",
       "      <th>Age_Manager_30-50</th>\n",
       "      <th>Age_Manager_50-70</th>\n",
       "      <th>Age_Manager_70-90</th>\n",
       "      <th>Age_Manager_greater than 90</th>\n",
       "    </tr>\n",
       "  </thead>\n",
       "  <tbody>\n",
       "    <tr>\n",
       "      <th>0</th>\n",
       "      <td>2008-07-02</td>\n",
       "      <td>1982-08-05</td>\n",
       "      <td>2008-05-26</td>\n",
       "      <td>1</td>\n",
       "      <td>1</td>\n",
       "      <td>1978-10-14</td>\n",
       "      <td>1.0</td>\n",
       "      <td>0.0</td>\n",
       "      <td>0.0</td>\n",
       "      <td>13.0</td>\n",
       "      <td>...</td>\n",
       "      <td>0</td>\n",
       "      <td>1</td>\n",
       "      <td>1</td>\n",
       "      <td>0</td>\n",
       "      <td>0</td>\n",
       "      <td>0</td>\n",
       "      <td>1</td>\n",
       "      <td>0</td>\n",
       "      <td>0</td>\n",
       "      <td>0</td>\n",
       "    </tr>\n",
       "    <tr>\n",
       "      <th>1</th>\n",
       "      <td>2008-07-02</td>\n",
       "      <td>1968-03-11</td>\n",
       "      <td>2008-06-24</td>\n",
       "      <td>1</td>\n",
       "      <td>1</td>\n",
       "      <td>1971-03-03</td>\n",
       "      <td>2.0</td>\n",
       "      <td>0.0</td>\n",
       "      <td>0.0</td>\n",
       "      <td>13.0</td>\n",
       "      <td>...</td>\n",
       "      <td>0</td>\n",
       "      <td>1</td>\n",
       "      <td>0</td>\n",
       "      <td>1</td>\n",
       "      <td>0</td>\n",
       "      <td>0</td>\n",
       "      <td>1</td>\n",
       "      <td>0</td>\n",
       "      <td>0</td>\n",
       "      <td>0</td>\n",
       "    </tr>\n",
       "    <tr>\n",
       "      <th>2</th>\n",
       "      <td>2008-07-02</td>\n",
       "      <td>1984-12-16</td>\n",
       "      <td>NaT</td>\n",
       "      <td>-1</td>\n",
       "      <td>-1</td>\n",
       "      <td>NaT</td>\n",
       "      <td>0.0</td>\n",
       "      <td>0.0</td>\n",
       "      <td>0.0</td>\n",
       "      <td>13.0</td>\n",
       "      <td>...</td>\n",
       "      <td>0</td>\n",
       "      <td>1</td>\n",
       "      <td>1</td>\n",
       "      <td>0</td>\n",
       "      <td>0</td>\n",
       "      <td>0</td>\n",
       "      <td>1</td>\n",
       "      <td>0</td>\n",
       "      <td>0</td>\n",
       "      <td>0</td>\n",
       "    </tr>\n",
       "    <tr>\n",
       "      <th>3</th>\n",
       "      <td>2008-07-02</td>\n",
       "      <td>1971-06-07</td>\n",
       "      <td>NaT</td>\n",
       "      <td>-1</td>\n",
       "      <td>-1</td>\n",
       "      <td>NaT</td>\n",
       "      <td>0.0</td>\n",
       "      <td>0.0</td>\n",
       "      <td>0.0</td>\n",
       "      <td>13.0</td>\n",
       "      <td>...</td>\n",
       "      <td>0</td>\n",
       "      <td>1</td>\n",
       "      <td>1</td>\n",
       "      <td>0</td>\n",
       "      <td>0</td>\n",
       "      <td>0</td>\n",
       "      <td>1</td>\n",
       "      <td>0</td>\n",
       "      <td>0</td>\n",
       "      <td>0</td>\n",
       "    </tr>\n",
       "    <tr>\n",
       "      <th>4</th>\n",
       "      <td>2008-07-02</td>\n",
       "      <td>1978-07-22</td>\n",
       "      <td>2007-12-04</td>\n",
       "      <td>2</td>\n",
       "      <td>2</td>\n",
       "      <td>1977-06-23</td>\n",
       "      <td>4.0</td>\n",
       "      <td>194704.0</td>\n",
       "      <td>6.0</td>\n",
       "      <td>13.0</td>\n",
       "      <td>...</td>\n",
       "      <td>0</td>\n",
       "      <td>1</td>\n",
       "      <td>1</td>\n",
       "      <td>0</td>\n",
       "      <td>0</td>\n",
       "      <td>0</td>\n",
       "      <td>1</td>\n",
       "      <td>0</td>\n",
       "      <td>0</td>\n",
       "      <td>0</td>\n",
       "    </tr>\n",
       "  </tbody>\n",
       "</table>\n",
       "<p>5 rows × 56 columns</p>\n",
       "</div>"
      ],
      "text/plain": [
       "  Application_Receipt_Date Applicant_BirthDate Manager_DOJ  \\\n",
       "0               2008-07-02          1982-08-05  2008-05-26   \n",
       "1               2008-07-02          1968-03-11  2008-06-24   \n",
       "2               2008-07-02          1984-12-16         NaT   \n",
       "3               2008-07-02          1971-06-07         NaT   \n",
       "4               2008-07-02          1978-07-22  2007-12-04   \n",
       "\n",
       "   Manager_Joining_Designation  Manager_Current_Designation Manager_DoB  \\\n",
       "0                            1                            1  1978-10-14   \n",
       "1                            1                            1  1971-03-03   \n",
       "2                           -1                           -1         NaT   \n",
       "3                           -1                           -1         NaT   \n",
       "4                            2                            2  1977-06-23   \n",
       "\n",
       "   Manager_Num_Application  Manager_Business  Manager_Num_Products  \\\n",
       "0                      1.0               0.0                   0.0   \n",
       "1                      2.0               0.0                   0.0   \n",
       "2                      0.0               0.0                   0.0   \n",
       "3                      0.0               0.0                   0.0   \n",
       "4                      4.0          194704.0                   6.0   \n",
       "\n",
       "   Manager_Experience  ...  Is_Promotion_promoted  Is_Promotion_same  \\\n",
       "0                13.0  ...                      0                  1   \n",
       "1                13.0  ...                      0                  1   \n",
       "2                13.0  ...                      0                  1   \n",
       "3                13.0  ...                      0                  1   \n",
       "4                13.0  ...                      0                  1   \n",
       "\n",
       "   Age_Applicant_30-50  Age_Applicant_50-70  Age_Applicant_70-90  \\\n",
       "0                    1                    0                    0   \n",
       "1                    0                    1                    0   \n",
       "2                    1                    0                    0   \n",
       "3                    1                    0                    0   \n",
       "4                    1                    0                    0   \n",
       "\n",
       "   Age_Applicant_greater than 90  Age_Manager_30-50  Age_Manager_50-70  \\\n",
       "0                              0                  1                  0   \n",
       "1                              0                  1                  0   \n",
       "2                              0                  1                  0   \n",
       "3                              0                  1                  0   \n",
       "4                              0                  1                  0   \n",
       "\n",
       "   Age_Manager_70-90  Age_Manager_greater than 90  \n",
       "0                  0                            0  \n",
       "1                  0                            0  \n",
       "2                  0                            0  \n",
       "3                  0                            0  \n",
       "4                  0                            0  \n",
       "\n",
       "[5 rows x 56 columns]"
      ]
     },
     "execution_count": 239,
     "metadata": {},
     "output_type": "execute_result"
    }
   ],
   "source": [
    "test_df = pd.concat([test_df,dummies],axis=1)\n",
    "test_df = test_df.drop(cat_cols,axis=1)\n",
    "test_df.head()"
   ]
  },
  {
   "cell_type": "code",
   "execution_count": 240,
   "id": "e9d4742a",
   "metadata": {
    "id": "e9d4742a"
   },
   "outputs": [],
   "source": [
    "test_df.drop(['Application_Receipt_Date','Applicant_BirthDate', 'Manager_DOJ', 'Manager_DoB'],axis=1,inplace=True)"
   ]
  },
  {
   "cell_type": "code",
   "execution_count": 241,
   "id": "75e1dfd6",
   "metadata": {
    "colab": {
     "base_uri": "https://localhost:8080/"
    },
    "id": "75e1dfd6",
    "outputId": "d3b0986e-da6b-49de-ce95-3983bdb3a394"
   },
   "outputs": [
    {
     "data": {
      "text/plain": [
       "{'Age_Applicant_less than 30',\n",
       " 'Age_Manager_less than 30',\n",
       " 'Applicant_Gender_F',\n",
       " 'Applicant_Marital_Status_D',\n",
       " 'Applicant_Occupation_Business',\n",
       " 'Is_Promotion_Not Present',\n",
       " 'Manager_Gender_F',\n",
       " 'Manager_Grade_0',\n",
       " 'Manager_Grade_1.0',\n",
       " 'Manager_Grade_10.0',\n",
       " 'Manager_Grade_9.0',\n",
       " 'Manager_Num_Coded_0.0',\n",
       " 'Manager_Status_Confirmation'}"
      ]
     },
     "execution_count": 241,
     "metadata": {},
     "output_type": "execute_result"
    }
   ],
   "source": [
    "( set(x_train.columns) - set(test_df.columns))"
   ]
  },
  {
   "cell_type": "code",
   "execution_count": 242,
   "id": "o14Xk6AeEph3",
   "metadata": {
    "id": "o14Xk6AeEph3"
   },
   "outputs": [],
   "source": [
    "for i in list( set(x_train.columns) - set(test_df.columns)):\n",
    "  test_df[i] = 0\n",
    "test_df = test_df[x_train.columns]"
   ]
  },
  {
   "cell_type": "code",
   "execution_count": 248,
   "id": "WJgFBjUsCScX",
   "metadata": {
    "colab": {
     "base_uri": "https://localhost:8080/"
    },
    "id": "WJgFBjUsCScX",
    "outputId": "626029a1-7431-4933-a63f-89d9582445b0"
   },
   "outputs": [
    {
     "data": {
      "text/plain": [
       "array([0.68573356, 0.65663284, 0.6285954 , ..., 0.02747592, 0.02038538,\n",
       "       0.0211085 ], dtype=float32)"
      ]
     },
     "execution_count": 248,
     "metadata": {},
     "output_type": "execute_result"
    }
   ],
   "source": [
    "xgb1.predict_proba(test_df)[:,1]"
   ]
  },
  {
   "cell_type": "code",
   "execution_count": 244,
   "id": "4_iRJYYfFtdG",
   "metadata": {
    "colab": {
     "base_uri": "https://localhost:8080/"
    },
    "id": "4_iRJYYfFtdG",
    "outputId": "8b2aee5e-d3a4-4158-c119-10f880d05a99"
   },
   "outputs": [
    {
     "data": {
      "text/plain": [
       "0       FIN1009528\n",
       "1       FIN1009529\n",
       "2       FIN1009530\n",
       "3       FIN1009531\n",
       "4       FIN1009532\n",
       "           ...    \n",
       "5040    FIN1014568\n",
       "5041    FIN1014569\n",
       "5042    FIN1014570\n",
       "5043    FIN1014571\n",
       "5044    FIN1014572\n",
       "Name: ID, Length: 5045, dtype: object"
      ]
     },
     "execution_count": 244,
     "metadata": {},
     "output_type": "execute_result"
    }
   ],
   "source": [
    "ids"
   ]
  },
  {
   "cell_type": "code",
   "execution_count": 251,
   "id": "c11d0c72",
   "metadata": {
    "colab": {
     "base_uri": "https://localhost:8080/",
     "height": 204
    },
    "id": "c11d0c72",
    "outputId": "9f83537e-e08c-4b59-ab00-823e362b550d"
   },
   "outputs": [
    {
     "data": {
      "text/html": [
       "<div>\n",
       "<style scoped>\n",
       "    .dataframe tbody tr th:only-of-type {\n",
       "        vertical-align: middle;\n",
       "    }\n",
       "\n",
       "    .dataframe tbody tr th {\n",
       "        vertical-align: top;\n",
       "    }\n",
       "\n",
       "    .dataframe thead th {\n",
       "        text-align: right;\n",
       "    }\n",
       "</style>\n",
       "<table border=\"1\" class=\"dataframe\">\n",
       "  <thead>\n",
       "    <tr style=\"text-align: right;\">\n",
       "      <th></th>\n",
       "      <th>ID</th>\n",
       "      <th>Business_Sourced</th>\n",
       "    </tr>\n",
       "  </thead>\n",
       "  <tbody>\n",
       "    <tr>\n",
       "      <th>0</th>\n",
       "      <td>FIN1009528</td>\n",
       "      <td>0.685734</td>\n",
       "    </tr>\n",
       "    <tr>\n",
       "      <th>1</th>\n",
       "      <td>FIN1009529</td>\n",
       "      <td>0.656633</td>\n",
       "    </tr>\n",
       "    <tr>\n",
       "      <th>2</th>\n",
       "      <td>FIN1009530</td>\n",
       "      <td>0.628595</td>\n",
       "    </tr>\n",
       "    <tr>\n",
       "      <th>3</th>\n",
       "      <td>FIN1009531</td>\n",
       "      <td>0.640210</td>\n",
       "    </tr>\n",
       "    <tr>\n",
       "      <th>4</th>\n",
       "      <td>FIN1009532</td>\n",
       "      <td>0.614121</td>\n",
       "    </tr>\n",
       "  </tbody>\n",
       "</table>\n",
       "</div>"
      ],
      "text/plain": [
       "           ID  Business_Sourced\n",
       "0  FIN1009528          0.685734\n",
       "1  FIN1009529          0.656633\n",
       "2  FIN1009530          0.628595\n",
       "3  FIN1009531          0.640210\n",
       "4  FIN1009532          0.614121"
      ]
     },
     "execution_count": 251,
     "metadata": {},
     "output_type": "execute_result"
    }
   ],
   "source": [
    "# final_data=pd.DataFrame()\n",
    "# #test1 = testdata\n",
    "\n",
    "# final_data['ID']=ids\n",
    "# final_data['Business_Sourced']=xgb1.predict_proba(test_df)[:,1]\n",
    "# final_data\n",
    "result = pd.DataFrame({'ID':ids,'Business_Sourced':xgb1.predict_proba(test_df)[:,1]})\n",
    "result.to_csv('result2.csv', index=False)\n",
    "result.head()"
   ]
  },
  {
   "cell_type": "code",
   "execution_count": null,
   "id": "0y6arVsnHFBr",
   "metadata": {
    "id": "0y6arVsnHFBr"
   },
   "outputs": [],
   "source": []
  },
  {
   "cell_type": "code",
   "execution_count": null,
   "id": "e09f6a64",
   "metadata": {},
   "outputs": [],
   "source": []
  }
 ],
 "metadata": {
  "colab": {
   "collapsed_sections": [],
   "name": "FINAL ASSESSMENT SMART_AGENT.ipynb",
   "provenance": []
  },
  "kernelspec": {
   "display_name": "Python 3",
   "language": "python",
   "name": "python3"
  },
  "language_info": {
   "codemirror_mode": {
    "name": "ipython",
    "version": 3
   },
   "file_extension": ".py",
   "mimetype": "text/x-python",
   "name": "python",
   "nbconvert_exporter": "python",
   "pygments_lexer": "ipython3",
   "version": "3.8.8"
  }
 },
 "nbformat": 4,
 "nbformat_minor": 5
}
